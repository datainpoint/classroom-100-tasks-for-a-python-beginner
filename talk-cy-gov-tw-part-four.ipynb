{
 "cells": [
  {
   "cell_type": "markdown",
   "id": "headed-garden",
   "metadata": {
    "slideshow": {
     "slide_type": "slide"
    }
   },
   "source": [
    "# Python 程式語言進階課程：程式設計（第四部分）\n",
    "\n",
    "> 監察院，2023-02-09\n",
    "\n",
    "[數聚點](https://www.datainpoint.com) | 郭耀仁 <yaojenkuo@ntu.edu.tw>"
   ]
  },
  {
   "cell_type": "markdown",
   "id": "excellent-prairie",
   "metadata": {
    "slideshow": {
     "slide_type": "subslide"
    }
   },
   "source": [
    "## 流程控制\n",
    "\n",
    "- 起：任務 40\n",
    "- 迄：任務 49"
   ]
  },
  {
   "cell_type": "markdown",
   "id": "heard-minute",
   "metadata": {
    "slideshow": {
     "slide_type": "subslide"
    }
   },
   "source": [
    "## 什麼是流程控制\n",
    "\n",
    "多數程式語言都會從程式碼的第一列開始按照列（Row-wise）的順序往下讀取並且執行，但是在某些情況下，我們會希望依據特定的條件來決定程式的執行與否、重複次數以及錯誤發生時該如何應對，這時就可以透過流程控制的結構機制來滿足這些情況。"
   ]
  },
  {
   "cell_type": "markdown",
   "id": "interim-certificate",
   "metadata": {
    "slideshow": {
     "slide_type": "subslide"
    }
   },
   "source": [
    "## 我們將要學習的流程控制\n",
    "\n",
    "- 條件敘述。\n",
    "- 迴圈。\n",
    "- 例外處理。"
   ]
  },
  {
   "cell_type": "markdown",
   "id": "alternate-interim",
   "metadata": {
    "slideshow": {
     "slide_type": "subslide"
    }
   },
   "source": [
    "## 什麼是程式區塊\n",
    "\n",
    "> 程式區塊（Code block）有時也被稱為複合語句，是將程式組合並產生依附關係的結構，由一個或多個敘述所組成。\n",
    "\n",
    "來源：<https://en.wikipedia.org/wiki/Block_(programming)>"
   ]
  },
  {
   "cell_type": "markdown",
   "id": "arbitrary-johns",
   "metadata": {
    "slideshow": {
     "slide_type": "subslide"
    }
   },
   "source": [
    "## Python 使用四個空白作為縮排（Indentation）標註程式區塊\n",
    "\n",
    "- 多數程式語言使用大括號 `{}` 來標註程式碼所依附的特定保留字。\n",
    "- 一段程式碼的依附關係從縮排開始直到第一個未縮排的結束。\n",
    "- 縮排必須隨著依附保留字的數量而增加。"
   ]
  },
  {
   "cell_type": "markdown",
   "id": "legal-cooperative",
   "metadata": {
    "slideshow": {
     "slide_type": "subslide"
    }
   },
   "source": [
    "## 什麼時候需要用到程式區塊\n",
    "\n",
    "- 流程控制。\n",
    "- 定義函數與類別。"
   ]
  },
  {
   "cell_type": "markdown",
   "id": "average-criminal",
   "metadata": {
    "slideshow": {
     "slide_type": "subslide"
    }
   },
   "source": [
    "## 什麼是條件敘述\n",
    "\n",
    "> 條件敘述是依指定運算的結果為 `False` 或 `True`，來決定是否執行一段程式區塊。\n",
    "\n",
    "來源：https://en.wikipedia.org/wiki/Conditional_(computer_programming)"
   ]
  },
  {
   "cell_type": "markdown",
   "id": "complex-exemption",
   "metadata": {
    "slideshow": {
     "slide_type": "subslide"
    }
   },
   "source": [
    "## 使用「條件」與「縮排」建立條件敘述\n",
    "\n",
    "- 條件指的是一段能夠被解讀為 `bool` 的敘述。\n",
    "- 縮排是 Python 用來辨識程式碼依附區塊的結構，要特別留意。"
   ]
  },
  {
   "cell_type": "markdown",
   "id": "entitled-retreat",
   "metadata": {
    "slideshow": {
     "slide_type": "subslide"
    }
   },
   "source": [
    "## 使用 `if` 依據條件決定是否執行程式區塊\n",
    "\n",
    "```python\n",
    "if 條件:\n",
    "    # 依附 if 敘述的程式區塊。\n",
    "    # 當條件為 True 的時候程式區塊才會被執行。\n",
    "```"
   ]
  },
  {
   "cell_type": "markdown",
   "id": "committed-mills",
   "metadata": {
    "slideshow": {
     "slide_type": "subslide"
    }
   },
   "source": [
    "## 使用關係運算符或者邏輯運算符描述條件\n",
    "\n",
    "- 關係運算符：`==`, `!=`, `>`, `<`, `>=`, `<=`, `in`, `not in`\n",
    "- 邏輯運算符：`and`, `or`, `not`"
   ]
  },
  {
   "cell_type": "code",
   "execution_count": null,
   "id": "toxic-breed",
   "metadata": {
    "slideshow": {
     "slide_type": "subslide"
    }
   },
   "outputs": [],
   "source": [
    "def return_message_if_positive(x: int) -> str:\n",
    "    if x > 0:\n",
    "        return f\"{x} is positive.\"\n",
    "\n",
    "print(return_message_if_positive(56))\n",
    "print(return_message_if_positive(-56))\n",
    "print(return_message_if_positive(0))"
   ]
  },
  {
   "cell_type": "markdown",
   "id": "fourth-aside",
   "metadata": {
    "slideshow": {
     "slide_type": "subslide"
    }
   },
   "source": [
    "## 使用 `if...else...` 依據條件決定執行兩個程式區塊其中的一個\n",
    "\n",
    "```python\n",
    "if 條件:\n",
    "    # 依附 if 敘述的程式區塊。\n",
    "    # 當條件為 True 的時候會被執行。\n",
    "else:\n",
    "    # 依附 else 敘述的程式區塊。\n",
    "    # 當條件為 False 的時候會被執行。\n",
    "```"
   ]
  },
  {
   "cell_type": "code",
   "execution_count": null,
   "id": "broke-somalia",
   "metadata": {
    "slideshow": {
     "slide_type": "subslide"
    }
   },
   "outputs": [],
   "source": [
    "def return_message_whether_positive_or_not(x: int) -> str:\n",
    "    if x > 0:\n",
    "        return f\"{x} is positive.\"\n",
    "    else:\n",
    "        return f\"{x} is not positive.\"\n",
    "\n",
    "print(return_message_whether_positive_or_not(56))\n",
    "print(return_message_whether_positive_or_not(0))\n",
    "print(return_message_whether_positive_or_not(-56))"
   ]
  },
  {
   "cell_type": "markdown",
   "id": "relevant-domestic",
   "metadata": {
    "slideshow": {
     "slide_type": "subslide"
    }
   },
   "source": [
    "## 使用 `if...elif...else...` 依據條件決定執行多個程式區塊其中的一個\n",
    "\n",
    "```python\n",
    "if 條件一:\n",
    "    # 依附 if 敘述的程式區塊。\n",
    "    # 當條件一為 True 的時候會被執行。\n",
    "elif 條件二:\n",
    "    # 依附 elif 敘述的程式區塊。\n",
    "    # 當條件一為 False 、條件二為 True 的時候會被執行。\n",
    "else:\n",
    "    # 依附 else 敘述的程式區塊。\n",
    "    # 當條件一、條件二均為 False 的時候會被執行。\n",
    "```"
   ]
  },
  {
   "cell_type": "code",
   "execution_count": null,
   "id": "fiscal-tissue",
   "metadata": {
    "slideshow": {
     "slide_type": "subslide"
    }
   },
   "outputs": [],
   "source": [
    "def return_message_whether_positive_negative_or_neutral(x: int) -> str:\n",
    "    if x > 0:\n",
    "        return f\"{x} is positive.\"\n",
    "    elif x < 0:\n",
    "        return f\"{x} is negative.\"\n",
    "    else:\n",
    "        return f\"{x} is neutral.\"\n",
    "\n",
    "print(return_message_whether_positive_negative_or_neutral(56))\n",
    "print(return_message_whether_positive_negative_or_neutral(-56))\n",
    "print(return_message_whether_positive_negative_or_neutral(0))"
   ]
  },
  {
   "cell_type": "markdown",
   "id": "blocked-engineer",
   "metadata": {
    "slideshow": {
     "slide_type": "subslide"
    }
   },
   "source": [
    "## 使用 `if...elif...` 把所有的條件都寫清楚\n",
    "\n",
    "不一定非要加入 `else`"
   ]
  },
  {
   "cell_type": "code",
   "execution_count": null,
   "id": "honey-gothic",
   "metadata": {
    "slideshow": {
     "slide_type": "-"
    }
   },
   "outputs": [],
   "source": [
    "def return_message_whether_positive_negative_or_neutral(x: int) -> str:\n",
    "    if x > 0:\n",
    "        return f\"{x} is positive.\"\n",
    "    elif x < 0:\n",
    "        return f\"{x} is negative.\"\n",
    "    elif x == 0:\n",
    "        return f\"{x} is neutral.\"\n",
    "\n",
    "print(return_message_whether_positive_negative_or_neutral(56))\n",
    "print(return_message_whether_positive_negative_or_neutral(-56))\n",
    "print(return_message_whether_positive_negative_or_neutral(0))"
   ]
  },
  {
   "cell_type": "markdown",
   "id": "fancy-illness",
   "metadata": {
    "slideshow": {
     "slide_type": "subslide"
    }
   },
   "source": [
    "## 一組條件敘述的結構僅會執行「其中一個」程式區塊\n",
    "\n",
    "- 如果條件彼此之間**互斥**，寫作條件的先後順序**沒有**影響。\n",
    "- 如果條件彼此之間**非互斥**，寫作條件的先後順序**有**影響。"
   ]
  },
  {
   "cell_type": "markdown",
   "id": "middle-essay",
   "metadata": {
    "slideshow": {
     "slide_type": "subslide"
    }
   },
   "source": [
    "## 以自行定義的 `return_message_whether_positive_negative_or_neutral()` 函數為例\n",
    "\n",
    "- 我們將條件一 `x > 0` 更改為 `x >= 0` 讓條件一與條件三**非互斥**\n",
    "- 我們將條件二 `x < 0` 更改為 `x <= 0` 讓條件二與條件三**非互斥**"
   ]
  },
  {
   "cell_type": "markdown",
   "id": "impaired-commitment",
   "metadata": {
    "slideshow": {
     "slide_type": "subslide"
    }
   },
   "source": [
    "## 維持原本寫作條件的先後順序\n",
    "\n",
    "輸入零使得條件一為 `True`，因為一組條件敘述的結構僅會執行「其中一個」程式區塊的特性，條件三以及它的程式區塊將永遠沒有派上用場的機會。"
   ]
  },
  {
   "cell_type": "code",
   "execution_count": null,
   "id": "perfect-christianity",
   "metadata": {
    "slideshow": {
     "slide_type": "-"
    }
   },
   "outputs": [],
   "source": [
    "def return_message_whether_positive_negative_or_neutral(x: int) -> str:\n",
    "    if x >= 0:\n",
    "        return f\"{x} is positive.\"\n",
    "    elif x <= 0:\n",
    "        return f\"{x} is negative.\"\n",
    "    elif x == 0:\n",
    "        return f\"{x} is neutral.\"\n",
    "\n",
    "print(return_message_whether_positive_negative_or_neutral(0))"
   ]
  },
  {
   "cell_type": "markdown",
   "id": "loved-snowboard",
   "metadata": {
    "slideshow": {
     "slide_type": "subslide"
    }
   },
   "source": [
    "## 調整寫作條件的先後順序\n",
    "\n",
    "將條件三與條件一的順序互換，這時函數的運作才會跟原本條件彼此之間**互斥**時相同。"
   ]
  },
  {
   "cell_type": "code",
   "execution_count": null,
   "id": "sporting-shadow",
   "metadata": {},
   "outputs": [],
   "source": [
    "def return_message_whether_positive_negative_or_neutral(x: int) -> str:\n",
    "    if x == 0:   \n",
    "        return f\"{x} is neutral.\"\n",
    "    elif x <= 0:\n",
    "        return f\"{x} is negative.\"\n",
    "    elif x >= 0:\n",
    "        return f\"{x} is positive.\"\n",
    "\n",
    "print(return_message_whether_positive_negative_or_neutral(0))"
   ]
  },
  {
   "cell_type": "markdown",
   "id": "funky-shell",
   "metadata": {
    "slideshow": {
     "slide_type": "subslide"
    }
   },
   "source": [
    "## 以 Fizz buzz 為例\n",
    "\n",
    "> 從 1 數到 100，碰到 3 的倍數改為 Fizz、碰到 5 的倍數改為 Buzz，碰到 15 的倍數改為 Fizz Buzz，其餘情況不改動。\n",
    "\n",
    "來源：<https://en.wikipedia.org/wiki/Fizz_buzz>"
   ]
  },
  {
   "cell_type": "markdown",
   "id": "mental-illinois",
   "metadata": {
    "slideshow": {
     "slide_type": "subslide"
    }
   },
   "source": [
    "## Fizz buzz 值得注意的地方\n",
    "\n",
    "條件彼此之間**非**互斥（15 是 3 與 5 的公倍數），寫作條件的先後順序**有**影響。"
   ]
  },
  {
   "cell_type": "markdown",
   "id": "wicked-kidney",
   "metadata": {
    "slideshow": {
     "slide_type": "subslide"
    }
   },
   "source": [
    "## 使用 `if...elif...` 定義 `fizz_buzz()` 函數"
   ]
  },
  {
   "cell_type": "code",
   "execution_count": null,
   "id": "suspended-relief",
   "metadata": {
    "slideshow": {
     "slide_type": "-"
    }
   },
   "outputs": [],
   "source": [
    "def fizz_buzz(x: int):\n",
    "    if x % 3 != 0 and x % 5 != 0 and x % 15 != 0:\n",
    "        return x\n",
    "    elif x % 15 == 0:\n",
    "        return \"Fizz Buzz\"\n",
    "    elif x % 3 == 0:\n",
    "        return \"Fizz\"\n",
    "    elif x % 5 == 0:\n",
    "        return \"Buzz\"\n",
    "\n",
    "print(fizz_buzz(2))\n",
    "print(fizz_buzz(3))\n",
    "print(fizz_buzz(5))\n",
    "print(fizz_buzz(15))"
   ]
  },
  {
   "cell_type": "markdown",
   "id": "acquired-fetish",
   "metadata": {
    "slideshow": {
     "slide_type": "subslide"
    }
   },
   "source": [
    "## 使用 `if...elif...else...` 定義 `fizz_buzz()` 函數"
   ]
  },
  {
   "cell_type": "code",
   "execution_count": null,
   "id": "amino-calcium",
   "metadata": {},
   "outputs": [],
   "source": [
    "def fizz_buzz(x: int):\n",
    "    if x % 15 == 0:\n",
    "        return \"Fizz Buzz\"\n",
    "    elif x % 3 == 0:\n",
    "        return \"Fizz\"\n",
    "    elif x % 5 == 0:\n",
    "        return \"Buzz\"\n",
    "    else:\n",
    "        return x\n",
    "\n",
    "print(fizz_buzz(2))\n",
    "print(fizz_buzz(3))\n",
    "print(fizz_buzz(5))\n",
    "print(fizz_buzz(15))"
   ]
  },
  {
   "cell_type": "markdown",
   "id": "middle-sunglasses",
   "metadata": {
    "slideshow": {
     "slide_type": "subslide"
    }
   },
   "source": [
    "## 假如在寫作條件敘述時不想要去考慮條件的先後順序\n",
    "\n",
    "那就要記得把條件描述為**互斥**。"
   ]
  },
  {
   "cell_type": "code",
   "execution_count": null,
   "id": "cubic-chosen",
   "metadata": {},
   "outputs": [],
   "source": [
    "def fizz_buzz(x: int):\n",
    "    if x % 3 == 0 and x % 15 != 0:\n",
    "        return \"Fizz\"\n",
    "    elif x % 5 == 0 and x % 15 != 0:\n",
    "        return \"Buzz\"\n",
    "    elif x % 15 == 0:\n",
    "        return \"Fizz Buzz\"\n",
    "    else:\n",
    "        return x\n",
    "\n",
    "print(fizz_buzz(2))\n",
    "print(fizz_buzz(3))\n",
    "print(fizz_buzz(5))\n",
    "print(fizz_buzz(15))"
   ]
  },
  {
   "cell_type": "markdown",
   "id": "furnished-brooklyn",
   "metadata": {
    "slideshow": {
     "slide_type": "subslide"
    }
   },
   "source": [
    "## 什麼是迴圈\n",
    "\n",
    "> 迴圈是流程控制的其中一種技巧，可以讓寫作一次的程式區塊被重複執行，常見的應用是重複執行直到條件不成立時或走訪可迭代類別中的所有元素。\n",
    "\n",
    "來源：<https://en.wikipedia.org/wiki/Control_flow#Loops>"
   ]
  },
  {
   "cell_type": "markdown",
   "id": "western-footage",
   "metadata": {
    "slideshow": {
     "slide_type": "subslide"
    }
   },
   "source": [
    "## 迴圈的三個要素\n",
    "\n",
    "1. 起始。\n",
    "2. 終止。\n",
    "3. 如何從起始到終止。"
   ]
  },
  {
   "cell_type": "markdown",
   "id": "prompt-knock",
   "metadata": {
    "slideshow": {
     "slide_type": "subslide"
    }
   },
   "source": [
    "## 兩種常見的迴圈\n",
    "\n",
    "1. `while` 迴圈：重複執行程式區塊直到條件為 `False` 的時候。\n",
    "2. `for` 迴圈：走訪可迭代類別中的所有元素。"
   ]
  },
  {
   "cell_type": "markdown",
   "id": "advised-screw",
   "metadata": {
    "slideshow": {
     "slide_type": "subslide"
    }
   },
   "source": [
    "## 使用 `while` 依據條件決定是否重複執行程式區塊\n",
    "\n",
    "```python\n",
    "while 條件:\n",
    "    # 依附 while 敘述的程式區塊。\n",
    "    # 當條件為 True 的時候程式區塊會被重複執行。\n",
    "    # 當條件為 False 的時候停止執行程式區塊。\n",
    "```"
   ]
  },
  {
   "cell_type": "markdown",
   "id": "scheduled-consciousness",
   "metadata": {
    "slideshow": {
     "slide_type": "subslide"
    }
   },
   "source": [
    "## 使用關係運算符或者邏輯運算符描述條件\n",
    "\n",
    "- 關係運算符：`==`, `!=`, `>`, `<`, `>=`, `<=`, `in`, `not in`\n",
    "- 邏輯運算符：`and`, `or`, `not`"
   ]
  },
  {
   "cell_type": "markdown",
   "id": "pleased-universal",
   "metadata": {
    "slideshow": {
     "slide_type": "subslide"
    }
   },
   "source": [
    "## 如何寫作一個 `while` 迴圈\n",
    "\n",
    "- 在迴圈程式區塊之前定義一個物件設定起始值。\n",
    "- 設計條件讓程式區塊重複執行的次數符合我們的需求。\n",
    "- 記得在程式區塊中更新物件的值。"
   ]
  },
  {
   "cell_type": "markdown",
   "id": "boring-background",
   "metadata": {
    "slideshow": {
     "slide_type": "subslide"
    }
   },
   "source": [
    "## 如何寫作一個 `while` 迴圈：印出 5 次 `\"Hello, world!\"`\n",
    "\n",
    "透過 [pythontutor.com](https://pythontutor.com/visualize.html#code=number_of_prints%20%3D%200%0Awhile%20number_of_prints%20%3C%205%3A%0A%20%20%20%20print%28%22Hello,%20world!%22%29%0A%20%20%20%20number_of_prints%20%3D%20number_of_prints%20%2B%201&cumulative=false&curInstr=0&heapPrimitives=nevernest&mode=display&origin=opt-frontend.js&py=3&rawInputLstJSON=%5B%5D&textReferences=false) 拆解程式執行的每個步驟。"
   ]
  },
  {
   "cell_type": "code",
   "execution_count": null,
   "id": "dated-fighter",
   "metadata": {},
   "outputs": [],
   "source": [
    "number_of_prints = 0\n",
    "while number_of_prints < 5:\n",
    "    print(\"Hello, world!\")\n",
    "    number_of_prints = number_of_prints + 1"
   ]
  },
  {
   "cell_type": "markdown",
   "id": "academic-foundation",
   "metadata": {
    "slideshow": {
     "slide_type": "subslide"
    }
   },
   "source": [
    "## 在程式區塊中更新物件的值更常會使用複合運算符（Compound operators）\n",
    "\n",
    "- `integer += 1` 等同於 `integer = integer + 1` \n",
    "- `integer -= 1` 等同於 `integer = integer - 1` \n",
    "- `integer *= 1` 等同於 `integer = integer * 1` \n",
    "- `integer /= 1` 等同於 `integer = integer / 1` \n",
    "- ...等。"
   ]
  },
  {
   "cell_type": "markdown",
   "id": "hungry-violation",
   "metadata": {
    "slideshow": {
     "slide_type": "subslide"
    }
   },
   "source": [
    "## 如何寫作一個 `while` 迴圈：印出小於 10 的奇數\n",
    "\n",
    "透過 [pythontutor.com](https://pythontutor.com/visualize.html#code=odd%20%3D%201%0Awhile%20odd%20%3C%2010%3A%0A%20%20%20%20print%28odd%29%0A%20%20%20%20odd%20%2B%3D%202%20%23%20odd%20%3D%20odd%20%2B%202&cumulative=false&curInstr=0&heapPrimitives=nevernest&mode=display&origin=opt-frontend.js&py=3&rawInputLstJSON=%5B%5D&textReferences=false) 拆解程式執行的每個步驟。"
   ]
  },
  {
   "cell_type": "code",
   "execution_count": null,
   "id": "moved-elizabeth",
   "metadata": {},
   "outputs": [],
   "source": [
    "odd = 1\n",
    "while odd < 10:\n",
    "    print(odd)\n",
    "    odd += 2 # odd = odd + 2"
   ]
  },
  {
   "cell_type": "markdown",
   "id": "upset-millennium",
   "metadata": {
    "slideshow": {
     "slide_type": "subslide"
    }
   },
   "source": [
    "## 如何寫作一個 `while` 迴圈：從週一印到週五\n",
    "\n",
    "透過 [pythontutor.com](https://pythontutor.com/visualize.html#code=weekdays%20%3D%20%5B%22Monday%22,%20%22Tuesday%22,%20%22Wednesday%22,%20%22Thursday%22,%20%22Friday%22%5D%0Aindex%20%3D%200%0Awhile%20index%20%3C%20len%28weekdays%29%3A%0A%20%20%20%20print%28weekdays%5Bindex%5D%29%0A%20%20%20%20index%20%2B%3D%201&cumulative=false&curInstr=0&heapPrimitives=nevernest&mode=display&origin=opt-frontend.js&py=3&rawInputLstJSON=%5B%5D&textReferences=false) 拆解程式執行的每個步驟。"
   ]
  },
  {
   "cell_type": "code",
   "execution_count": null,
   "id": "raised-somerset",
   "metadata": {},
   "outputs": [],
   "source": [
    "weekdays = [\"Monday\", \"Tuesday\", \"Wednesday\", \"Thursday\", \"Friday\"]\n",
    "index = 0\n",
    "while index < len(weekdays):\n",
    "    print(weekdays[index])\n",
    "    index += 1"
   ]
  },
  {
   "cell_type": "markdown",
   "id": "affiliated-exhaust",
   "metadata": {
    "slideshow": {
     "slide_type": "subslide"
    }
   },
   "source": [
    "## 使用 `for` 走訪可迭代類別（Iterables）中的所有元素\n",
    "\n",
    "```python\n",
    "for 元素 in 可迭代類別:\n",
    "    # 依附 for 敘述的程式區塊。\n",
    "    # 當可迭代類別還沒有走訪完的時候程式區塊會被重複執行。\n",
    "    # 當可迭代類別走訪完的時候停止執行程式區塊。\n",
    "```"
   ]
  },
  {
   "cell_type": "markdown",
   "id": "documented-cooperative",
   "metadata": {
    "slideshow": {
     "slide_type": "subslide"
    }
   },
   "source": [
    "## 什麼是可迭代類別\n",
    "\n",
    "具有一次回傳其中一個資料值特性的類別、輸入到內建函數 `iter()` 不會產生錯誤的類別，都屬於可迭代類別（Iterables），常見的有 `str` 與資料結構。\n",
    "\n",
    "- 資料類別：`str`\n",
    "- 資料結構類別：`list`、`tuple`、`dict`、`set`"
   ]
  },
  {
   "cell_type": "code",
   "execution_count": null,
   "id": "portuguese-arena",
   "metadata": {
    "slideshow": {
     "slide_type": "-"
    }
   },
   "outputs": [],
   "source": [
    "luke = \"Luke Skywalker\"\n",
    "primes = [2, 3, 5, 7, 11]\n",
    "iter(luke)\n",
    "iter(primes)"
   ]
  },
  {
   "cell_type": "markdown",
   "id": "conventional-complexity",
   "metadata": {
    "slideshow": {
     "slide_type": "subslide"
    }
   },
   "source": [
    "## 什麼是不可迭代的類別\n",
    "\n",
    "任何輸入到內建函數 `iter()` 會產生錯誤的類別都是不可迭代類別，像是 `int`、`float` 與 `bool` 等。"
   ]
  },
  {
   "cell_type": "code",
   "execution_count": null,
   "id": "corporate-wheat",
   "metadata": {
    "slideshow": {
     "slide_type": "subslide"
    }
   },
   "outputs": [],
   "source": [
    "i_am_int = 5566\n",
    "try:\n",
    "    iter(i_am_int)\n",
    "except TypeError as error_message:\n",
    "    print(error_message)"
   ]
  },
  {
   "cell_type": "code",
   "execution_count": null,
   "id": "wooden-burden",
   "metadata": {
    "slideshow": {
     "slide_type": "-"
    }
   },
   "outputs": [],
   "source": [
    "i_am_float = 5566.0\n",
    "try:\n",
    "    iter(i_am_float)\n",
    "except TypeError as error_message:\n",
    "    print(error_message)"
   ]
  },
  {
   "cell_type": "code",
   "execution_count": null,
   "id": "different-wings",
   "metadata": {},
   "outputs": [],
   "source": [
    "i_am_bool = False\n",
    "try:\n",
    "    iter(i_am_bool)\n",
    "except TypeError as error_message:\n",
    "    print(error_message)"
   ]
  },
  {
   "cell_type": "markdown",
   "id": "academic-cattle",
   "metadata": {
    "slideshow": {
     "slide_type": "subslide"
    }
   },
   "source": [
    "## 如何寫作一個 `for` 迴圈\n",
    "\n",
    "- 建立一個可迭代類別。\n",
    "- 可迭代類別如果是數列，可透過內建函數 `range()` 建立。"
   ]
  },
  {
   "cell_type": "markdown",
   "id": "minimal-import",
   "metadata": {
    "slideshow": {
     "slide_type": "subslide"
    }
   },
   "source": [
    "## `range()` 函數有三個參數可以設定數列內容\n",
    "\n",
    "1. `start` 數列的起始整數，即第 0 個整數（包含），預設值為 0。\n",
    "2. `stop` 數列的終止整數，即第 -1 個整數（排除）。\n",
    "3. `step` 數列的公差，預設值為 1。"
   ]
  },
  {
   "cell_type": "code",
   "execution_count": null,
   "id": "northern-southeast",
   "metadata": {
    "slideshow": {
     "slide_type": "-"
    }
   },
   "outputs": [],
   "source": [
    "help(range)"
   ]
  },
  {
   "cell_type": "markdown",
   "id": "quantitative-correspondence",
   "metadata": {
    "slideshow": {
     "slide_type": "subslide"
    }
   },
   "source": [
    "## 如何寫作一個 `for` 迴圈：印出 5 次 `\"Hello, world!\"`\n",
    "\n",
    "透過 [pythontutor.com](https://pythontutor.com/visualize.html#code=for%20element%20in%20range%280,%205,%201%29%3A%0A%20%20%20%20print%28%22Hello,%20world!%22%29&cumulative=false&curInstr=0&heapPrimitives=nevernest&mode=display&origin=opt-frontend.js&py=3&rawInputLstJSON=%5B%5D&textReferences=false) 拆解程式執行的每個步驟。"
   ]
  },
  {
   "cell_type": "code",
   "execution_count": null,
   "id": "derived-fraud",
   "metadata": {
    "slideshow": {
     "slide_type": "-"
    }
   },
   "outputs": [],
   "source": [
    "for element in range(0, 5, 1):\n",
    "    print(\"Hello, world!\")"
   ]
  },
  {
   "cell_type": "markdown",
   "id": "elect-child",
   "metadata": {
    "slideshow": {
     "slide_type": "subslide"
    }
   },
   "source": [
    "## （沒有什麼用的冷知識）如果程式區塊中並沒有用到可迭代類別中的元素\n",
    "\n",
    "可以將元素命名為 `_` 特別點明。"
   ]
  },
  {
   "cell_type": "code",
   "execution_count": null,
   "id": "confirmed-mission",
   "metadata": {
    "slideshow": {
     "slide_type": "-"
    }
   },
   "outputs": [],
   "source": [
    "for _ in range(0, 5, 1):\n",
    "    print(\"Hello, world!\")"
   ]
  },
  {
   "cell_type": "markdown",
   "id": "breathing-stuff",
   "metadata": {
    "slideshow": {
     "slide_type": "subslide"
    }
   },
   "source": [
    "## 如何寫作一個 `for` 迴圈：印出小於 10 的奇數\n",
    "\n",
    "透過 [pythontutor.com](https://pythontutor.com/visualize.html#code=for%20odd%20in%20range%281,%2010,%202%29%3A%0A%20%20%20%20print%28odd%29&cumulative=false&curInstr=0&heapPrimitives=nevernest&mode=display&origin=opt-frontend.js&py=3&rawInputLstJSON=%5B%5D&textReferences=false) 拆解程式執行的每個步驟。"
   ]
  },
  {
   "cell_type": "code",
   "execution_count": null,
   "id": "english-marsh",
   "metadata": {},
   "outputs": [],
   "source": [
    "for odd in range(1, 10, 2):\n",
    "    print(odd)"
   ]
  },
  {
   "cell_type": "markdown",
   "id": "executive-willow",
   "metadata": {
    "slideshow": {
     "slide_type": "subslide"
    }
   },
   "source": [
    "## 如何寫作一個 `for` 迴圈：從週一印到週五\n",
    "\n",
    "透過 [pythontutor.com](https://pythontutor.com/visualize.html#code=weekdays%20%3D%20%5B%22Monday%22,%20%22Tuesday%22,%20%22Wednesday%22,%20%22Thursday%22,%20%22Friday%22%5D%0Afor%20weekday%20in%20weekdays%3A%0A%20%20%20%20print%28weekday%29&cumulative=false&curInstr=0&heapPrimitives=nevernest&mode=display&origin=opt-frontend.js&py=3&rawInputLstJSON=%5B%5D&textReferences=false) 拆解程式執行的每個步驟。"
   ]
  },
  {
   "cell_type": "code",
   "execution_count": null,
   "id": "occupied-connecticut",
   "metadata": {},
   "outputs": [],
   "source": [
    "weekdays = [\"Monday\", \"Tuesday\", \"Wednesday\", \"Thursday\", \"Friday\"]\n",
    "for weekday in weekdays:\n",
    "    print(weekday)"
   ]
  },
  {
   "cell_type": "markdown",
   "id": "painful-broadway",
   "metadata": {
    "slideshow": {
     "slide_type": "subslide"
    }
   },
   "source": [
    "## 如何抉擇使用哪種迴圈，`for` 迴圈或 `while` 迴圈\n",
    "\n",
    "- 先思考問題是否能夠建立可迭代類別？\n",
    "- 如果可以，代表程式區塊被重複執行的次數**已知**，選擇 `for` 迴圈。\n",
    "- 如果不可以，代表程式區塊被重複執行的次數**未知**，選擇 `while` 迴圈。"
   ]
  },
  {
   "cell_type": "markdown",
   "id": "flush-athletics",
   "metadata": {
    "slideshow": {
     "slide_type": "subslide"
    }
   },
   "source": [
    "## 重複執行的次數未知：輾轉相除法"
   ]
  },
  {
   "cell_type": "code",
   "execution_count": null,
   "id": "young-soccer",
   "metadata": {},
   "outputs": [],
   "source": [
    "def divide_reiteratively(x: int, divisor: int):\n",
    "    while x > 0:\n",
    "        remainder = x % divisor\n",
    "        quotient = x // divisor\n",
    "        print(f\"{x} / {divisor} = {quotient} ... {remainder}\")\n",
    "        x //= divisor"
   ]
  },
  {
   "cell_type": "code",
   "execution_count": null,
   "id": "accepting-parking",
   "metadata": {
    "slideshow": {
     "slide_type": "subslide"
    }
   },
   "outputs": [],
   "source": [
    "divide_reiteratively(5, 2)\n",
    "print(\"\")\n",
    "divide_reiteratively(56, 2)"
   ]
  },
  {
   "cell_type": "markdown",
   "id": "backed-subscription",
   "metadata": {
    "slideshow": {
     "slide_type": "subslide"
    }
   },
   "source": [
    "## 常見的迴圈應用\n",
    "\n",
    "- 走訪 `str` 或資料結構。\n",
    "- 可迭代類別的加總、乘積與計數。\n",
    "- 合併資料成為 `str`、`list` 或者 `dict`。"
   ]
  },
  {
   "cell_type": "markdown",
   "id": "preceding-boards",
   "metadata": {
    "slideshow": {
     "slide_type": "subslide"
    }
   },
   "source": [
    "## 走訪 `str` 或資料結構\n",
    "\n",
    "1. 走訪 `str`、`list`、`tuple`、`set`\n",
    "2. 走訪 `dict`"
   ]
  },
  {
   "cell_type": "markdown",
   "id": "german-lighter",
   "metadata": {
    "slideshow": {
     "slide_type": "subslide"
    }
   },
   "source": [
    "## 如何走訪 `str`、`list`、`tuple`、`set`"
   ]
  },
  {
   "cell_type": "code",
   "execution_count": null,
   "id": "explicit-vacuum",
   "metadata": {
    "slideshow": {
     "slide_type": "-"
    }
   },
   "outputs": [],
   "source": [
    "def iterate_str_list_tuple_set(an_iterable):\n",
    "    for element in an_iterable:\n",
    "        print(element)\n",
    "        \n",
    "luke = \"Luke Skywalker\"\n",
    "weekdays_list = [\"Monday\", \"Tuesday\", \"Wednesday\", \"Thursday\", \"Friday\"]\n",
    "weekdays_tuple = tuple(weekdays_list)\n",
    "weekdays_set = set(weekdays_list)"
   ]
  },
  {
   "cell_type": "code",
   "execution_count": null,
   "id": "sweet-sperm",
   "metadata": {
    "slideshow": {
     "slide_type": "subslide"
    }
   },
   "outputs": [],
   "source": [
    "iterate_str_list_tuple_set(luke) # iterate over a str"
   ]
  },
  {
   "cell_type": "code",
   "execution_count": null,
   "id": "integrated-humidity",
   "metadata": {
    "slideshow": {
     "slide_type": "subslide"
    }
   },
   "outputs": [],
   "source": [
    "iterate_str_list_tuple_set(weekdays_list)  # iterate over a list"
   ]
  },
  {
   "cell_type": "code",
   "execution_count": null,
   "id": "purple-network",
   "metadata": {
    "slideshow": {
     "slide_type": "-"
    }
   },
   "outputs": [],
   "source": [
    "iterate_str_list_tuple_set(weekdays_tuple) # iterate over a tuple"
   ]
  },
  {
   "cell_type": "code",
   "execution_count": null,
   "id": "technical-curve",
   "metadata": {
    "slideshow": {
     "slide_type": "-"
    }
   },
   "outputs": [],
   "source": [
    "iterate_str_list_tuple_set(weekdays_set)   # iterate over a set"
   ]
  },
  {
   "cell_type": "markdown",
   "id": "blank-worker",
   "metadata": {
    "slideshow": {
     "slide_type": "subslide"
    }
   },
   "source": [
    "## 如何走訪 `dict`\n",
    "\n",
    "善用三個 `dict` 方法：\n",
    "\n",
    "1. `dict.keys()`\n",
    "2. `dict.values()`\n",
    "3. `dict.items()`"
   ]
  },
  {
   "cell_type": "code",
   "execution_count": null,
   "id": "friendly-extreme",
   "metadata": {
    "slideshow": {
     "slide_type": "-"
    }
   },
   "outputs": [],
   "source": [
    "the_shawshank_redemption = {\n",
    "    'title': 'The Shawshank Redemption',\n",
    "    'year': 1994,\n",
    "    'rating': 9.3,\n",
    "    'director': 'Frank Darabont'\n",
    "}\n",
    "type(the_shawshank_redemption)"
   ]
  },
  {
   "cell_type": "markdown",
   "id": "premium-process",
   "metadata": {
    "slideshow": {
     "slide_type": "subslide"
    }
   },
   "source": [
    "## 預設走訪 `dict` 的「鍵」"
   ]
  },
  {
   "cell_type": "code",
   "execution_count": null,
   "id": "contrary-beginning",
   "metadata": {},
   "outputs": [],
   "source": [
    "for key in the_shawshank_redemption:\n",
    "    print(key)"
   ]
  },
  {
   "cell_type": "code",
   "execution_count": null,
   "id": "sweet-praise",
   "metadata": {
    "slideshow": {
     "slide_type": "-"
    }
   },
   "outputs": [],
   "source": [
    "for k in the_shawshank_redemption.keys():\n",
    "    print(k)"
   ]
  },
  {
   "cell_type": "markdown",
   "id": "pretty-sensitivity",
   "metadata": {
    "slideshow": {
     "slide_type": "subslide"
    }
   },
   "source": [
    "## 指定走訪 `dict` 的「值」"
   ]
  },
  {
   "cell_type": "code",
   "execution_count": null,
   "id": "professional-machine",
   "metadata": {
    "slideshow": {
     "slide_type": "-"
    }
   },
   "outputs": [],
   "source": [
    "for value in the_shawshank_redemption.values():\n",
    "    print(value)"
   ]
  },
  {
   "cell_type": "markdown",
   "id": "moved-gauge",
   "metadata": {
    "slideshow": {
     "slide_type": "subslide"
    }
   },
   "source": [
    "## 同時走訪 `dict` 的「鍵」與「值」"
   ]
  },
  {
   "cell_type": "code",
   "execution_count": null,
   "id": "developing-disposition",
   "metadata": {
    "slideshow": {
     "slide_type": "-"
    }
   },
   "outputs": [],
   "source": [
    "dict_items = the_shawshank_redemption.items()\n",
    "print(dict_items)\n",
    "for key, value in dict_items:\n",
    "    print(f\"{key}: {value}\")"
   ]
  },
  {
   "cell_type": "markdown",
   "id": "dental-march",
   "metadata": {
    "slideshow": {
     "slide_type": "subslide"
    }
   },
   "source": [
    "## 可迭代類別的加總、乘積與計數\n",
    "\n",
    "- 在迴圈程式區塊之前定義一個物件設定起始值。\n",
    "- 在程式區塊中更新物件的值。\n",
    "\n",
    "透過 [pythontutor.com](https://pythontutor.com/visualize.html#code=summation%20%3D%200%0Aproduct%20%3D%201%0Acount%20%3D%200%0Aprimes%20%3D%20%5B2,%203,%205,%207,%2011%5D%0Afor%20prime%20in%20primes%3A%0A%20%20%20%20summation%20%2B%3D%20prime%0A%20%20%20%20product%20*%3D%20prime%0A%20%20%20%20count%20%2B%3D%201%0Aprint%28summation%29%0Aprint%28product%29%0Aprint%28count%29&cumulative=false&curInstr=0&heapPrimitives=nevernest&mode=display&origin=opt-frontend.js&py=3&rawInputLstJSON=%5B%5D&textReferences=false) 拆解程式執行的每個步驟。"
   ]
  },
  {
   "cell_type": "code",
   "execution_count": null,
   "id": "ready-potential",
   "metadata": {
    "slideshow": {
     "slide_type": "-"
    }
   },
   "outputs": [],
   "source": [
    "summation = 0\n",
    "product = 1\n",
    "count = 0\n",
    "primes = [2, 3, 5, 7, 11]\n",
    "for prime in primes:\n",
    "    summation += prime\n",
    "    product *= prime\n",
    "    count += 1\n",
    "print(summation)\n",
    "print(product)\n",
    "print(count)"
   ]
  },
  {
   "cell_type": "markdown",
   "id": "entitled-element",
   "metadata": {
    "slideshow": {
     "slide_type": "subslide"
    }
   },
   "source": [
    "## 可迭代類別的加總與計數\n",
    "\n",
    "善用內建函數 `sum()` 以及 `len()` 就可以得知加總與計數。"
   ]
  },
  {
   "cell_type": "code",
   "execution_count": null,
   "id": "specialized-costume",
   "metadata": {},
   "outputs": [],
   "source": [
    "print(sum(primes))\n",
    "print(len(primes))"
   ]
  },
  {
   "cell_type": "markdown",
   "id": "median-nickel",
   "metadata": {
    "slideshow": {
     "slide_type": "subslide"
    }
   },
   "source": [
    "## 合併資料成為 `str`、`list` 或者 `dict`\n",
    "\n",
    "- 運用 `+` 運算符連接元素成為 `str`\n",
    "- 運用 `+` 運算符連接 lists\n",
    "- 運用 `list.append()` 方法合併元素成為 `list`\n",
    "- 運用 `dict[key]=value` 合併元素成為 `dict`"
   ]
  },
  {
   "cell_type": "markdown",
   "id": "signal-steam",
   "metadata": {
    "slideshow": {
     "slide_type": "subslide"
    }
   },
   "source": [
    "## 運用 `+` 運算符連接元素成為 `str`\n",
    "\n",
    "透過 [pythontutor.com](https://pythontutor.com/visualize.html#code=vowels%20%3D%20%5B%22a%22,%20%22e%22,%20%22i%22,%20%22o%22,%20%22u%22,%20%22A%22,%20%22E%22,%20%22I%22,%20%22O%22,%20%22U%22%5D%0Avowels_str%20%3D%20str%28%29%20%23%20an%20empty%20str%0Afor%20vowel%20in%20vowels%3A%0A%20%20%20%20vowels_str%20%2B%3D%20vowel%0Aprint%28vowels_str%29&cumulative=false&curInstr=0&heapPrimitives=nevernest&mode=display&origin=opt-frontend.js&py=3&rawInputLstJSON=%5B%5D&textReferences=false) 拆解程式執行的每個步驟。"
   ]
  },
  {
   "cell_type": "code",
   "execution_count": null,
   "id": "sharing-shape",
   "metadata": {},
   "outputs": [],
   "source": [
    "vowels = [\"a\", \"e\", \"i\", \"o\", \"u\", \"A\", \"E\", \"I\", \"O\", \"U\"]\n",
    "vowels_str = str() # an empty str\n",
    "for vowel in vowels:\n",
    "    vowels_str += vowel\n",
    "print(vowels_str)"
   ]
  },
  {
   "cell_type": "markdown",
   "id": "metropolitan-uruguay",
   "metadata": {
    "slideshow": {
     "slide_type": "subslide"
    }
   },
   "source": [
    "## 運用 `+` 運算符連接 lists\n",
    "\n",
    "透過 [pythontutor.com](https://pythontutor.com/visualize.html#code=vowels%20%3D%20%5B%5B%22a%22,%20%22e%22,%20%22i%22,%20%22o%22,%20%22u%22%5D,%20%5B%22A%22,%20%22E%22,%20%22I%22,%20%22O%22,%20%22U%22%5D%5D%0Aflat_vowels%20%3D%20list%28%29%0Afor%20vowel%20in%20vowels%3A%0A%20%20%20%20flat_vowels%20%2B%3D%20vowel%0Aflat_vowels&cumulative=false&curInstr=0&heapPrimitives=nevernest&mode=display&origin=opt-frontend.js&py=3&rawInputLstJSON=%5B%5D&textReferences=false) 拆解程式執行的每個步驟。"
   ]
  },
  {
   "cell_type": "code",
   "execution_count": null,
   "id": "legal-liquid",
   "metadata": {},
   "outputs": [],
   "source": [
    "vowels = [[\"a\", \"e\", \"i\", \"o\", \"u\"], [\"A\", \"E\", \"I\", \"O\", \"U\"]]\n",
    "flat_vowels = list()\n",
    "for vowel in vowels:\n",
    "    flat_vowels += vowel\n",
    "flat_vowels"
   ]
  },
  {
   "cell_type": "markdown",
   "id": "valued-daisy",
   "metadata": {
    "slideshow": {
     "slide_type": "subslide"
    }
   },
   "source": [
    "## 運用 `list.append()` 方法合併元素成為 `list`\n",
    "\n",
    "透過 [pythontutor.com](https://pythontutor.com/visualize.html#code=vowels%20%3D%20%5B%5B%22a%22,%20%22e%22,%20%22i%22,%20%22o%22,%20%22u%22%5D,%20%5B%22A%22,%20%22E%22,%20%22I%22,%20%22O%22,%20%22U%22%5D%5D%0Aflat_vowels%20%3D%20list%28%29%0Afor%20v_list%20in%20vowels%3A%0A%20%20%20%20for%20v%20in%20v_list%3A%0A%20%20%20%20%20%20%20%20flat_vowels.append%28v%29%0Aflat_vowels&cumulative=false&curInstr=0&heapPrimitives=nevernest&mode=display&origin=opt-frontend.js&py=3&rawInputLstJSON=%5B%5D&textReferences=false) 拆解程式執行的每個步驟。"
   ]
  },
  {
   "cell_type": "code",
   "execution_count": null,
   "id": "reduced-fleece",
   "metadata": {},
   "outputs": [],
   "source": [
    "vowels = [[\"a\", \"e\", \"i\", \"o\", \"u\"], [\"A\", \"E\", \"I\", \"O\", \"U\"]]\n",
    "flat_vowels = list()\n",
    "for v_list in vowels:\n",
    "    for v in v_list:\n",
    "        flat_vowels.append(v)\n",
    "flat_vowels"
   ]
  },
  {
   "cell_type": "markdown",
   "id": "electoral-warning",
   "metadata": {
    "slideshow": {
     "slide_type": "subslide"
    }
   },
   "source": [
    "## 運用 `dict[key]=value` 合併元素成為 `dict`\n",
    "\n",
    "透過 [pythontutor.com](https://pythontutor.com/visualize.html#code=days_of_week%20%3D%20%5B%22Sunday%22,%20%22Monday%22,%20%22Tuesday%22,%20%22Wednesday%22,%20%22Thursday%22,%20%22Friday%22,%20%22Saturday%22%5D%0Adays_of_week_dict%20%3D%20dict%28%29%0Afor%20day%20in%20days_of_week%3A%0A%20%20%20%20day_upper%20%3D%20day.upper%28%29%20%23%20upper-case%0A%20%20%20%20day_abbreviation%20%3D%20day_upper%5B%3A3%5D%20%23%20abbreviation%0A%20%20%20%20days_of_week_dict%5Bday_abbreviation%5D%20%3D%20day%0Adays_of_week_dict&cumulative=false&curInstr=0&heapPrimitives=nevernest&mode=display&origin=opt-frontend.js&py=3&rawInputLstJSON=%5B%5D&textReferences=false) 拆解程式執行的每個步驟。"
   ]
  },
  {
   "cell_type": "code",
   "execution_count": null,
   "id": "demographic-activity",
   "metadata": {},
   "outputs": [],
   "source": [
    "days_of_week = [\"Sunday\", \"Monday\", \"Tuesday\", \"Wednesday\", \"Thursday\", \"Friday\", \"Saturday\"]\n",
    "days_of_week_dict = dict()\n",
    "for day in days_of_week:\n",
    "    day_upper = day.upper() # upper-case\n",
    "    day_abbreviation = day_upper[:3] # abbreviation\n",
    "    days_of_week_dict[day_abbreviation] = day\n",
    "days_of_week_dict"
   ]
  },
  {
   "cell_type": "markdown",
   "id": "cultural-taiwan",
   "metadata": {
    "slideshow": {
     "slide_type": "subslide"
    }
   },
   "source": [
    "## 以兩個保留字調整迴圈的重複執行次數\n",
    "\n",
    "1. `break` 保留字可以提早結束。\n",
    "2. `continue` 保留字可以略過某些執行次數。"
   ]
  },
  {
   "cell_type": "markdown",
   "id": "union-couple",
   "metadata": {
    "slideshow": {
     "slide_type": "subslide"
    }
   },
   "source": [
    "## 遇到星期四提早結束\n",
    "\n",
    "透過 [pythontutor.com](https://pythontutor.com/visualize.html#code=days_of_week%20%3D%20%5B%22Sunday%22,%20%22Monday%22,%20%22Tuesday%22,%20%22Wednesday%22,%20%22Thursday%22,%20%22Friday%22,%20%22Saturday%22%5D%0Afor%20day%20in%20days_of_week%3A%0A%20%20%20%20if%20day%20%3D%3D%20%22Thursday%22%3A%0A%20%20%20%20%20%20%20%20break%0A%20%20%20%20print%28day%29&cumulative=false&curInstr=0&heapPrimitives=nevernest&mode=display&origin=opt-frontend.js&py=3&rawInputLstJSON=%5B%5D&textReferences=false) 拆解程式執行的每個步驟。"
   ]
  },
  {
   "cell_type": "code",
   "execution_count": null,
   "id": "meaning-development",
   "metadata": {
    "slideshow": {
     "slide_type": "-"
    }
   },
   "outputs": [],
   "source": [
    "days_of_week = [\"Sunday\", \"Monday\", \"Tuesday\", \"Wednesday\", \"Thursday\", \"Friday\", \"Saturday\"]\n",
    "for day in days_of_week:\n",
    "    if day == \"Thursday\":\n",
    "        break\n",
    "    print(day)"
   ]
  },
  {
   "cell_type": "markdown",
   "id": "assisted-expense",
   "metadata": {
    "slideshow": {
     "slide_type": "subslide"
    }
   },
   "source": [
    "## 略過週末\n",
    "\n",
    "透過 [pythontutor.com](https://pythontutor.com/visualize.html#code=days_of_week%20%3D%20%5B%22Sunday%22,%20%22Monday%22,%20%22Tuesday%22,%20%22Wednesday%22,%20%22Thursday%22,%20%22Friday%22,%20%22Saturday%22%5D%0Afor%20day%20in%20days_of_week%3A%0A%20%20%20%20if%20day%20in%20%7B%22Sunday%22,%20%22Saturday%22%7D%3A%0A%20%20%20%20%20%20%20%20continue%0A%20%20%20%20print%28day%29&cumulative=false&curInstr=0&heapPrimitives=nevernest&mode=display&origin=opt-frontend.js&py=3&rawInputLstJSON=%5B%5D&textReferences=false) 拆解程式執行的每個步驟。"
   ]
  },
  {
   "cell_type": "code",
   "execution_count": null,
   "id": "painted-sister",
   "metadata": {},
   "outputs": [],
   "source": [
    "days_of_week = [\"Sunday\", \"Monday\", \"Tuesday\", \"Wednesday\", \"Thursday\", \"Friday\", \"Saturday\"]\n",
    "for day in days_of_week:\n",
    "    if day in {\"Sunday\", \"Saturday\"}:\n",
    "        continue\n",
    "    print(day)"
   ]
  },
  {
   "cell_type": "markdown",
   "id": "waiting-proof",
   "metadata": {
    "slideshow": {
     "slide_type": "subslide"
    }
   },
   "source": [
    "## 什麼是例外處理\n",
    "\n",
    "> 程式出現錯誤是極為常見的情況，一般碰到錯誤發生時，Python 會發起例外（Raise exception）並且中斷程式的執行，假如我們希望在錯誤發生的情況下「不要」中斷程式的執行，這樣的技巧就稱為例外處理（Exception handling）。\n",
    "\n",
    "來源：<https://docs.python.org/3/tutorial/errors.html>"
   ]
  },
  {
   "cell_type": "markdown",
   "id": "analyzed-progressive",
   "metadata": {
    "slideshow": {
     "slide_type": "subslide"
    }
   },
   "source": [
    "## 常見的錯誤種類有三種\n",
    "\n",
    "1. 語法錯誤（Syntax errors）。\n",
    "2. 語意錯誤（Semantic errors）。\n",
    "3. 執行錯誤（Runtime errors）。"
   ]
  },
  {
   "cell_type": "markdown",
   "id": "adapted-cooperative",
   "metadata": {
    "slideshow": {
     "slide_type": "subslide"
    }
   },
   "source": [
    "## 語法錯誤：對 Python 而言無效的敘述\n",
    "\n",
    "例如不使用大括號來標註程式區塊。"
   ]
  },
  {
   "cell_type": "code",
   "execution_count": null,
   "id": "caroline-collectible",
   "metadata": {},
   "outputs": [],
   "source": [
    "def add(x, y){\n",
    "    return x + y\n",
    "}"
   ]
  },
  {
   "cell_type": "markdown",
   "id": "flexible-words",
   "metadata": {
    "slideshow": {
     "slide_type": "subslide"
    }
   },
   "source": [
    "## 語法錯誤：對 Python 而言無效的敘述（續）\n",
    "\n",
    "例如 `for` 迴圈沒有冒號 `:`"
   ]
  },
  {
   "cell_type": "code",
   "execution_count": null,
   "id": "terminal-belly",
   "metadata": {},
   "outputs": [],
   "source": [
    "for i in range(10)\n",
    "    print(i)"
   ]
  },
  {
   "cell_type": "markdown",
   "id": "expired-mechanism",
   "metadata": {
    "slideshow": {
     "slide_type": "subslide"
    }
   },
   "source": [
    "## 語意錯誤\n",
    "\n",
    "- 程式能夠順利執行但是輸出的結果與預期不相符。\n",
    "- 例外處理無用武之地，只能慢慢找出邏輯的錯誤所在。"
   ]
  },
  {
   "cell_type": "markdown",
   "id": "integral-trust",
   "metadata": {
    "slideshow": {
     "slide_type": "subslide"
    }
   },
   "source": [
    "## 執行錯誤：例外處理主要應對的錯誤種類\n",
    "\n",
    "- 命名錯誤（`NameError`）。\n",
    "- 類別錯誤（`TypeError`）。\n",
    "- 分母為零錯誤（`ZeroDivisionError`）。\n",
    "- 索引值錯誤（`IndexError`）。\n",
    "- ...等。"
   ]
  },
  {
   "cell_type": "markdown",
   "id": "addressed-poverty",
   "metadata": {
    "slideshow": {
     "slide_type": "subslide"
    }
   },
   "source": [
    "## 命名錯誤（`NameError`）\n",
    "\n",
    "例如使用沒有定義的函數。"
   ]
  },
  {
   "cell_type": "code",
   "execution_count": null,
   "id": "answering-remove",
   "metadata": {},
   "outputs": [],
   "source": [
    "function_which_is_not_defined(5566)"
   ]
  },
  {
   "cell_type": "markdown",
   "id": "skilled-board",
   "metadata": {
    "slideshow": {
     "slide_type": "subslide"
    }
   },
   "source": [
    "## 類別錯誤（`TypeError`）\n",
    "\n",
    "例如對文字應用減號。"
   ]
  },
  {
   "cell_type": "code",
   "execution_count": null,
   "id": "changed-hormone",
   "metadata": {},
   "outputs": [],
   "source": [
    "\"Luke Skywalker\" - \"Luke\""
   ]
  },
  {
   "cell_type": "markdown",
   "id": "alternate-given",
   "metadata": {
    "slideshow": {
     "slide_type": "subslide"
    }
   },
   "source": [
    "## 分母為零錯誤（`ZeroDivisionError`）"
   ]
  },
  {
   "cell_type": "code",
   "execution_count": null,
   "id": "painted-liverpool",
   "metadata": {},
   "outputs": [],
   "source": [
    "5566/0"
   ]
  },
  {
   "cell_type": "markdown",
   "id": "retired-cassette",
   "metadata": {
    "slideshow": {
     "slide_type": "subslide"
    }
   },
   "source": [
    "## 索引值錯誤（`IndexError`）\n",
    "\n",
    "例如 `list` 的長度不如預期。"
   ]
  },
  {
   "cell_type": "code",
   "execution_count": null,
   "id": "attempted-barbados",
   "metadata": {},
   "outputs": [],
   "source": [
    "primes=[2, 3, 5, 7, 11]\n",
    "primes[5]"
   ]
  },
  {
   "cell_type": "markdown",
   "id": "innovative-wrestling",
   "metadata": {
    "slideshow": {
     "slide_type": "subslide"
    }
   },
   "source": [
    "## 如何進行例外處理\n",
    "\n",
    "利用 `try...except` 敘述把可能會產生錯誤的程式放在附屬於 `try` 保留字的程式區塊，錯誤發生時的應對程式碼放在附屬於 `except` 保留字的程式區塊。\n",
    "\n",
    "```python\n",
    "try:\n",
    "    # 可能產生錯誤的程式區塊。\n",
    "except 執行錯誤種類:\n",
    "    # 指定的執行錯誤產生時的應對程式區塊。\n",
    "except:\n",
    "    # 執行錯誤產生時的應對程式區塊。\n",
    "```"
   ]
  },
  {
   "cell_type": "markdown",
   "id": "peaceful-header",
   "metadata": {
    "slideshow": {
     "slide_type": "subslide"
    }
   },
   "source": [
    "## 利用 `as` 保留字將錯誤訊息記錄起來\n",
    "\n",
    "```python\n",
    "try:\n",
    "    # 可能產生錯誤的程式區塊。\n",
    "except 執行錯誤種類 as error_message:\n",
    "    # 指定的執行錯誤產生時的應對程式區塊。\n",
    "    # 錯誤訊息可用物件 error_message 參照。\n",
    "except:\n",
    "    # 執行錯誤產生時的應對程式區塊。\n",
    "```"
   ]
  },
  {
   "cell_type": "markdown",
   "id": "generous-democrat",
   "metadata": {
    "slideshow": {
     "slide_type": "subslide"
    }
   },
   "source": [
    "## 命名錯誤（`NameError`）：例外處理\n",
    "\n",
    "例如使用沒有定義的函數。"
   ]
  },
  {
   "cell_type": "code",
   "execution_count": null,
   "id": "diagnostic-times",
   "metadata": {},
   "outputs": [],
   "source": [
    "try:\n",
    "    function_which_is_not_defined(5566)\n",
    "except NameError as error_message:\n",
    "    print(f\"NameError occurred and the error message is: {error_message}\")"
   ]
  },
  {
   "cell_type": "markdown",
   "id": "relative-maryland",
   "metadata": {
    "slideshow": {
     "slide_type": "subslide"
    }
   },
   "source": [
    "## 類別錯誤（`TypeError`）：例外處理\n",
    "\n",
    "例如對文字應用減號。"
   ]
  },
  {
   "cell_type": "code",
   "execution_count": null,
   "id": "bacterial-allah",
   "metadata": {},
   "outputs": [],
   "source": [
    "try:\n",
    "    \"Luke Skywalker\" - \"Luke\"\n",
    "except TypeError as error_message:\n",
    "    print(f\"TypeError occurred and the error message is: {error_message}\")"
   ]
  },
  {
   "cell_type": "markdown",
   "id": "genuine-guitar",
   "metadata": {
    "slideshow": {
     "slide_type": "subslide"
    }
   },
   "source": [
    "## 分母為零錯誤（`ZeroDivisionError`）"
   ]
  },
  {
   "cell_type": "code",
   "execution_count": null,
   "id": "graphic-biodiversity",
   "metadata": {},
   "outputs": [],
   "source": [
    "try:\n",
    "    5566/0\n",
    "except ZeroDivisionError as error_message:\n",
    "    print(f\"ZeroDivisionError occurred and the error message is: {error_message}\")"
   ]
  },
  {
   "cell_type": "markdown",
   "id": "mental-shame",
   "metadata": {
    "slideshow": {
     "slide_type": "subslide"
    }
   },
   "source": [
    "## 索引值錯誤（`IndexError`）\n",
    "\n",
    "例如 `list` 的長度不如預期。"
   ]
  },
  {
   "cell_type": "code",
   "execution_count": null,
   "id": "hidden-stick",
   "metadata": {},
   "outputs": [],
   "source": [
    "primes=[2, 3, 5, 7, 11]\n",
    "try:\n",
    "    primes[5]\n",
    "except IndexError as error_message:\n",
    "    print(f\"IndexError occurred and the error message is: {error_message}\")"
   ]
  },
  {
   "cell_type": "markdown",
   "id": "cd322ff7",
   "metadata": {
    "slideshow": {
     "slide_type": "subslide"
    }
   },
   "source": [
    "## 任務 40：判斷 BMI 分類\n",
    "\n",
    "|BMI|Category|\n",
    "|---|--------|\n",
    "|BMI < 18.5|Underweight|\n",
    "|18.5 <= BMI < 25|Normal weight|\n",
    "|25 <= BMI  < 30|Overweight|\n",
    "|BMI >= 30|Obese|\n",
    "\n",
    "來源：<https://en.wikipedia.org/wiki/Body_mass_index>"
   ]
  },
  {
   "cell_type": "code",
   "execution_count": null,
   "id": "6e810b4b",
   "metadata": {},
   "outputs": [],
   "source": [
    "def task_40(bmi: float) -> str:\n",
    "    \"\"\"\n",
    "    >>> task_40(32.90) # Zion Williamson, professional basketball player\n",
    "    'Obese'\n",
    "    >>> task_40(26.63) # LeBron James, professional basketball player\n",
    "    'Overweight'\n",
    "    >>> task_40(24.83) # Roger Federer, professional tennis player\n",
    "    'Normal weight'\n",
    "    >>> task_40(17.58) # Suguru Osako, professional marathon runner \n",
    "    'Underweight'\n",
    "    \"\"\"\n",
    "    # 寫作\n",
    "    return None\n",
    "    # 寫作"
   ]
  },
  {
   "cell_type": "markdown",
   "id": "a236097b",
   "metadata": {
    "slideshow": {
     "slide_type": "subslide"
    }
   },
   "source": [
    "## 任務 41：判斷資料類別"
   ]
  },
  {
   "cell_type": "code",
   "execution_count": null,
   "id": "11836d7c",
   "metadata": {},
   "outputs": [],
   "source": [
    "def task_41(x) -> str:\n",
    "    \"\"\"\n",
    "    >>> task_41(0)\n",
    "    'int'\n",
    "    >>> task_41(1.0)\n",
    "    'float'\n",
    "    >>> task_41(False)\n",
    "    'bool'\n",
    "    >>> task_41(True)\n",
    "    'bool'\n",
    "    >>> task_41('5566')\n",
    "    'str'\n",
    "    >>> task_41(None)\n",
    "    'NoneType'\n",
    "    \"\"\"\n",
    "    # 寫作\n",
    "    return None\n",
    "    # 寫作"
   ]
  },
  {
   "cell_type": "markdown",
   "id": "96f0cb4f",
   "metadata": {
    "slideshow": {
     "slide_type": "subslide"
    }
   },
   "source": [
    "## 任務 42：判斷資料結構類別"
   ]
  },
  {
   "cell_type": "code",
   "execution_count": null,
   "id": "8064ca35",
   "metadata": {},
   "outputs": [],
   "source": [
    "def task_42(x) -> str:\n",
    "    \"\"\"\n",
    "    >>> task_42([5, 5, 6, 6])\n",
    "    'list'\n",
    "    >>> task_42((5, 5, 6, 6))\n",
    "    'tuple'\n",
    "    >>> task_42({5, 6})\n",
    "    'set'\n",
    "    >>> task_42({'title': 'The Shawshank Redemption', 'year': 1994})\n",
    "    'dict'\n",
    "    \"\"\"\n",
    "    # 寫作\n",
    "    return None\n",
    "    # 寫作"
   ]
  },
  {
   "cell_type": "markdown",
   "id": "cf2231aa",
   "metadata": {
    "slideshow": {
     "slide_type": "subslide"
    }
   },
   "source": [
    "## 任務 43：取出中位元素"
   ]
  },
  {
   "cell_type": "code",
   "execution_count": null,
   "id": "b7867c22",
   "metadata": {},
   "outputs": [],
   "source": [
    "def task_43(x: list):\n",
    "    \"\"\"\n",
    "    >>> task_43([2, 3, 5])\n",
    "    3\n",
    "    >>> task_43([2, 3, 5, 7])\n",
    "    (3, 5)\n",
    "    >>> task_43([2, 3, 5, 7, 11])\n",
    "    5\n",
    "    >>> task_43([2, 3, 5, 7, 11, 13])\n",
    "    (5, 7)\n",
    "    \"\"\"\n",
    "    # 寫作\n",
    "    return None\n",
    "    # 寫作"
   ]
  },
  {
   "cell_type": "markdown",
   "id": "f54e90d1",
   "metadata": {
    "slideshow": {
     "slide_type": "subslide"
    }
   },
   "source": [
    "## 任務 44：計算中位數"
   ]
  },
  {
   "cell_type": "code",
   "execution_count": null,
   "id": "0fc68c95",
   "metadata": {},
   "outputs": [],
   "source": [
    "def task_44(x: list):\n",
    "    \"\"\"\n",
    "    >>> task_44([9, 8, 3, 6, 7, 3, 1])\n",
    "    6\n",
    "    >>> task_44([1, 3, 2, 5, 4, 9, 8, 6])\n",
    "    4.5\n",
    "    \"\"\"\n",
    "    # 寫作\n",
    "    return None\n",
    "    # 寫作"
   ]
  },
  {
   "cell_type": "markdown",
   "id": "184e2ed4",
   "metadata": {
    "slideshow": {
     "slide_type": "subslide"
    }
   },
   "source": [
    "## 任務 45：計算平均數"
   ]
  },
  {
   "cell_type": "code",
   "execution_count": null,
   "id": "b9b5cd43",
   "metadata": {},
   "outputs": [],
   "source": [
    "def task_45(x: list) -> float:\n",
    "    \"\"\"\n",
    "    >>> task_45([5, 5, 6, 6])\n",
    "    5.5\n",
    "    >>> task_45([5, 3, 4])\n",
    "    4.0\n",
    "    >>> task_45([4, 3])\n",
    "    3.5\n",
    "    \"\"\"\n",
    "    # 寫作\n",
    "    return None\n",
    "    # 寫作"
   ]
  },
  {
   "cell_type": "markdown",
   "id": "beb26cd2",
   "metadata": {
    "slideshow": {
     "slide_type": "subslide"
    }
   },
   "source": [
    "## 任務 46：前 100 個 Fizz buzz\n",
    "\n",
    "來源：<https://en.wikipedia.org/wiki/Fizz_buzz>"
   ]
  },
  {
   "cell_type": "code",
   "execution_count": null,
   "id": "6531cd05",
   "metadata": {},
   "outputs": [],
   "source": [
    "def task_46() -> list:\n",
    "    \"\"\"\n",
    "    >>> len(task_46())\n",
    "    100\n",
    "    >>> task_46()[0]\n",
    "    1\n",
    "    >>> task_46()[1]\n",
    "    2\n",
    "    >>> task_46()[2]\n",
    "    'Fizz'\n",
    "    >>> task_46()[3]\n",
    "    4\n",
    "    >>> task_46()[4]\n",
    "    'Buzz'\n",
    "    >>> task_46()[13]\n",
    "    14\n",
    "    >>> task_46()[14]\n",
    "    'Fizz Buzz'\n",
    "    \"\"\"\n",
    "    # 寫作\n",
    "    return None\n",
    "    # 寫作"
   ]
  },
  {
   "cell_type": "markdown",
   "id": "674126e0",
   "metadata": {
    "slideshow": {
     "slide_type": "subslide"
    }
   },
   "source": [
    "## 任務 47：Fizz buzz 片段"
   ]
  },
  {
   "cell_type": "code",
   "execution_count": null,
   "id": "e32a19ca",
   "metadata": {},
   "outputs": [],
   "source": [
    "def task_47(start: int, stop: int) -> list:\n",
    "    \"\"\"\n",
    "    >>> task_47(1, 5)\n",
    "    [1, 2, 'Fizz', 4, 'Buzz']\n",
    "    >>> task_47(11, 15)\n",
    "    [11, 'Fizz', 13, 14, 'Fizz Buzz']\n",
    "    >>> task_47(25, 30)\n",
    "    ['Buzz', 26, 'Fizz', 28, 29, 'Fizz Buzz']\n",
    "    \"\"\"\n",
    "    # 寫作\n",
    "    return None\n",
    "    # 寫作"
   ]
  },
  {
   "cell_type": "markdown",
   "id": "ee1e151e",
   "metadata": {
    "slideshow": {
     "slide_type": "subslide"
    }
   },
   "source": [
    "## 任務 48：因數分解"
   ]
  },
  {
   "cell_type": "code",
   "execution_count": null,
   "id": "687ec30a",
   "metadata": {},
   "outputs": [],
   "source": [
    "def task_48(x: int) -> list:\n",
    "    \"\"\"\n",
    "    >>> task_48(2)\n",
    "    [1, 2]\n",
    "    >>> task_48(3)\n",
    "    [1, 3]\n",
    "    >>> task_48(4)\n",
    "    [1, 2, 4]\n",
    "    >>> task_48(8)\n",
    "    [1, 2, 4, 8]\n",
    "    \"\"\"\n",
    "    # 寫作\n",
    "    return None\n",
    "    # 寫作"
   ]
  },
  {
   "cell_type": "markdown",
   "id": "8a906b1d",
   "metadata": {
    "slideshow": {
     "slide_type": "subslide"
    }
   },
   "source": [
    "## 任務 49：安全的兩數相除"
   ]
  },
  {
   "cell_type": "code",
   "execution_count": null,
   "id": "e51263b0",
   "metadata": {},
   "outputs": [],
   "source": [
    "def task_49(x: int, y: int):\n",
    "    \"\"\"\n",
    "    >>> task_49(10, 2)\n",
    "    5.0\n",
    "    >>> task_49(0, 2)\n",
    "    0.0\n",
    "    >>> task_49(10, 0)\n",
    "    'division by zero'\n",
    "    \"\"\"\n",
    "    # 寫作\n",
    "    return None\n",
    "    # 寫作"
   ]
  },
  {
   "cell_type": "markdown",
   "id": "c62b2c82",
   "metadata": {
    "slideshow": {
     "slide_type": "subslide"
    }
   },
   "source": [
    "## 測試：任務 40-49"
   ]
  },
  {
   "cell_type": "code",
   "execution_count": null,
   "id": "e17d2b62",
   "metadata": {},
   "outputs": [],
   "source": [
    "import unittest\n",
    "# 測試\n",
    "class TestTask4049(unittest.TestCase):\n",
    "    def test_task_40(self):\n",
    "        self.assertEqual(task_40(32.90), 'Obese')\n",
    "        self.assertEqual(task_40(26.63), 'Overweight')\n",
    "        self.assertEqual(task_40(24.83), 'Normal weight')\n",
    "        self.assertEqual(task_40(17.58), 'Underweight')\n",
    "    def test_task_41(self):\n",
    "        self.assertEqual(task_41(0), 'int')\n",
    "        self.assertEqual(task_41(1.0), 'float')\n",
    "        self.assertEqual(task_41(False), 'bool')\n",
    "        self.assertEqual(task_41(True), 'bool')\n",
    "        self.assertEqual(task_41('5566'), 'str')\n",
    "        self.assertEqual(task_41(None), 'NoneType')\n",
    "    def test_task_42(self):\n",
    "        self.assertEqual(task_42([5, 5, 6, 6]), 'list')\n",
    "        self.assertEqual(task_42((5, 5, 6, 6)), 'tuple')\n",
    "        self.assertEqual(task_42({5, 6}), 'set')\n",
    "        self.assertEqual(task_42({'title': 'The Shawshank Redemption', 'year': 1994}), 'dict')\n",
    "    def test_task_43(self):\n",
    "        self.assertEqual(task_43([2, 3, 5]), 3)\n",
    "        self.assertEqual(task_43([2, 3, 5, 7]), (3, 5))\n",
    "        self.assertEqual(task_43([2, 3, 5, 7, 11]), 5)\n",
    "        self.assertEqual(task_43([2, 3, 5, 7, 11, 13]), (5, 7))\n",
    "        self.assertEqual(task_43([2, 3, 5, 7, 11, 13, 17]), 7)\n",
    "    def test_task_44(self):\n",
    "        self.assertEqual(task_44([9, 8, 3, 6, 7, 3, 1]), 6)\n",
    "        self.assertAlmostEqual(task_44([1, 3, 2, 5, 4, 9, 8, 6]), 4.5)\n",
    "        self.assertEqual(task_44([5, 6, 7]), 6)\n",
    "        self.assertAlmostEqual(task_44([3, 4, 5, 6]), 4.5)\n",
    "    def test_task_45(self):\n",
    "        self.assertAlmostEqual(task_45([5, 5, 6, 6]), 5.5)\n",
    "        self.assertAlmostEqual(task_45([5, 3, 4]), 4.0)\n",
    "        self.assertAlmostEqual(task_45([4, 3]), 3.5)\n",
    "        self.assertAlmostEqual(task_45([4]), 4.0)\n",
    "    def test_task_46(self):\n",
    "        output = task_46()\n",
    "        self.assertEqual(len(output), 100)\n",
    "        self.assertEqual(output[0], 1)\n",
    "        self.assertEqual(output[1], 2)\n",
    "        self.assertEqual(output[2], 'Fizz')\n",
    "        self.assertEqual(output[3], 4)\n",
    "        self.assertEqual(output[4], 'Buzz')\n",
    "        self.assertEqual(output[13], 14)\n",
    "        self.assertEqual(output[14], 'Fizz Buzz')\n",
    "        self.assertEqual(output[-1], 'Buzz')\n",
    "        self.assertEqual(output[-2], 'Fizz')\n",
    "        self.assertEqual(output[-11], 'Fizz Buzz')\n",
    "    def test_task_47(self):\n",
    "        self.assertEqual(task_47(1, 5), [1, 2, 'Fizz', 4, 'Buzz'])\n",
    "        self.assertEqual(task_47(11, 15), [11, 'Fizz', 13, 14, 'Fizz Buzz'])\n",
    "        self.assertEqual(task_47(25, 30), ['Buzz', 26, 'Fizz', 28, 29, 'Fizz Buzz'])\n",
    "    def test_task_48(self):\n",
    "        self.assertEqual(task_48(2), [1, 2])\n",
    "        self.assertEqual(task_48(3), [1, 3])\n",
    "        self.assertEqual(task_48(4), [1, 2, 4])\n",
    "        self.assertEqual(task_48(8), [1, 2, 4, 8])\n",
    "        self.assertEqual(task_48(9), [1, 3, 9])\n",
    "    def test_task_49(self):\n",
    "        self.assertAlmostEqual(task_49(10, 2), 5.0)\n",
    "        self.assertAlmostEqual(task_49(0, 2), 0.0)\n",
    "        self.assertAlmostEqual(task_49(10, 0), 'division by zero')\n",
    "suite = unittest.TestLoader().loadTestsFromTestCase(TestTask4049)\n",
    "runner = unittest.TextTestRunner(verbosity=2)\n",
    "runner.run(suite)"
   ]
  }
 ],
 "metadata": {
  "celltoolbar": "Slideshow",
  "kernelspec": {
   "display_name": "Python 3 (ipykernel)",
   "language": "python",
   "name": "python3"
  },
  "language_info": {
   "codemirror_mode": {
    "name": "ipython",
    "version": 3
   },
   "file_extension": ".py",
   "mimetype": "text/x-python",
   "name": "python",
   "nbconvert_exporter": "python",
   "pygments_lexer": "ipython3",
   "version": "3.9.12"
  }
 },
 "nbformat": 4,
 "nbformat_minor": 5
}
