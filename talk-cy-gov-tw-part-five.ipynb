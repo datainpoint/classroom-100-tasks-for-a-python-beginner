{
 "cells": [
  {
   "cell_type": "markdown",
   "id": "inappropriate-shock",
   "metadata": {
    "slideshow": {
     "slide_type": "slide"
    }
   },
   "source": [
    "# Python 程式語言進階課程：程式設計（第五部分）\n",
    "\n",
    "> 監察院，2023-02-09\n",
    "\n",
    "[數聚點](https://www.datainpoint.com) | 郭耀仁 <yaojenkuo@ntu.edu.tw>"
   ]
  },
  {
   "cell_type": "markdown",
   "id": "current-warner",
   "metadata": {
    "slideshow": {
     "slide_type": "subslide"
    }
   },
   "source": [
    "## 函數\n",
    "\n",
    "- 起：任務 50\n",
    "- 迄：任務 59"
   ]
  },
  {
   "cell_type": "markdown",
   "id": "korean-fellow",
   "metadata": {
    "slideshow": {
     "slide_type": "subslide"
    }
   },
   "source": [
    "## 什麼是組織程式碼\n",
    "\n",
    "面對不同目的以及應用場景，我們會有組織程式碼的需求，簡單來說，是希望程式碼可以簡潔且有效率地完成任務。"
   ]
  },
  {
   "cell_type": "markdown",
   "id": "beginning-graph",
   "metadata": {
    "slideshow": {
     "slide_type": "subslide"
    }
   },
   "source": [
    "## 組織程式碼希望達到的目標最主要有兩個：\n",
    "\n",
    "1. 提高程式碼的「可利用性」。\n",
    "2. 減少程式碼的「重複性」。"
   ]
  },
  {
   "cell_type": "markdown",
   "id": "timely-thinking",
   "metadata": {
    "slideshow": {
     "slide_type": "subslide"
    }
   },
   "source": [
    "## Python 提供三種機制供使用者組織程式碼\n",
    "\n",
    "視應用範疇由小到大依序為：\n",
    "\n",
    "1. 函數（Function）。\n",
    "2. 類別（Class）。\n",
    "3. 模組（Module）。"
   ]
  },
  {
   "cell_type": "markdown",
   "id": "banner-frederick",
   "metadata": {
    "slideshow": {
     "slide_type": "subslide"
    }
   },
   "source": [
    "## 如何理解程式碼組織機制的層次\n",
    "\n",
    "- 數行程式碼可以組織為一個函數。\n",
    "- 數個函數可以組織為一個類別。\n",
    "- 數個函數或類別可以組織為一個模組。\n",
    "- 數個模組可以組織為一個功能更多的模組。"
   ]
  },
  {
   "cell_type": "markdown",
   "id": "expanded-roots",
   "metadata": {
    "slideshow": {
     "slide_type": "subslide"
    }
   },
   "source": [
    "## 程式碼，組織！\n",
    "\n",
    "![](https://media.giphy.com/media/LOFT5Jd31ON1b5kLtP/giphy.gif)\n",
    "\n",
    "來源：<https://gph.is/g/4bWWoxv>"
   ]
  },
  {
   "cell_type": "markdown",
   "id": "concerned-jefferson",
   "metadata": {
    "slideshow": {
     "slide_type": "subslide"
    }
   },
   "source": [
    "## 什麼是函數\n",
    "\n",
    "一段被賦予名稱的程式碼，能夠完成某一個文字處理或者數值計算任務，在使用函數之前，必須先確定這個函數在執行的環境中已經被定義妥善。"
   ]
  },
  {
   "cell_type": "markdown",
   "id": "determined-level",
   "metadata": {
    "slideshow": {
     "slide_type": "subslide"
    }
   },
   "source": [
    "## 函數有四個來源\n",
    "\n",
    "1. 來自內建函數。\n",
    "2. 來自標準模組。\n",
    "3. 來自第三方模組。\n",
    "4. **來自使用者的定義**。"
   ]
  },
  {
   "cell_type": "markdown",
   "id": "therapeutic-toolbox",
   "metadata": {
    "slideshow": {
     "slide_type": "subslide"
    }
   },
   "source": [
    "## 目前還沒有載入標準/第三方模組函數的需求\n",
    "\n",
    "之後在「使用模組包裝函數與類別」章節會說明。"
   ]
  },
  {
   "cell_type": "markdown",
   "id": "micro-martial",
   "metadata": {
    "slideshow": {
     "slide_type": "subslide"
    }
   },
   "source": [
    "## 自行定義函數：來自使用者的定義"
   ]
  },
  {
   "cell_type": "code",
   "execution_count": null,
   "id": "olive-poverty",
   "metadata": {},
   "outputs": [],
   "source": [
    "def power(x, n):\n",
    "    out = x**n\n",
    "    return out\n",
    "\n",
    "try:\n",
    "    print(power(5, 3))\n",
    "except NameError as error_message:\n",
    "    print(error_message)"
   ]
  },
  {
   "cell_type": "markdown",
   "id": "disturbed-piano",
   "metadata": {
    "slideshow": {
     "slide_type": "subslide"
    }
   },
   "source": [
    "## 如何自行定義函數\n",
    "\n",
    "- `def` 保留字用來定義函數的名稱。\n",
    "- 縮排部分稱為程式區塊（Code block），是函數的主體，也是練習題要學員運用預期輸入與參數來完成的部分。\n",
    "- 不要忘記把函數的預期輸出寫在 `return` 保留字後。\n",
    "- 函數的類別提示（Typing）並不是必要的，但它能幫助學員更快理解練習題。"
   ]
  },
  {
   "cell_type": "markdown",
   "id": "cloudy-entry",
   "metadata": {
    "slideshow": {
     "slide_type": "subslide"
    }
   },
   "source": [
    "## 自行定義函數的結構\n",
    "\n",
    "```python\n",
    "def function_name(INPUTS: TYPE, ARGUMENTS: TYPE) -> TYPE:\n",
    "    ### BEGIN SOLUTION\n",
    "    OUTPUTS = INPUTS (+-*/...) ARGUMENTS\n",
    "    return OUTPUTS\n",
    "    ### END SOLUTION\n",
    "```"
   ]
  },
  {
   "cell_type": "markdown",
   "id": "abandoned-nevada",
   "metadata": {
    "slideshow": {
     "slide_type": "subslide"
    }
   },
   "source": [
    "## 利用練習題大量地自行定義函數，學會程序化程式設計（Procedural programming）\n",
    "\n",
    "把即將要執行的程式碼組織為函數，並依序使用這些函數來完成任務。\n",
    "\n",
    "```python\n",
    "def function_one():\n",
    "    ...\n",
    "    return ...\n",
    "    \n",
    "def function_two():\n",
    "    ...\n",
    "    return ...\n",
    "\n",
    "function_one()\n",
    "function_two()\n",
    "```"
   ]
  },
  {
   "cell_type": "markdown",
   "id": "clinical-strengthening",
   "metadata": {
    "slideshow": {
     "slide_type": "subslide"
    }
   },
   "source": [
    "## 定義與使用函數的差別\n",
    "\n",
    "- 完成定義函數以後，還需要使用函數才會將引數傳入運算。\n",
    "- 定義函數的當下只有與語法錯誤相似的錯誤（例如縮排錯誤）會發起例外。\n",
    "- 如果是執行錯誤，在使用函數時才會發起。"
   ]
  },
  {
   "cell_type": "markdown",
   "id": "golden-leonard",
   "metadata": {
    "slideshow": {
     "slide_type": "subslide"
    }
   },
   "source": [
    "## 透過 [pythontutor.com](https://pythontutor.com/visualize.html#code=def%20power%28x,%20n%29%3A%0A%20%20%20%20out%20%3D%20x**n%0A%20%20%20%20return%20out%0A%0Apower%285,%203%29&cumulative=false&curInstr=0&heapPrimitives=nevernest&mode=display&origin=opt-frontend.js&py=3&rawInputLstJSON=%5B%5D&textReferences=false) 觀察"
   ]
  },
  {
   "cell_type": "code",
   "execution_count": null,
   "id": "jewish-damages",
   "metadata": {
    "slideshow": {
     "slide_type": "-"
    }
   },
   "outputs": [],
   "source": [
    "def power(x, n):\n",
    "    out = x**n\n",
    "    return out\n",
    "\n",
    "power(5, 3)\n",
    "#power(\"5\", 3)"
   ]
  },
  {
   "cell_type": "markdown",
   "id": "resident-finland",
   "metadata": {
    "slideshow": {
     "slide_type": "subslide"
    }
   },
   "source": [
    "## 什麼是作用域\n",
    "\n",
    "> 作用域是物件名稱與物件實例參照保持有效的程式碼。\n",
    "\n",
    "來源：<https://en.wikipedia.org/wiki/Scope_(computer_science)>"
   ]
  },
  {
   "cell_type": "markdown",
   "id": "undefined-display",
   "metadata": {
    "slideshow": {
     "slide_type": "subslide"
    }
   },
   "source": [
    "## 當自行定義函數出現在程式中，物件的作用域就會一分為二\n",
    "\n",
    "1. 區域物件（Local objects）。\n",
    "2. 全域物件（Global objects）。"
   ]
  },
  {
   "cell_type": "markdown",
   "id": "usual-component",
   "metadata": {
    "slideshow": {
     "slide_type": "subslide"
    }
   },
   "source": [
    "## 區域物件僅在附屬於該函數的程式區塊中才有效\n",
    "\n",
    "- 函數的輸入與參數物件。\n",
    "- 在函數的程式區塊中建立的物件。"
   ]
  },
  {
   "cell_type": "code",
   "execution_count": null,
   "id": "amateur-buyer",
   "metadata": {
    "slideshow": {
     "slide_type": "-"
    }
   },
   "outputs": [],
   "source": [
    "def power(local_x, local_n):\n",
    "    local_out = local_x**local_n\n",
    "    print(local_x)   # effective\n",
    "    print(local_n)   # effective\n",
    "    print(local_out) # effective\n",
    "\n",
    "power(-5, 3)"
   ]
  },
  {
   "cell_type": "code",
   "execution_count": null,
   "id": "spanish-heating",
   "metadata": {
    "slideshow": {
     "slide_type": "subslide"
    }
   },
   "outputs": [],
   "source": [
    "try:\n",
    "    #print(local_x)   # non-effective\n",
    "    #print(local_n)   # non-effective\n",
    "    print(local_out) # non-effective\n",
    "except NameError as error_message:\n",
    "    print(error_message)"
   ]
  },
  {
   "cell_type": "markdown",
   "id": "expressed-province",
   "metadata": {
    "slideshow": {
     "slide_type": "subslide"
    }
   },
   "source": [
    "## 其他函數的區域物件也無效"
   ]
  },
  {
   "cell_type": "code",
   "execution_count": null,
   "id": "contained-planning",
   "metadata": {
    "slideshow": {
     "slide_type": "-"
    }
   },
   "outputs": [],
   "source": [
    "def absolute():\n",
    "    if local_x < 0: # non-effective\n",
    "        return -local_x\n",
    "    else:\n",
    "        return local_x\n",
    "\n",
    "try:\n",
    "    absolute()\n",
    "except NameError as error_message:\n",
    "    print(error_message)"
   ]
  },
  {
   "cell_type": "markdown",
   "id": "hydraulic-forestry",
   "metadata": {
    "slideshow": {
     "slide_type": "subslide"
    }
   },
   "source": [
    "## 不是在函數的程式區塊中建立的是全域物件，在任何地方都有效\n",
    "\n",
    "- 不附屬於函數的物件。\n",
    "- 定義妥善的函數。"
   ]
  },
  {
   "cell_type": "code",
   "execution_count": null,
   "id": "champion-brave",
   "metadata": {
    "slideshow": {
     "slide_type": "subslide"
    }
   },
   "outputs": [],
   "source": [
    "def power():\n",
    "    return global_out\n",
    "def absolute():\n",
    "    if global_x < 0:\n",
    "        return -global_x\n",
    "    else:\n",
    "        return global_x\n",
    "\n",
    "global_x = -5\n",
    "global_n = 3\n",
    "global_out = global_x**global_n\n",
    "print(power())\n",
    "print(absolute())"
   ]
  },
  {
   "cell_type": "markdown",
   "id": "pending-reviewer",
   "metadata": {
    "slideshow": {
     "slide_type": "subslide"
    }
   },
   "source": [
    "## 物件命名的參照區域物件優先於全域物件\n",
    "\n",
    "- 乍看之下在函數的程式區塊中使用全域物件很方便，但這樣的做法並不被推薦。\n",
    "- 好的做法是透過函數所設計的參數將全域物件傳入。"
   ]
  },
  {
   "cell_type": "markdown",
   "id": "verbal-mountain",
   "metadata": {
    "slideshow": {
     "slide_type": "subslide"
    }
   },
   "source": [
    "## 不推薦直接使用全域物件的原因\n",
    "\n",
    "- 如果區域以及全域存在相同的物件命名，函數會優先參照區域物件。\n",
    "- 避免物件命名的混淆。"
   ]
  },
  {
   "cell_type": "code",
   "execution_count": null,
   "id": "encouraging-treasury",
   "metadata": {
    "slideshow": {
     "slide_type": "subslide"
    }
   },
   "outputs": [],
   "source": [
    "def power(x, n):\n",
    "    out = x**n\n",
    "    print(x)\n",
    "    print(n)\n",
    "    print(out)\n",
    "\n",
    "x = 2\n",
    "n = 4\n",
    "out = x**n\n",
    "print(x)     # global x\n",
    "print(n)     # global n\n",
    "print(out)   # global out"
   ]
  },
  {
   "cell_type": "code",
   "execution_count": null,
   "id": "happy-producer",
   "metadata": {
    "slideshow": {
     "slide_type": "-"
    }
   },
   "outputs": [],
   "source": [
    "power(-5, 3) # local x, n, out"
   ]
  },
  {
   "cell_type": "markdown",
   "id": "digital-northwest",
   "metadata": {
    "slideshow": {
     "slide_type": "subslide"
    }
   },
   "source": [
    "## 定義妥善的函數對其他的函數而言就像一個全域的內建函數\n",
    "\n",
    "- 可以在自行定義函數的過程中使用其他定義妥善的函數。\n",
    "- 讓函數彼此分工，不需要把所有的運算都集中在一個函數中完成。\n",
    "- 減少重複的程式碼。\n",
    "\n",
    "```python\n",
    "def function_one():\n",
    "    ...\n",
    "    return ...\n",
    "    \n",
    "def function_two():\n",
    "    ...\n",
    "    function_one()\n",
    "    ...\n",
    "    return ...\n",
    "```"
   ]
  },
  {
   "cell_type": "markdown",
   "id": "pregnant-fusion",
   "metadata": {
    "slideshow": {
     "slide_type": "subslide"
    }
   },
   "source": [
    "## 例如定義「計算中位數」函數時可以使用「取出中位元素」函數"
   ]
  },
  {
   "cell_type": "code",
   "execution_count": null,
   "id": "regular-promise",
   "metadata": {},
   "outputs": [],
   "source": [
    "def retrieve_middle_elements(x):\n",
    "    length = len(x)\n",
    "    middle_index = length // 2\n",
    "    if length % 2 == 1:\n",
    "        return x[middle_index]\n",
    "    else:\n",
    "        return x[middle_index - 1], x[middle_index]\n",
    "def calculate_median(x):\n",
    "    middle_elements = retrieve_middle_elements(x) # use retrieve_middle_elements() to get middle elements\n",
    "    if type(middle_elements) == tuple:\n",
    "        return sum(middle_elements) / 2\n",
    "    else:\n",
    "        return middle_elements\n",
    "\n",
    "print(calculate_median([9, 8, 3, 6, 7, 3, 1]))\n",
    "print(calculate_median([1, 3, 2, 5, 4, 9, 8, 6]))"
   ]
  },
  {
   "cell_type": "markdown",
   "id": "infinite-ranch",
   "metadata": {
    "slideshow": {
     "slide_type": "subslide"
    }
   },
   "source": [
    "## 例如定義「前 100 個 Fizz buzz」函數時可以使用「Fizz buzz」函數"
   ]
  },
  {
   "cell_type": "code",
   "execution_count": null,
   "id": "sapphire-figure",
   "metadata": {},
   "outputs": [],
   "source": [
    "def fizz_buzz(x):\n",
    "    if x % 15 == 0:\n",
    "        return \"Fizz Buzz\"\n",
    "    elif x % 3 == 0:\n",
    "        return \"Fizz\"\n",
    "    elif x % 5 == 0:\n",
    "        return \"Buzz\"\n",
    "    else:\n",
    "        return x\n",
    "def create_first_100_fizz_buzz():\n",
    "    fizz_buzz_list = list()\n",
    "    for integer in range(1, 101):\n",
    "        fizz_buzz_list.append(fizz_buzz(integer)) # use fizz_buzz() to get fizz buzz element\n",
    "    return fizz_buzz_list\n",
    "\n",
    "print(create_first_100_fizz_buzz())"
   ]
  },
  {
   "cell_type": "markdown",
   "id": "amended-duplicate",
   "metadata": {
    "slideshow": {
     "slide_type": "subslide"
    }
   },
   "source": [
    "## 自行定義函數很重要的任務是釐清「預期輸入」與「預期輸出」的對應關係\n",
    "\n",
    "1. 一個輸入 vs. 一個輸出。\n",
    "2. 一個輸入 vs. 多個輸出。\n",
    "3. 多個輸入 vs. 一個輸出。\n",
    "4. 多個輸入 vs. 多個輸出。"
   ]
  },
  {
   "cell_type": "markdown",
   "id": "loaded-elder",
   "metadata": {
    "slideshow": {
     "slide_type": "subslide"
    }
   },
   "source": [
    "## 「一個輸入」或者「一個輸出」的對應關係單純且容易理解\n",
    "\n",
    "- 多個輸出。\n",
    "- 多個輸入。"
   ]
  },
  {
   "cell_type": "markdown",
   "id": "realistic-manor",
   "metadata": {
    "slideshow": {
     "slide_type": "subslide"
    }
   },
   "source": [
    "## 以資料結構類別處理函數的「多個輸出」\n",
    "\n",
    "- 預設以 `tuple` 資料結構類別應對多個輸出。\n",
    "- 可以自行調整偏好的資料結構類別。"
   ]
  },
  {
   "cell_type": "code",
   "execution_count": null,
   "id": "viral-determination",
   "metadata": {
    "slideshow": {
     "slide_type": "subslide"
    }
   },
   "outputs": [],
   "source": [
    "def get_first_and_last_characters(x):\n",
    "    first_character = x[0]\n",
    "    last_character = x[-1]\n",
    "    return first_character, last_character # did not specify a tuple with ()\n",
    "\n",
    "print(get_first_and_last_characters(\"Python\"))\n",
    "print(type(get_first_and_last_characters(\"Python\")))"
   ]
  },
  {
   "cell_type": "markdown",
   "id": "muslim-magazine",
   "metadata": {
    "slideshow": {
     "slide_type": "subslide"
    }
   },
   "source": [
    "## 指定用 `list` 輸出"
   ]
  },
  {
   "cell_type": "code",
   "execution_count": null,
   "id": "competitive-coordinator",
   "metadata": {
    "slideshow": {
     "slide_type": "-"
    }
   },
   "outputs": [],
   "source": [
    "def get_first_and_last_characters(x):\n",
    "    first_character = x[0]\n",
    "    last_character = x[-1]\n",
    "    return [first_character, last_character] # specify a list with []\n",
    "\n",
    "print(get_first_and_last_characters(\"Python\"))\n",
    "print(type(get_first_and_last_characters(\"Python\")))"
   ]
  },
  {
   "cell_type": "markdown",
   "id": "vocational-discount",
   "metadata": {
    "slideshow": {
     "slide_type": "subslide"
    }
   },
   "source": [
    "## 指定用 `dict` 輸出"
   ]
  },
  {
   "cell_type": "code",
   "execution_count": null,
   "id": "alpine-blackjack",
   "metadata": {
    "slideshow": {
     "slide_type": "-"
    }
   },
   "outputs": [],
   "source": [
    "def get_first_and_last_characters(x):\n",
    "    first_character = x[0]\n",
    "    last_character = x[-1]\n",
    "    output = {\n",
    "        \"first\": first_character,\n",
    "        \"last\": last_character\n",
    "    }\n",
    "    return output # specify a dict\n",
    "\n",
    "print(get_first_and_last_characters(\"Python\"))\n",
    "print(type(get_first_and_last_characters(\"Python\")))"
   ]
  },
  {
   "cell_type": "markdown",
   "id": "intense-license",
   "metadata": {
    "slideshow": {
     "slide_type": "subslide"
    }
   },
   "source": [
    "## 以資料結構類別或彈性參數處理函數的「多個輸入」\n",
    "\n",
    "- 運用資料結構類別作為一個輸入物件名稱。\n",
    "- 運用彈性參數。"
   ]
  },
  {
   "cell_type": "markdown",
   "id": "hollywood-looking",
   "metadata": {
    "slideshow": {
     "slide_type": "subslide"
    }
   },
   "source": [
    "## 運用資料結構類別作為一個輸入物件名稱"
   ]
  },
  {
   "cell_type": "code",
   "execution_count": null,
   "id": "bottom-indiana",
   "metadata": {
    "slideshow": {
     "slide_type": "-"
    }
   },
   "outputs": [],
   "source": [
    "def sum_and_square(x):\n",
    "    summation = sum(x)\n",
    "    output = summation**2\n",
    "    return output\n",
    "\n",
    "print(sum_and_square([2, 3, 5]))    # [2, 3, 5] as input\n",
    "print(sum_and_square((2, 3, 5, 7))) # (2, 3, 5, 7) as input"
   ]
  },
  {
   "cell_type": "markdown",
   "id": "adjacent-winner",
   "metadata": {
    "slideshow": {
     "slide_type": "subslide"
    }
   },
   "source": [
    "## 利用 `*` 標註彈性參數\n",
    "\n",
    "- `args` 可以在函數程式區塊中作為一個 `tuple` 供運用。\n",
    "- `args` 可以任意使用偏愛的命名。"
   ]
  },
  {
   "cell_type": "code",
   "execution_count": null,
   "id": "anonymous-archive",
   "metadata": {
    "slideshow": {
     "slide_type": "-"
    }
   },
   "outputs": [],
   "source": [
    "def sum_and_square(*args):\n",
    "    print(type(args))\n",
    "    summation = sum(args)\n",
    "    output = pow(summation, 2)\n",
    "    return output\n",
    "\n",
    "print(sum_and_square(2, 3, 5))    # 2, 3, 5 as input\n",
    "print(sum_and_square(2, 3, 5, 7)) # 2, 3, 5, 7 as input"
   ]
  },
  {
   "cell_type": "code",
   "execution_count": null,
   "id": "cutting-mumbai",
   "metadata": {
    "slideshow": {
     "slide_type": "subslide"
    }
   },
   "outputs": [],
   "source": [
    "def sum_and_square(*arguments):\n",
    "    summation = sum(arguments)\n",
    "    output = pow(summation, 2)\n",
    "    return output\n",
    "\n",
    "print(sum_and_square(2, 3, 5))\n",
    "print(sum_and_square(2, 3, 5, 7))"
   ]
  },
  {
   "cell_type": "markdown",
   "id": "gothic-richards",
   "metadata": {
    "slideshow": {
     "slide_type": "subslide"
    }
   },
   "source": [
    "## 利用 `**` 標註具有「鍵」與「值」的彈性參數\n",
    "\n",
    "- `kwargs` 可以在函數程式區塊中作為一個 `dict` 供運用。\n",
    "- `kwargs` 可以任意使用偏愛的命名。"
   ]
  },
  {
   "cell_type": "code",
   "execution_count": null,
   "id": "relevant-affiliation",
   "metadata": {},
   "outputs": [],
   "source": [
    "def print_country_capital(**kwargs):\n",
    "    print(type(kwargs)) # dict\n",
    "    for key, value in kwargs.items():\n",
    "        print(f\"Country: {key} Capital: {value}\")\n",
    "\n",
    "print_country_capital(JPN=\"Tokyo\", USA=\"Washington D.C.\", TWN=\"Taipei\")"
   ]
  },
  {
   "cell_type": "code",
   "execution_count": null,
   "id": "equivalent-affairs",
   "metadata": {
    "slideshow": {
     "slide_type": "subslide"
    }
   },
   "outputs": [],
   "source": [
    "def print_country_capital(**dictionary):\n",
    "    for key, value in dictionary.items():\n",
    "        print(f\"Country: {key} Capital: {value}\")\n",
    "\n",
    "print_country_capital(JPN=\"Tokyo\", USA=\"Washington D.C.\", TWN=\"Taipei\")"
   ]
  },
  {
   "cell_type": "markdown",
   "id": "joined-brass",
   "metadata": {
    "slideshow": {
     "slide_type": "subslide"
    }
   },
   "source": [
    "## `return` 保留字的兩個作用\n",
    "\n",
    "1. 回傳函數的預期輸出。\n",
    "2. 為函數的程式區塊畫下終止符。"
   ]
  },
  {
   "cell_type": "markdown",
   "id": "corrected-senior",
   "metadata": {
    "slideshow": {
     "slide_type": "subslide"
    }
   },
   "source": [
    "## 回傳函數的預期輸出\n",
    "\n",
    "- 沒有 `return` 的函數事實上的輸出是 `None`\n",
    "- 這也是練習題如果沒有將預期輸出寫在 `return` 保留字後，無法通過批改測試的原因。"
   ]
  },
  {
   "cell_type": "code",
   "execution_count": null,
   "id": "further-david",
   "metadata": {
    "slideshow": {
     "slide_type": "-"
    }
   },
   "outputs": [],
   "source": [
    "def power(x, n):\n",
    "    \"\"\"\n",
    "    Equivalent to x raised to the power of n.\n",
    "    \"\"\"\n",
    "    output = x**n\n",
    "\n",
    "type(power(5, 3))"
   ]
  },
  {
   "cell_type": "markdown",
   "id": "fewer-official",
   "metadata": {
    "slideshow": {
     "slide_type": "subslide"
    }
   },
   "source": [
    "## 為函數的程式區塊畫下終止符\n",
    "\n",
    "即便寫在縮排的函數程式區塊之中，`return` 後所寫的程式並沒有作用。"
   ]
  },
  {
   "cell_type": "code",
   "execution_count": null,
   "id": "british-filter",
   "metadata": {},
   "outputs": [],
   "source": [
    "def power(x, n):\n",
    "    \"\"\"\n",
    "    Equivalent to x raised to the power of n.\n",
    "    \"\"\"\n",
    "    out = x**n\n",
    "    return out\n",
    "    print(x)\n",
    "    print(n)\n",
    "\n",
    "power(5, 3)"
   ]
  },
  {
   "cell_type": "markdown",
   "id": "varying-equivalent",
   "metadata": {
    "slideshow": {
     "slide_type": "subslide"
    }
   },
   "source": [
    "## Python 屬於動態類別程式語言\n",
    "\n",
    "- 簡單來說，動態類別程式語言指的是物件「不」帶類別的資訊。\n",
    "- 因此程式碼中相同命名的物件參照可以彈性地更動。\n",
    "- 例如，相同的物件命名在一段程式碼中的某個段落參照資料類別 `int`，在其他段落參照資料結構類別 `list`"
   ]
  },
  {
   "cell_type": "code",
   "execution_count": null,
   "id": "quantitative-yeast",
   "metadata": {},
   "outputs": [],
   "source": [
    "my_favorite = 5566\n",
    "print(type(my_favorite))\n",
    "my_favorite = [5, 5, 6, 6]\n",
    "print(type(my_favorite))"
   ]
  },
  {
   "cell_type": "markdown",
   "id": "bigger-morris",
   "metadata": {
    "slideshow": {
     "slide_type": "subslide"
    }
   },
   "source": [
    "## 帶有類別提示的自行定義函數"
   ]
  },
  {
   "cell_type": "code",
   "execution_count": null,
   "id": "paperback-exchange",
   "metadata": {},
   "outputs": [],
   "source": [
    "def power(x: int, n: int) -> int:\n",
    "    out: int = x**n\n",
    "    return out"
   ]
  },
  {
   "cell_type": "markdown",
   "id": "pharmaceutical-vietnam",
   "metadata": {
    "slideshow": {
     "slide_type": "subslide"
    }
   },
   "source": [
    "## 類別提示並不具有強制性\n",
    "\n",
    "- 函數的使用者仍可以輸入與類別提示相異的資料。\n",
    "- 函數也會如預期產生錯誤。"
   ]
  },
  {
   "cell_type": "code",
   "execution_count": null,
   "id": "flexible-expense",
   "metadata": {
    "slideshow": {
     "slide_type": "-"
    }
   },
   "outputs": [],
   "source": [
    "try: \n",
    "    power(\"Luke Skywalker\", 2)\n",
    "except TypeError as error_message:\n",
    "    print(error_message)"
   ]
  },
  {
   "cell_type": "markdown",
   "id": "animated-nature",
   "metadata": {
    "slideshow": {
     "slide_type": "subslide"
    }
   },
   "source": [
    "## 加入類別提示有什麼作用\n",
    "\n",
    "- 增加程式碼的可讀性。\n",
    "- 迫使設計者開發更簡潔易用的函數。\n",
    "- 讓外部工具（例如 `mypy`、整合開發環境）能夠有更明確的提示、警告或自動完成功能。"
   ]
  },
  {
   "cell_type": "markdown",
   "id": "numerous-graphic",
   "metadata": {
    "slideshow": {
     "slide_type": "subslide"
    }
   },
   "source": [
    "## 單純的情境運用類別名稱標註即可"
   ]
  },
  {
   "cell_type": "code",
   "execution_count": null,
   "id": "inclusive-framework",
   "metadata": {
    "slideshow": {
     "slide_type": "-"
    }
   },
   "outputs": [],
   "source": [
    "def power(x: int, n: int) -> int:\n",
    "    out: int = x**n\n",
    "    return out"
   ]
  },
  {
   "cell_type": "markdown",
   "id": "organic-clarity",
   "metadata": {
    "slideshow": {
     "slide_type": "subslide"
    }
   },
   "source": [
    "## 較為複雜的情境可以運用標準模組 `typing`\n",
    "\n",
    "預期輸入或者預期輸出有多種可能。"
   ]
  },
  {
   "cell_type": "code",
   "execution_count": null,
   "id": "guilty-recording",
   "metadata": {
    "slideshow": {
     "slide_type": "-"
    }
   },
   "outputs": [],
   "source": [
    "from typing import Union\n",
    "\n",
    "def power(x: Union[bool, int, float], n: Union[int, float]) -> Union[int, float]:\n",
    "    out: Union[int, float] = x**n\n",
    "    return out"
   ]
  },
  {
   "cell_type": "code",
   "execution_count": null,
   "id": "rough-broad",
   "metadata": {
    "slideshow": {
     "slide_type": "subslide"
    }
   },
   "outputs": [],
   "source": [
    "from typing import Union\n",
    "from typing import List\n",
    "\n",
    "def sum_a_list(x: List[Union[bool, int, float]]) -> Union[int, float]:\n",
    "    out: Union[int, float] = sum(x)\n",
    "    return out"
   ]
  },
  {
   "cell_type": "markdown",
   "id": "related-happiness",
   "metadata": {
    "slideshow": {
     "slide_type": "subslide"
    }
   },
   "source": [
    "## 利用任務大量地自行定義函數熟悉類別提示的讀法以及寫法"
   ]
  },
  {
   "cell_type": "markdown",
   "id": "4e22c8f3",
   "metadata": {
    "slideshow": {
     "slide_type": "subslide"
    }
   },
   "source": [
    "## 任務 50：計算圓面積\n",
    "\n",
    "使用圓周率 $\\pi = 3.14$\n",
    "\n",
    "\\begin{equation}\n",
    "\\text{Circle area} = \\pi r^2\n",
    "\\end{equation}"
   ]
  },
  {
   "cell_type": "code",
   "execution_count": null,
   "id": "81835b13",
   "metadata": {},
   "outputs": [],
   "source": [
    "def task_50(r: int) -> float:\n",
    "    \"\"\"\n",
    "    >>> task_50(5)\n",
    "    78.5\n",
    "    >>> task_50(6)\n",
    "    113.04\n",
    "    >>> task_50(7)\n",
    "    153.86\n",
    "    \"\"\"\n",
    "    # 寫作\n",
    "    return None\n",
    "    # 寫作"
   ]
  },
  {
   "cell_type": "markdown",
   "id": "aee86d65",
   "metadata": {
    "slideshow": {
     "slide_type": "subslide"
    }
   },
   "source": [
    "## 任務 51：計算圓柱體積\n",
    "\n",
    "使用圓周率 $\\pi = 3.14$\n",
    "\n",
    "\\begin{equation}\n",
    "\\text{Cylinder volume} = \\pi r^2 h\n",
    "\\end{equation}"
   ]
  },
  {
   "cell_type": "code",
   "execution_count": null,
   "id": "22f7c31c",
   "metadata": {},
   "outputs": [],
   "source": [
    "def task_51(r: int, h: int) -> float:\n",
    "    \"\"\"\n",
    "    >>> task_51(5, 6)\n",
    "    471.0\n",
    "    >>> task_51(6, 5)\n",
    "    565.2\n",
    "    >>> task_51(7, 8)\n",
    "    1230.88\n",
    "    \"\"\"\n",
    "    # 寫作\n",
    "    return None\n",
    "    # 寫作"
   ]
  },
  {
   "cell_type": "markdown",
   "id": "97339412",
   "metadata": {
    "slideshow": {
     "slide_type": "subslide"
    }
   },
   "source": [
    "## 任務 52：因數個數"
   ]
  },
  {
   "cell_type": "code",
   "execution_count": null,
   "id": "fb37b03d",
   "metadata": {},
   "outputs": [],
   "source": [
    "def task_52(x: int) -> int:\n",
    "    \"\"\"\n",
    "    >>> task_52(1)\n",
    "    1\n",
    "    >>> task_52(2)\n",
    "    2\n",
    "    >>> task_52(3)\n",
    "    2\n",
    "    >>> task_52(4)\n",
    "    3\n",
    "    >>> task_52(5)\n",
    "    2\n",
    "    >>> task_52(6)\n",
    "    4\n",
    "    \"\"\"\n",
    "    # 寫作\n",
    "    return None\n",
    "    # 寫作"
   ]
  },
  {
   "cell_type": "markdown",
   "id": "af0f8cf0",
   "metadata": {
    "slideshow": {
     "slide_type": "subslide"
    }
   },
   "source": [
    "## 任務 53：是否為質數"
   ]
  },
  {
   "cell_type": "code",
   "execution_count": null,
   "id": "ff1b39b0",
   "metadata": {},
   "outputs": [],
   "source": [
    "def tas_53(x: int) -> bool:\n",
    "    \"\"\"\n",
    "    >>> tas_53(1)\n",
    "    False\n",
    "    >>> tas_53(2)\n",
    "    True\n",
    "    >>> tas_53(3)\n",
    "    True\n",
    "    >>> tas_53(4)\n",
    "    False\n",
    "    >>> tas_53(5)\n",
    "    True\n",
    "    >>> tas_53(6)\n",
    "    False\n",
    "    \"\"\"\n",
    "    # 寫作\n",
    "    return None\n",
    "    # 寫作"
   ]
  },
  {
   "cell_type": "markdown",
   "id": "d89a4b92",
   "metadata": {
    "slideshow": {
     "slide_type": "subslide"
    }
   },
   "source": [
    "## 任務 54：彈性參數是否為質數"
   ]
  },
  {
   "cell_type": "code",
   "execution_count": null,
   "id": "2f2daae7",
   "metadata": {},
   "outputs": [],
   "source": [
    "def task_54(*args) -> list:\n",
    "    \"\"\"\n",
    "    >>> task_54(1, 2, 3)\n",
    "    [False, True, True]\n",
    "    >>> task_54(4, 5, 6)\n",
    "    [False, True, False]\n",
    "    >>> task_54(7, 11, 13, 17, 19)\n",
    "    [True, True, True, True, True]\n",
    "    >>> task_54(20, 21, 22, 24, 25, 26, 27)\n",
    "    [False, False, False, False, False, False, False]\n",
    "    \"\"\"\n",
    "    # 寫作\n",
    "    return None\n",
    "    # 寫作"
   ]
  },
  {
   "cell_type": "markdown",
   "id": "e851090e",
   "metadata": {
    "slideshow": {
     "slide_type": "subslide"
    }
   },
   "source": [
    "## 任務 55：範圍內的質數"
   ]
  },
  {
   "cell_type": "code",
   "execution_count": null,
   "id": "29b093b0",
   "metadata": {},
   "outputs": [],
   "source": [
    "def task_55(x: int, y: int) -> list:\n",
    "    \"\"\"\n",
    "    >>> task_55(1, 5)\n",
    "    [2, 3, 5]\n",
    "    >>> task_55(6, 10)\n",
    "    [7]\n",
    "    >>> task_55(11, 15)\n",
    "    [11, 13]\n",
    "    \"\"\"\n",
    "    # 寫作\n",
    "    return None\n",
    "    # 寫作"
   ]
  },
  {
   "cell_type": "markdown",
   "id": "bbee1089",
   "metadata": {
    "slideshow": {
     "slide_type": "subslide"
    }
   },
   "source": [
    "## 任務 56：小於 100 的質數"
   ]
  },
  {
   "cell_type": "code",
   "execution_count": null,
   "id": "1a1a0fc8",
   "metadata": {},
   "outputs": [],
   "source": [
    "def task_56() -> list:\n",
    "    \"\"\"\n",
    "    >>> primes_below_100 = task_56()\n",
    "    >>> len(primes_below_100)\n",
    "    25\n",
    "    >>> primes_below_100\n",
    "    [2, 3, 5, 7, 11, 13, 17, 19, 23, 29, 31, 37, 41, 43, 47, 53, 59, 61, 67, 71, 73, 79, 83, 89, 97]\n",
    "    \"\"\"\n",
    "    # 寫作\n",
    "    return None\n",
    "    # 寫作"
   ]
  },
  {
   "cell_type": "markdown",
   "id": "08184f88",
   "metadata": {
    "slideshow": {
     "slide_type": "subslide"
    }
   },
   "source": [
    "## 任務 57：前 `n` 個質數"
   ]
  },
  {
   "cell_type": "code",
   "execution_count": null,
   "id": "8afb0ada",
   "metadata": {},
   "outputs": [],
   "source": [
    "def task_57(n: int) -> list:\n",
    "    \"\"\"\n",
    "    >>> task_57(5)\n",
    "    [2, 3, 5, 7, 11]\n",
    "    >>> task_57(10)\n",
    "    [2, 3, 5, 7, 11, 13, 17, 19, 23, 29]\n",
    "    >>> task_57(30)\n",
    "    [2, 3, 5, 7, 11, 13, 17, 19, 23, 29, 31, 37, 41, 43, 47, 53, 59, 61, 67, 71, 73, 79, 83, 89, 97, 101, 103, 107, 109, 113]\n",
    "    \"\"\"\n",
    "    # 寫作\n",
    "    return None\n",
    "    # 寫作"
   ]
  },
  {
   "cell_type": "markdown",
   "id": "659ac519",
   "metadata": {
    "slideshow": {
     "slide_type": "subslide"
    }
   },
   "source": [
    "## 任務 58：挑出負的彈性參數並且平方"
   ]
  },
  {
   "cell_type": "code",
   "execution_count": null,
   "id": "3e0b6eaf",
   "metadata": {},
   "outputs": [],
   "source": [
    "def task_58(*args) -> list:\n",
    "    \"\"\"\n",
    "    >>> task_58(-3, -2, -1, 0, 1, 2, 3)\n",
    "    [9, 4, 1]\n",
    "    >>> task_58(-3, 0, 1, 2, 3, -2, -1)\n",
    "    [9, 4, 1]\n",
    "    >>> task_58(0, 1, 2, 3, -1, -2, -3)\n",
    "    [1, 4, 9]\n",
    "    \"\"\"\n",
    "    # 寫作\n",
    "    return None\n",
    "    # 寫作"
   ]
  },
  {
   "cell_type": "markdown",
   "id": "29202b91",
   "metadata": {
    "slideshow": {
     "slide_type": "subslide"
    }
   },
   "source": [
    "## 任務 59：轉換彈性參數的鍵、值為大寫"
   ]
  },
  {
   "cell_type": "code",
   "execution_count": null,
   "id": "61a4b064",
   "metadata": {},
   "outputs": [],
   "source": [
    "def task_59(**kwargs) -> dict:\n",
    "    \"\"\"\n",
    "    >>> task_59(tw=\"twn\")\n",
    "    {'TW': 'TWN'}\n",
    "    >>> task_59(tw=\"twn\", jp=\"jpn\")\n",
    "    {'TW': 'TWN', 'JP': 'JPN'}\n",
    "    >>> task_59(tw=\"twn\", jp=\"jpn\", lt=\"ltu\")\n",
    "    {'TW': 'TWN', 'JP': 'JPN', 'LT': 'LTU'}\n",
    "    \"\"\"\n",
    "    # 寫作\n",
    "    return None\n",
    "    # 寫作"
   ]
  },
  {
   "cell_type": "markdown",
   "id": "abf959d8",
   "metadata": {
    "slideshow": {
     "slide_type": "subslide"
    }
   },
   "source": [
    "## 測試：任務 50-59"
   ]
  },
  {
   "cell_type": "code",
   "execution_count": null,
   "id": "1ec3ebe1",
   "metadata": {},
   "outputs": [],
   "source": [
    "import unittest\n",
    "# 測試\n",
    "class TestTask5059(unittest.TestCase):\n",
    "    def test_task_50(self):\n",
    "        self.assertGreater(task_50(5), 78)\n",
    "        self.assertGreater(task_50(6), 113)\n",
    "        self.assertGreater(task_50(7), 153)\n",
    "    def test_task_51(self):\n",
    "        self.assertGreater(task_51(5, 6), 470)\n",
    "        self.assertGreater(task_51(6, 5), 565)\n",
    "        self.assertGreater(task_51(7, 8), 1230)\n",
    "    def test_task_52(self):\n",
    "        self.assertEqual(task_52(1), 1)\n",
    "        self.assertEqual(task_52(2), 2)\n",
    "        self.assertEqual(task_52(3), 2)\n",
    "        self.assertEqual(task_52(4), 3)\n",
    "        self.assertEqual(task_52(5), 2)\n",
    "        self.assertEqual(task_52(6), 4)\n",
    "    def test_task_53(self):\n",
    "        self.assertFalse(task_53(1))\n",
    "        self.assertTrue(task_53(2))\n",
    "        self.assertTrue(task_53(3))\n",
    "        self.assertFalse(task_53(4))\n",
    "        self.assertTrue(task_53(5))\n",
    "    def test_task_54(self):\n",
    "        self.assertEqual(task_54(1, 2, 3), [False, True, True])\n",
    "        self.assertEqual(task_54(4, 5, 6), [False, True, False])\n",
    "        self.assertEqual(task_54(7, 11, 13, 17, 19), [True, True, True, True, True])\n",
    "        self.assertEqual(task_54(20, 21, 22, 24, 25, 26, 27), [False, False, False, False, False, False, False])\n",
    "    def test_task_55(self):\n",
    "        self.assertEqual(task_55(1, 5), [2, 3, 5])\n",
    "        self.assertEqual(task_55(6, 10), [7])\n",
    "        self.assertEqual(task_55(11, 15), [11, 13])\n",
    "    def test_task_56(self):\n",
    "        primes_below_100 = task_56()\n",
    "        self.assertEqual(len(primes_below_100), 25)\n",
    "        self.assertEqual(primes_below_100, [2, 3, 5, 7, 11, 13, 17, 19, 23, 29, 31, 37, 41, 43, 47, 53, 59, 61, 67, 71, 73, 79, 83, 89, 97])\n",
    "    def test_task_57(self):\n",
    "        self.assertEqual(task_57(5), [2, 3, 5, 7, 11])\n",
    "        self.assertEqual(task_57(10), [2, 3, 5, 7, 11, 13, 17, 19, 23, 29])\n",
    "        self.assertEqual(task_57(30), [2, 3, 5, 7, 11, 13, 17, 19, 23, 29, 31, 37, 41, 43, 47, 53, 59, 61, 67, 71, 73, 79, 83, 89, 97, 101, 103, 107, 109, 113])\n",
    "    def test_task_58(self):\n",
    "        self.assertEqual(task_58(-3, -2, -1, 0, 1, 2, 3), [9, 4, 1])\n",
    "        self.assertEqual(task_58(-3, 0, 1, 2, 3, -2, -1), [9, 4, 1])\n",
    "        self.assertEqual(task_58(0, 1, 2, 3, -1, -2, -3), [1, 4, 9])\n",
    "    def test_task_59(self):\n",
    "        self.assertEqual(task_59(tw=\"twn\"), {'TW': 'TWN'})\n",
    "        self.assertEqual(task_59(tw=\"twn\", jp=\"jpn\"), {'TW': 'TWN', 'JP': 'JPN'})\n",
    "        self.assertEqual(task_59(tw=\"twn\", jp=\"jpn\", lt=\"ltu\"), {'TW': 'TWN', 'JP': 'JPN', 'LT': 'LTU'})\n",
    "suite = unittest.TestLoader().loadTestsFromTestCase(TestTask5059)\n",
    "runner = unittest.TextTestRunner(verbosity=2)\n",
    "runner.run(suite)"
   ]
  }
 ],
 "metadata": {
  "celltoolbar": "Slideshow",
  "kernelspec": {
   "display_name": "Python 3 (ipykernel)",
   "language": "python",
   "name": "python3"
  },
  "language_info": {
   "codemirror_mode": {
    "name": "ipython",
    "version": 3
   },
   "file_extension": ".py",
   "mimetype": "text/x-python",
   "name": "python",
   "nbconvert_exporter": "python",
   "pygments_lexer": "ipython3",
   "version": "3.9.12"
  }
 },
 "nbformat": 4,
 "nbformat_minor": 5
}
