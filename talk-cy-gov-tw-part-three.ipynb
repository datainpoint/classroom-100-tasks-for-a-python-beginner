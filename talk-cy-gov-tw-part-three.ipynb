{
 "cells": [
  {
   "cell_type": "markdown",
   "id": "347b8e7c-5185-46ac-933e-93e51861253f",
   "metadata": {
    "slideshow": {
     "slide_type": "slide"
    }
   },
   "source": [
    "# Python 程式語言進階課程：程式設計（第三部分）\n",
    "\n",
    "> 監察院，2023-02-09\n",
    "\n",
    "[數聚點](https://www.datainpoint.com) | 郭耀仁 <yaojenkuo@ntu.edu.tw>"
   ]
  },
  {
   "cell_type": "markdown",
   "id": "e6b52a34",
   "metadata": {
    "slideshow": {
     "slide_type": "slide"
    }
   },
   "source": [
    "## 資料結構\n",
    "\n",
    "- 起：任務 20\n",
    "- 迄：任務 39"
   ]
  },
  {
   "cell_type": "markdown",
   "id": "5b7a96a1",
   "metadata": {
    "slideshow": {
     "slide_type": "subslide"
    }
   },
   "source": [
    "## 什麼是資料結構\n",
    "\n",
    "> 資料結構是電腦儲存、組織以及取得資料的機制，可以透過程式語言所提供的類別與自行定義類別實現，一個設計良好的資料結構，會在盡可能使用較少的時間與空間資源下，支援各種程式執行。\n",
    "\n",
    "來源：<https://en.wikipedia.org/wiki/Data_structure>"
   ]
  },
  {
   "cell_type": "markdown",
   "id": "3ac76b82",
   "metadata": {
    "slideshow": {
     "slide_type": "subslide"
    }
   },
   "source": [
    "## 為什麼需要資料結構\n",
    "\n",
    "- 在資料科學家日常的工作任務中，資料處理佔有相當高的比例。\n",
    "- 需要有一個機制能夠協助他們輸入、處理最後輸出資料。\n",
    "- 這個「機制」就是**資料結構**。\n",
    "- 適當地選擇資料結構，讓資料科學家能夠有效率地儲存與取得資料。\n",
    "- 就像是將食物放置在冰箱、衣服放置在衣櫥、鞋子放置在鞋櫃。"
   ]
  },
  {
   "cell_type": "markdown",
   "id": "57a63db3",
   "metadata": {
    "slideshow": {
     "slide_type": "subslide"
    }
   },
   "source": [
    "## Python 內建的四個資料結構類別\n",
    "\n",
    "1. `list`\n",
    "2. `tuple`\n",
    "3. `dict`(dictionary)\n",
    "4. `set`"
   ]
  },
  {
   "cell_type": "markdown",
   "id": "1a729b98",
   "metadata": {
    "slideshow": {
     "slide_type": "subslide"
    }
   },
   "source": [
    "## `list`\n",
    "\n",
    "- `list` 是一種「有序」且能夠「更新」的資料結構。\n",
    "- `list` 可以透過「逗號」`,` 分隔值與「中括號」`[]` 形成。"
   ]
  },
  {
   "cell_type": "code",
   "execution_count": null,
   "id": "b62e3495",
   "metadata": {},
   "outputs": [],
   "source": [
    "primes = [2, 3, 5, 7, 11]\n",
    "type(primes)"
   ]
  },
  {
   "cell_type": "markdown",
   "id": "7645012a",
   "metadata": {
    "slideshow": {
     "slide_type": "subslide"
    }
   },
   "source": [
    "## 使用內建函數 `len()`  得知一個 `list` 中有幾個資料值"
   ]
  },
  {
   "cell_type": "code",
   "execution_count": null,
   "id": "07bab2ea",
   "metadata": {},
   "outputs": [],
   "source": [
    "len(primes)"
   ]
  },
  {
   "cell_type": "markdown",
   "id": "12a8784d",
   "metadata": {
    "slideshow": {
     "slide_type": "subslide"
    }
   },
   "source": [
    "## 從一個 `list` 中取出資料的方式有兩種\n",
    "\n",
    "1. **indexing** 指的是從一個 `list` 中取出特定位置的單個資料值。\n",
    "2. **slicing** 指的是從一個 `list` 中擷取特定片段。"
   ]
  },
  {
   "cell_type": "markdown",
   "id": "c7c297a7",
   "metadata": {
    "slideshow": {
     "slide_type": "subslide"
    }
   },
   "source": [
    "## indexing `[index]`\n",
    "\n",
    "`list` 採用兩個方向的索引機制：\n",
    "\n",
    "1. 由左至右：「從 0 開始」的索引機制。\n",
    "2. 由右至左：「從 -1 開始」的索引機制。"
   ]
  },
  {
   "cell_type": "code",
   "execution_count": null,
   "id": "70ea7eb5",
   "metadata": {},
   "outputs": [],
   "source": [
    "print(primes[0])  # the first element\n",
    "print(primes[1])  # the second element\n",
    "print(primes[-1]) # the last element\n",
    "print(primes[-2]) # the second last element"
   ]
  },
  {
   "cell_type": "markdown",
   "id": "23f2edbe",
   "metadata": {
    "slideshow": {
     "slide_type": "subslide"
    }
   },
   "source": [
    "## slicing `[start:stop:step]`\n",
    "\n",
    "除了可以取出特定位置的單個資料值，`list` 也支援擷取特定片段，藉此獲得一個較短長度 `list` 的語法。\n",
    "\n",
    "- `start` 起始位置（包含）。\n",
    "- `stop` 終止位置（排除）。\n",
    "- `step` 間隔。"
   ]
  },
  {
   "cell_type": "code",
   "execution_count": null,
   "id": "2bb541e9",
   "metadata": {},
   "outputs": [],
   "source": [
    "print(primes[0:3:1])            # slicing the first 3 elements\n",
    "print(primes[-3:len(primes):1]) # slicing the last 3 elements \n",
    "print(primes[0:len(primes):2])  # slicing every second element"
   ]
  },
  {
   "cell_type": "markdown",
   "id": "127910ea",
   "metadata": {
    "slideshow": {
     "slide_type": "subslide"
    }
   },
   "source": [
    "## slicing 如果沒有指定 `start:stop:step` 就採用預設值\n",
    "\n",
    "- `start` 起始位置（包含）預設為 `0`。\n",
    "- `stop` 終止位置（排除）預設為 `list` 的長度。\n",
    "- `step` 間隔預設為 `1`。"
   ]
  },
  {
   "cell_type": "code",
   "execution_count": null,
   "id": "9525cacd",
   "metadata": {},
   "outputs": [],
   "source": [
    "print(primes[:3])  # slicing the first 3 elements\n",
    "print(primes[-3:]) # slicing the last 3 elements \n",
    "print(primes[::2]) # slicing every second element"
   ]
  },
  {
   "cell_type": "markdown",
   "id": "9c0e7dae",
   "metadata": {
    "slideshow": {
     "slide_type": "subslide"
    }
   },
   "source": [
    "## `str` 也適用 indexing 與 slicing"
   ]
  },
  {
   "cell_type": "code",
   "execution_count": null,
   "id": "a18dfcc0",
   "metadata": {},
   "outputs": [],
   "source": [
    "luke_skywalker = \"Luke Skywalker\"\n",
    "print(luke_skywalker[0])\n",
    "print(luke_skywalker[-1])\n",
    "print(luke_skywalker[:4])\n",
    "print(luke_skywalker[5:])"
   ]
  },
  {
   "cell_type": "markdown",
   "id": "ce39251f",
   "metadata": {
    "slideshow": {
     "slide_type": "subslide"
    }
   },
   "source": [
    "## 更新 `list` 中的資料值"
   ]
  },
  {
   "cell_type": "code",
   "execution_count": null,
   "id": "dcaf5698",
   "metadata": {},
   "outputs": [],
   "source": [
    "print(primes)   # before update\n",
    "primes[-1] = 13 # update\n",
    "print(primes)   # after update"
   ]
  },
  {
   "cell_type": "markdown",
   "id": "85859ca4",
   "metadata": {
    "slideshow": {
     "slide_type": "subslide"
    }
   },
   "source": [
    "## 也可以透過 `list` 的多種方法更新\n",
    "\n",
    "- `list.append()`\n",
    "- `list.pop()`\n",
    "- `list.remove()`\n",
    "- `list.insert()`\n",
    "- `list.sort()`\n",
    "- ...等。"
   ]
  },
  {
   "cell_type": "markdown",
   "id": "95f3267f",
   "metadata": {
    "slideshow": {
     "slide_type": "subslide"
    }
   },
   "source": [
    "## 查詢 `list` 方法的說明"
   ]
  },
  {
   "cell_type": "code",
   "execution_count": null,
   "id": "41ebf759",
   "metadata": {},
   "outputs": [],
   "source": [
    "help(primes.append)\n",
    "#primes.append() # 在小括號中按 Shift - Tab 查詢方法的說明"
   ]
  },
  {
   "cell_type": "markdown",
   "id": "f41a1ceb",
   "metadata": {
    "slideshow": {
     "slide_type": "subslide"
    }
   },
   "source": [
    "## `list` 支援的運算符\n",
    "\n",
    "- `+` 運算符：連接 lists\n",
    "- `*` 運算符：複製 `list` 中的元素。"
   ]
  },
  {
   "cell_type": "code",
   "execution_count": null,
   "id": "ce99e609",
   "metadata": {},
   "outputs": [],
   "source": [
    "primes = [2, 3, 5, 7, 11]\n",
    "primes_to_concatenate = [13, 17, 19, 23, 29]\n",
    "primes + primes_to_concatenate"
   ]
  },
  {
   "cell_type": "code",
   "execution_count": null,
   "id": "d11e5725",
   "metadata": {},
   "outputs": [],
   "source": [
    "print(primes * 2)\n",
    "print(primes_to_concatenate * 3)"
   ]
  },
  {
   "cell_type": "markdown",
   "id": "a8a5a4ec",
   "metadata": {
    "slideshow": {
     "slide_type": "subslide"
    }
   },
   "source": [
    "## 在應用 `list` 的多種方法之前，先注意函數的兩種使用形式\n",
    "\n",
    "1. 對物件應用函數，語法為 `function(object)`\n",
    "2. 使用附屬於物件的函數，稱為使用物件的方法，語法為 `object.method()`"
   ]
  },
  {
   "cell_type": "markdown",
   "id": "62b9a5ad",
   "metadata": {
    "slideshow": {
     "slide_type": "subslide"
    }
   },
   "source": [
    "## 除了使用函數與方法的差異，也要留意物件更新的兩種方式\n",
    "\n",
    "1. 將更新的結果回傳（Return），物件本身維持不變。\n",
    "2. 更新物件本身並回傳 `None`"
   ]
  },
  {
   "cell_type": "markdown",
   "id": "1cfb1804",
   "metadata": {
    "slideshow": {
     "slide_type": "subslide"
    }
   },
   "source": [
    "## 兩種更新方式的範例：排序一個 `list`\n",
    "\n",
    "1. 使用內建函數 `sorted()` 採取將更新的結果回傳（Return），物件本身維持不變的更新方式。\n",
    "2. 使用 `list.sort()` 採取更新物件本身並回傳 `None` 的更新方式。"
   ]
  },
  {
   "cell_type": "code",
   "execution_count": null,
   "id": "d0334cfd",
   "metadata": {
    "slideshow": {
     "slide_type": "subslide"
    }
   },
   "outputs": [],
   "source": [
    "unsorted_primes = [11, 5, 7, 2, 3]\n",
    "sorted_primes = sorted(unsorted_primes)\n",
    "print(unsorted_primes)\n",
    "print(sorted_primes)"
   ]
  },
  {
   "cell_type": "code",
   "execution_count": null,
   "id": "00f7a673",
   "metadata": {},
   "outputs": [],
   "source": [
    "unsorted_primes = [11, 5, 7, 2, 3]\n",
    "sorted_primes = unsorted_primes.sort()\n",
    "print(unsorted_primes)\n",
    "print(sorted_primes)"
   ]
  },
  {
   "cell_type": "markdown",
   "id": "a2d29e6f",
   "metadata": {
    "slideshow": {
     "slide_type": "subslide"
    }
   },
   "source": [
    "## 如何判斷兩種更新方式\n",
    "\n",
    "- 詳細閱讀函數與方法的文件。\n",
    "- 注意函數與方法使用後儲存格是否有 Out 顯示。"
   ]
  },
  {
   "cell_type": "markdown",
   "id": "3b7220fe",
   "metadata": {
    "slideshow": {
     "slide_type": "subslide"
    }
   },
   "source": [
    "## 釐清兩種更新方式是至關重要的\n",
    "\n",
    "- 雖然是利用 `list` 作為範例，但不管任何的資料或者資料結構都適用。\n",
    "- 多數的函數更新機制都是回傳（Return），但並不是絕對。\n",
    "- 不論函數或者方法，都要詳細閱讀文件或注意使用後儲存格是否有 Out 顯示。"
   ]
  },
  {
   "cell_type": "markdown",
   "id": "cc7cadaa",
   "metadata": {
    "slideshow": {
     "slide_type": "subslide"
    }
   },
   "source": [
    "## `tuple`\n",
    "\n",
    "- `tuple` 是一種「有序」且「不能夠更新」的資料結構。\n",
    "- `tuple` 可以透過「逗號」`,` 分隔值與「小括號」`()` 形成。"
   ]
  },
  {
   "cell_type": "code",
   "execution_count": null,
   "id": "14ce9e52",
   "metadata": {},
   "outputs": [],
   "source": [
    "primes = (2, 3, 5, 7, 11)\n",
    "type(primes)"
   ]
  },
  {
   "cell_type": "markdown",
   "id": "34cf48c9",
   "metadata": {
    "slideshow": {
     "slide_type": "subslide"
    }
   },
   "source": [
    "## 使用內建函數 `len()`  得知一個 `tuple` 中有幾個資料值"
   ]
  },
  {
   "cell_type": "code",
   "execution_count": null,
   "id": "02cbd1e7",
   "metadata": {},
   "outputs": [],
   "source": [
    "len(primes)"
   ]
  },
  {
   "cell_type": "markdown",
   "id": "4085db02",
   "metadata": {
    "slideshow": {
     "slide_type": "subslide"
    }
   },
   "source": [
    "## `tuple` 在許多地方的表現與 `list` 相同，像是 indexing 以及 slicing"
   ]
  },
  {
   "cell_type": "code",
   "execution_count": null,
   "id": "e8c13f1f",
   "metadata": {},
   "outputs": [],
   "source": [
    "print(primes[0])   # the first element\n",
    "print(primes[:3])  # slicing the first 3 elements"
   ]
  },
  {
   "cell_type": "markdown",
   "id": "ac907934",
   "metadata": {
    "slideshow": {
     "slide_type": "subslide"
    }
   },
   "source": [
    "## `tuple` 與 `list` 最大的不同點，在於 `tuple`「不能夠更新」的特性\n",
    "\n",
    "- 以更新 `list` 的語法更新 `tuple` 會產生錯誤。\n",
    "- `try…except…` 是例外處理的語法，之後會說明。"
   ]
  },
  {
   "cell_type": "code",
   "execution_count": null,
   "id": "5a4490a6",
   "metadata": {},
   "outputs": [],
   "source": [
    "try:\n",
    "    primes[-1] = 13\n",
    "except TypeError as error_message:\n",
    "    print(error_message)"
   ]
  },
  {
   "cell_type": "markdown",
   "id": "138b3a85",
   "metadata": {
    "slideshow": {
     "slide_type": "subslide"
    }
   },
   "source": [
    "## 在 Python 中有眾多的應用場景會遭遇到 `tuple`\n",
    "\n",
    "- 自行定義函數預設「多個輸出」的資料結構。\n",
    "- `dict.items()` 輸出。\n",
    "- 函數的彈性參數 `*args`\n",
    "- ...等。"
   ]
  },
  {
   "cell_type": "markdown",
   "id": "0eb92082",
   "metadata": {
    "slideshow": {
     "slide_type": "subslide"
    }
   },
   "source": [
    "## `dict`\n",
    "\n",
    "- `dict` 是一種使用「鍵值對應」關係的資料結構。\n",
    "- `dict` 可以透過「逗號」`,`、「鍵值對應」`key: value` 與「大括號」`{}` 形成。"
   ]
  },
  {
   "cell_type": "code",
   "execution_count": null,
   "id": "545ae37d",
   "metadata": {},
   "outputs": [],
   "source": [
    "the_shawshank_redemption = {\n",
    "    \"title\": \"The Shawshank Redemption\",\n",
    "    \"year\": 1995,\n",
    "    \"rating\": 9.3,\n",
    "    \"director\": \"Frank Darabont\"\n",
    "}\n",
    "type(the_shawshank_redemption)"
   ]
  },
  {
   "cell_type": "markdown",
   "id": "04335503",
   "metadata": {
    "slideshow": {
     "slide_type": "subslide"
    }
   },
   "source": [
    "## 使用內建函數 `len()`  得知一個 `dict` 中有幾組鍵值對應"
   ]
  },
  {
   "cell_type": "code",
   "execution_count": null,
   "id": "0c62a902",
   "metadata": {},
   "outputs": [],
   "source": [
    "len(the_shawshank_redemption)"
   ]
  },
  {
   "cell_type": "markdown",
   "id": "1fddc806",
   "metadata": {
    "slideshow": {
     "slide_type": "subslide"
    }
   },
   "source": [
    "## `dict` 採用以「鍵」取「值」的索引機制\n",
    "\n",
    "```python\n",
    "dict[\"key\"]\n",
    "```"
   ]
  },
  {
   "cell_type": "code",
   "execution_count": null,
   "id": "ab9c31af",
   "metadata": {},
   "outputs": [],
   "source": [
    "print(the_shawshank_redemption[\"title\"])\n",
    "print(the_shawshank_redemption[\"year\"])\n",
    "print(the_shawshank_redemption[\"rating\"])\n",
    "print(the_shawshank_redemption[\"director\"])"
   ]
  },
  {
   "cell_type": "markdown",
   "id": "f6abeb1e",
   "metadata": {
    "slideshow": {
     "slide_type": "subslide"
    }
   },
   "source": [
    "## 用來檢視 `dict` 的三個方法\n",
    "\n",
    "1. `dict.keys()` 檢視鍵。\n",
    "2. `dict.values()` 檢視值。\n",
    "3. `dict.items()` 檢視鍵值對應。"
   ]
  },
  {
   "cell_type": "code",
   "execution_count": null,
   "id": "37efb6e9",
   "metadata": {},
   "outputs": [],
   "source": [
    "print(the_shawshank_redemption.keys())\n",
    "print(the_shawshank_redemption.values())\n",
    "print(the_shawshank_redemption.items())  # (key, value) as a tuple"
   ]
  },
  {
   "cell_type": "markdown",
   "id": "3e265910",
   "metadata": {
    "slideshow": {
     "slide_type": "subslide"
    }
   },
   "source": [
    "## 新增 `dict` 中的鍵值對應"
   ]
  },
  {
   "cell_type": "code",
   "execution_count": null,
   "id": "759c5ac9",
   "metadata": {},
   "outputs": [],
   "source": [
    "the_shawshank_redemption['lead_actors'] = ['Tim Robbins', 'Morgan Freeman']\n",
    "the_shawshank_redemption"
   ]
  },
  {
   "cell_type": "markdown",
   "id": "bda341cb",
   "metadata": {
    "slideshow": {
     "slide_type": "subslide"
    }
   },
   "source": [
    "## 使用 `del` 保留字刪除 `dict` 中的鍵值對應"
   ]
  },
  {
   "cell_type": "code",
   "execution_count": null,
   "id": "71ba8d04",
   "metadata": {},
   "outputs": [],
   "source": [
    "del the_shawshank_redemption['lead_actors']\n",
    "the_shawshank_redemption"
   ]
  },
  {
   "cell_type": "markdown",
   "id": "d87dfc39",
   "metadata": {
    "slideshow": {
     "slide_type": "subslide"
    }
   },
   "source": [
    "## 指定 `dict` 的「鍵」更新「值」"
   ]
  },
  {
   "cell_type": "code",
   "execution_count": null,
   "id": "eae83e6a",
   "metadata": {},
   "outputs": [],
   "source": [
    "the_shawshank_redemption[\"year\"] = 1994\n",
    "the_shawshank_redemption"
   ]
  },
  {
   "cell_type": "markdown",
   "id": "215ede3a",
   "metadata": {
    "slideshow": {
     "slide_type": "subslide"
    }
   },
   "source": [
    "## `set`\n",
    "\n",
    "- `set` 是一種「無序」、儲存「獨一值」並且能夠進行「集合運算」的資料結構。\n",
    "- `set` 可以透過「逗號」`,` 分隔值與「大括號」`{}` 形成。"
   ]
  },
  {
   "cell_type": "code",
   "execution_count": null,
   "id": "cb41122f",
   "metadata": {},
   "outputs": [],
   "source": [
    "primes = {2, 3, 5, 7, 7}  # 7 is duplicated\n",
    "odds = {1, 3, 5, 7, 9, 9} # 9 is duplicated\n",
    "print(type(primes))\n",
    "print(type(odds))"
   ]
  },
  {
   "cell_type": "markdown",
   "id": "52cb458c",
   "metadata": {
    "slideshow": {
     "slide_type": "subslide"
    }
   },
   "source": [
    "## 使用內建函數 `len()`  得知一個 `set` 中有幾個獨一值"
   ]
  },
  {
   "cell_type": "code",
   "execution_count": null,
   "id": "4dfcf125",
   "metadata": {},
   "outputs": [],
   "source": [
    "print(len(primes))\n",
    "print(primes)\n",
    "print(len(odds))\n",
    "print(odds)"
   ]
  },
  {
   "cell_type": "markdown",
   "id": "e931300f",
   "metadata": {
    "slideshow": {
     "slide_type": "subslide"
    }
   },
   "source": [
    "## `set` 重要的兩個特性\n",
    "\n",
    "1. 不支援 indexing\n",
    "2. 支援集合運算（Set operations）。"
   ]
  },
  {
   "cell_type": "markdown",
   "id": "408486b5",
   "metadata": {
    "slideshow": {
     "slide_type": "subslide"
    }
   },
   "source": [
    "## `set` 不支援 indexing"
   ]
  },
  {
   "cell_type": "code",
   "execution_count": null,
   "id": "24ac24df",
   "metadata": {},
   "outputs": [],
   "source": [
    "try:\n",
    "    primes[0]\n",
    "except TypeError as error_message:\n",
    "    print(error_message)"
   ]
  },
  {
   "cell_type": "markdown",
   "id": "56c1b850",
   "metadata": {
    "slideshow": {
     "slide_type": "subslide"
    }
   },
   "source": [
    "## `set` 支援集合運算\n",
    "\n",
    "- 使用集合運算符（Set operators）。\n",
    "- 使用 `set` 類別的方法。"
   ]
  },
  {
   "cell_type": "markdown",
   "id": "7d3d0124",
   "metadata": {
    "slideshow": {
     "slide_type": "subslide"
    }
   },
   "source": [
    "## 常用的集合運算\n",
    "\n",
    "- 交集。\n",
    "- 聯集。\n",
    "- 差集。\n",
    "- 對稱差集。"
   ]
  },
  {
   "cell_type": "markdown",
   "id": "6e826422",
   "metadata": {
    "slideshow": {
     "slide_type": "subslide"
    }
   },
   "source": [
    "## 使用 `&` 交集運算符或者 `set.intersection()` 方法"
   ]
  },
  {
   "cell_type": "code",
   "execution_count": null,
   "id": "8d281c1c",
   "metadata": {},
   "outputs": [],
   "source": [
    "print(primes & odds)             # with an operator\n",
    "print(primes.intersection(odds)) # equivalently with a method"
   ]
  },
  {
   "cell_type": "markdown",
   "id": "c10b388c",
   "metadata": {
    "slideshow": {
     "slide_type": "subslide"
    }
   },
   "source": [
    "## 使用 `|` 聯集運算符或者 `set.union()` 方法"
   ]
  },
  {
   "cell_type": "code",
   "execution_count": null,
   "id": "155d14ff",
   "metadata": {},
   "outputs": [],
   "source": [
    "print(primes | odds)      # with an operator\n",
    "print(primes.union(odds)) # equivalently with a method"
   ]
  },
  {
   "cell_type": "markdown",
   "id": "c42a3ac3",
   "metadata": {
    "slideshow": {
     "slide_type": "subslide"
    }
   },
   "source": [
    "## 使用 `-` 差集運算符或者 `set.difference()` 方法"
   ]
  },
  {
   "cell_type": "code",
   "execution_count": null,
   "id": "53232445",
   "metadata": {},
   "outputs": [],
   "source": [
    "print(primes - odds)           # with an operator\n",
    "print(primes.difference(odds)) # equivalently with a method\n",
    "print(odds - primes)           # with an operator\n",
    "print(odds.difference(primes)) # equivalently with a method"
   ]
  },
  {
   "cell_type": "markdown",
   "id": "72d924c6",
   "metadata": {
    "slideshow": {
     "slide_type": "subslide"
    }
   },
   "source": [
    "## 使用 `^` 對稱差集運算符或者 `set.symmetric_difference()` 方法"
   ]
  },
  {
   "cell_type": "code",
   "execution_count": null,
   "id": "57be7e25",
   "metadata": {},
   "outputs": [],
   "source": [
    "print(primes ^ odds)                      # with an operator\n",
    "print(primes.symmetric_difference(odds))  # equivalently with a method"
   ]
  },
  {
   "cell_type": "markdown",
   "id": "4e9082fb",
   "metadata": {
    "slideshow": {
     "slide_type": "subslide"
    }
   },
   "source": [
    "## 資料結構類別判斷的兩種方式\n",
    "\n",
    "1. 將 `type()` 函數的輸出與資料結構類別名稱比較。\n",
    "2. 透過內建函數 `isinstance()` 判斷。"
   ]
  },
  {
   "cell_type": "markdown",
   "id": "2bb24f92",
   "metadata": {
    "slideshow": {
     "slide_type": "subslide"
    }
   },
   "source": [
    "## 資料結構類別可以透過內建函數 `isinstance()` 判斷\n",
    "\n",
    "`isinstance(x, classinfo)` 函數判斷輸入物件 `x` 是否為某個資料結構類別的實例，其中 `classinfo` 參數輸入欲判斷的資料結構類別名稱。"
   ]
  },
  {
   "cell_type": "markdown",
   "id": "a2630276",
   "metadata": {
    "slideshow": {
     "slide_type": "subslide"
    }
   },
   "source": [
    "## 資料結構類別可以透過與其同名的內建函數轉換\n",
    "\n",
    "- `list()` 可以將輸入資料結構轉換為 `list`。\n",
    "- `tuple()` 可以將輸入資料結構轉換為 `tuple`。\n",
    "- `dict()` 可以將輸入資料結構轉換為 `dict`。\n",
    "- `set()` 可以將輸入資料結構轉換為 `set`。"
   ]
  },
  {
   "cell_type": "markdown",
   "id": "d6871e6e",
   "metadata": {
    "slideshow": {
     "slide_type": "subslide"
    }
   },
   "source": [
    "## 任務 20：`DataFrame` 是 Python 內建的資料結構類別"
   ]
  },
  {
   "cell_type": "code",
   "execution_count": null,
   "id": "d458f164",
   "metadata": {},
   "outputs": [],
   "source": [
    "def task_20() -> bool:\n",
    "    # 寫作\n",
    "    return None\n",
    "    # 寫作"
   ]
  },
  {
   "cell_type": "markdown",
   "id": "48cb2f6e",
   "metadata": {
    "slideshow": {
     "slide_type": "subslide"
    }
   },
   "source": [
    "## 任務 21：`list` 與 `tuple` 是兩種完全相同的資料結構類別"
   ]
  },
  {
   "cell_type": "code",
   "execution_count": null,
   "id": "5e8e7d68",
   "metadata": {},
   "outputs": [],
   "source": [
    "def task_21() -> bool:\n",
    "    # 寫作\n",
    "    return None\n",
    "    # 寫作"
   ]
  },
  {
   "cell_type": "markdown",
   "id": "f788eca0",
   "metadata": {
    "slideshow": {
     "slide_type": "subslide"
    }
   },
   "source": [
    "## 任務 22：下列何者不屬於 Python 內建的資料結構類別？\n",
    "\n",
    "1. `ndarray`\n",
    "2. `list`\n",
    "3. `dict`\n",
    "4. `set`"
   ]
  },
  {
   "cell_type": "code",
   "execution_count": null,
   "id": "2bf56065",
   "metadata": {},
   "outputs": [],
   "source": [
    "def task_22() -> int:\n",
    "    # 寫作\n",
    "    return None\n",
    "    # 寫作"
   ]
  },
  {
   "cell_type": "markdown",
   "id": "35a4f561",
   "metadata": {
    "slideshow": {
     "slide_type": "subslide"
    }
   },
   "source": [
    "## 任務 23：下列程式碼會印出什麼樣的結果？\n",
    "\n",
    "```python\n",
    "odds = [1, 3, 5, 7, 9]\n",
    "print(odds[-2])\n",
    "```\n",
    "\n",
    "1. `[1, 3, 7, 9]`\n",
    "2. `7`\n",
    "3. `[7]`\n",
    "4. `[7, 9]`"
   ]
  },
  {
   "cell_type": "code",
   "execution_count": null,
   "id": "6b85283f",
   "metadata": {},
   "outputs": [],
   "source": [
    "def task_23() -> int:\n",
    "    # 寫作\n",
    "    return None\n",
    "    # 寫作"
   ]
  },
  {
   "cell_type": "markdown",
   "id": "fc0b095e",
   "metadata": {
    "slideshow": {
     "slide_type": "subslide"
    }
   },
   "source": [
    "## 任務 24：下列程式碼會印出什麼樣的結果？\n",
    "\n",
    "```python\n",
    "odds = [3, 5, 1, 9, 7]\n",
    "sorted(odds)\n",
    "print(odds)\n",
    "```\n",
    "\n",
    "1. `[1, 3, 5, 7, 9]`\n",
    "2. `[9, 7, 5, 3, 1]`\n",
    "3. `[7, 9, 1, 5, 3]`\n",
    "4. `[3, 5, 1, 9, 7]`"
   ]
  },
  {
   "cell_type": "code",
   "execution_count": null,
   "id": "a4f042ee",
   "metadata": {},
   "outputs": [],
   "source": [
    "def task_24() -> int:\n",
    "    # 寫作\n",
    "    return None\n",
    "    # 寫作"
   ]
  },
  {
   "cell_type": "markdown",
   "id": "2c1298e9",
   "metadata": {
    "slideshow": {
     "slide_type": "subslide"
    }
   },
   "source": [
    "## 任務 25：建立一個長度為 7 的 `list`"
   ]
  },
  {
   "cell_type": "code",
   "execution_count": null,
   "id": "7c7a0492",
   "metadata": {},
   "outputs": [],
   "source": [
    "def task_25() -> list:\n",
    "    \"\"\"\n",
    "    >>> output = task_25()\n",
    "    >>> type(output)\n",
    "    list\n",
    "    >>> len(output)\n",
    "    7\n",
    "    \"\"\"\n",
    "    # 寫作\n",
    "    return None\n",
    "    # 寫作"
   ]
  },
  {
   "cell_type": "markdown",
   "id": "8fb22235",
   "metadata": {
    "slideshow": {
     "slide_type": "subslide"
    }
   },
   "source": [
    "## 任務 26：建立一個長度為 5 的 `tuple`"
   ]
  },
  {
   "cell_type": "code",
   "execution_count": null,
   "id": "75c0f3a2",
   "metadata": {},
   "outputs": [],
   "source": [
    "def task_26() -> tuple:\n",
    "    \"\"\"\n",
    "    >>> output = task_26()\n",
    "    >>> type(output)\n",
    "    tuple\n",
    "    >>> len(output)\n",
    "    5\n",
    "    \"\"\"\n",
    "    # 寫作\n",
    "    return None\n",
    "    # 寫作"
   ]
  },
  {
   "cell_type": "markdown",
   "id": "dcb6b90f",
   "metadata": {
    "slideshow": {
     "slide_type": "subslide"
    }
   },
   "source": [
    "## 任務 27：建立一個長度為 3 的 `dict`"
   ]
  },
  {
   "cell_type": "code",
   "execution_count": null,
   "id": "89aba9a4",
   "metadata": {},
   "outputs": [],
   "source": [
    "def task_27() -> dict:\n",
    "    \"\"\"\n",
    "    >>> output = task_27()\n",
    "    >>> type(output)\n",
    "    dict\n",
    "    >>> len(output)\n",
    "    3\n",
    "    \"\"\"\n",
    "    # 寫作\n",
    "    return None\n",
    "    # 寫作"
   ]
  },
  {
   "cell_type": "markdown",
   "id": "e123fb30",
   "metadata": {
    "slideshow": {
     "slide_type": "subslide"
    }
   },
   "source": [
    "## 任務 28：建立一個長度為 5 的 `set`"
   ]
  },
  {
   "cell_type": "code",
   "execution_count": null,
   "id": "cde54ed0",
   "metadata": {},
   "outputs": [],
   "source": [
    "def task_28() -> set:\n",
    "    \"\"\"\n",
    "    >>> output = task_28()\n",
    "    >>> type(output)\n",
    "    set\n",
    "    >>> len(output)\n",
    "    5\n",
    "    \"\"\"\n",
    "    # 寫作\n",
    "    return None\n",
    "    # 寫作"
   ]
  },
  {
   "cell_type": "markdown",
   "id": "705510d9",
   "metadata": {
    "slideshow": {
     "slide_type": "subslide"
    }
   },
   "source": [
    "## 任務 29：排序一個 `list`"
   ]
  },
  {
   "cell_type": "code",
   "execution_count": null,
   "id": "591bed0d",
   "metadata": {},
   "outputs": [],
   "source": [
    "def task_29(x: list) -> list:\n",
    "    \"\"\"\n",
    "    >>> task_29([1, 3, 7, 5, 9])\n",
    "    [1, 3, 5, 7, 9]\n",
    "    >>> task_29([9, 3, 7, 5, 1])\n",
    "    [1, 3, 5, 7, 9]\n",
    "    \"\"\"\n",
    "    # 寫作\n",
    "    return None\n",
    "    # 寫作"
   ]
  },
  {
   "cell_type": "markdown",
   "id": "46fb2a43",
   "metadata": {
    "slideshow": {
     "slide_type": "subslide"
    }
   },
   "source": [
    "## 任務 30：取出第一個與最後一個元素"
   ]
  },
  {
   "cell_type": "code",
   "execution_count": null,
   "id": "0686829b",
   "metadata": {},
   "outputs": [],
   "source": [
    "def task_30(x: list) -> dict:\n",
    "    \"\"\"\n",
    "    >>> task_30([2, 3, 5, 7, 11])\n",
    "    {'first': 2, 'last': 11}\n",
    "    >>> task_30([\"Python\", \"Reticulate\", \"Anaconda\"])\n",
    "    {'first': 'Python', 'last': 'Anaconda'}\n",
    "    \"\"\"\n",
    "    # 寫作\n",
    "    return None\n",
    "    # 寫作"
   ]
  },
  {
   "cell_type": "markdown",
   "id": "07deed7b",
   "metadata": {
    "slideshow": {
     "slide_type": "subslide"
    }
   },
   "source": [
    "## 任務 31：取出前三個字元"
   ]
  },
  {
   "cell_type": "code",
   "execution_count": null,
   "id": "2168f5dd",
   "metadata": {},
   "outputs": [],
   "source": [
    "def task_31(x: str) -> str:\n",
    "    \"\"\"\n",
    "    >>> task_31(\"Python\")\n",
    "    \"Pyt\"\n",
    "    >>> task_31(\"Reticulate\")\n",
    "    \"Ret\"\n",
    "    >>> task_31(\"Anaconda\")\n",
    "    \"Ana\"\n",
    "    \"\"\"\n",
    "    # 寫作\n",
    "    return None\n",
    "    # 寫作"
   ]
  },
  {
   "cell_type": "markdown",
   "id": "e114ea9c",
   "metadata": {
    "slideshow": {
     "slide_type": "subslide"
    }
   },
   "source": [
    "## 任務 32：移除第一個與最後一個元素"
   ]
  },
  {
   "cell_type": "code",
   "execution_count": null,
   "id": "8c6da5b0",
   "metadata": {},
   "outputs": [],
   "source": [
    "def task_32(x: list) -> list:\n",
    "    \"\"\"\n",
    "    >>> task_32([2, 3, 5, 7, 11])\n",
    "    [3, 5, 7]\n",
    "    >>> task_32([\"Python\", \"Reticulate\", \"Anaconda\"])\n",
    "    [\"Reticulate\"]\n",
    "    \"\"\"\n",
    "    # 寫作\n",
    "    return None\n",
    "    # 寫作"
   ]
  },
  {
   "cell_type": "markdown",
   "id": "eceaa6db",
   "metadata": {
    "slideshow": {
     "slide_type": "subslide"
    }
   },
   "source": [
    "## 任務 33：取出中間的元素"
   ]
  },
  {
   "cell_type": "code",
   "execution_count": null,
   "id": "a576c8a7",
   "metadata": {},
   "outputs": [],
   "source": [
    "def task_33(x: list) -> int:\n",
    "    \"\"\"\n",
    "    >>> task_33([2, 3, 5])\n",
    "    3\n",
    "    >>> task_33([2, 3, 5, 7, 11])\n",
    "    5\n",
    "    >>> task_33([2, 3, 5, 7, 11, 13, 17])\n",
    "    7\n",
    "    \"\"\"\n",
    "    # 寫作\n",
    "    return None\n",
    "    # 寫作"
   ]
  },
  {
   "cell_type": "markdown",
   "id": "03fe2034",
   "metadata": {
    "slideshow": {
     "slide_type": "subslide"
    }
   },
   "source": [
    "## 任務 34：取出中間的三個字元"
   ]
  },
  {
   "cell_type": "code",
   "execution_count": null,
   "id": "9b16e12d",
   "metadata": {},
   "outputs": [],
   "source": [
    "def task_34(x: str) -> str:\n",
    "    \"\"\"\n",
    "    >>> task_34(\"Steve\")\n",
    "    \"tev\"\n",
    "    >>> task_34(\"Stark\")\n",
    "    \"tar\"\n",
    "    >>> task_34(\"Natasha\")\n",
    "    \"tas\"\n",
    "    \"\"\"\n",
    "    # 寫作\n",
    "    return None\n",
    "    # 寫作"
   ]
  },
  {
   "cell_type": "markdown",
   "id": "ebbc8cfa",
   "metadata": {
    "slideshow": {
     "slide_type": "subslide"
    }
   },
   "source": [
    "## 任務 35：台北市行政區郵遞區號\n",
    "\n",
    "來源：[臺北市行政區劃](https://zh.wikipedia.org/wiki/%E8%87%BA%E5%8C%97%E5%B8%82%E8%A1%8C%E6%94%BF%E5%8D%80%E5%8A%83)"
   ]
  },
  {
   "cell_type": "code",
   "execution_count": null,
   "id": "c9dd7771",
   "metadata": {},
   "outputs": [],
   "source": [
    "def task_35(area_name: str) -> int:\n",
    "    \"\"\"\n",
    "    >>> task_35(\"中正區\")\n",
    "    100\n",
    "    >>> task_35(\"大同區\")\n",
    "    103\n",
    "    >>> task_35(\"中山區\")\n",
    "    104\n",
    "    \"\"\"\n",
    "    # 寫作\n",
    "    return None\n",
    "    # 寫作"
   ]
  },
  {
   "cell_type": "markdown",
   "id": "d1246db0",
   "metadata": {
    "slideshow": {
     "slide_type": "subslide"
    }
   },
   "source": [
    "## 任務 36：剔除重複值"
   ]
  },
  {
   "cell_type": "code",
   "execution_count": null,
   "id": "b4957192",
   "metadata": {},
   "outputs": [],
   "source": [
    "def task_36(x: list) -> list:\n",
    "    \"\"\"\n",
    "    >>> task_36([5, 5, 6, 6])\n",
    "    [5, 6]\n",
    "    >>> task_36([2, 2, 6, 6])\n",
    "    [2, 6]\n",
    "    >>> task_36([9, 9, 8, 1])\n",
    "    [1, 8, 9]\n",
    "    \"\"\"\n",
    "    # 寫作\n",
    "    return None\n",
    "    # 寫作"
   ]
  },
  {
   "cell_type": "markdown",
   "id": "7ef1e439",
   "metadata": {
    "slideshow": {
     "slide_type": "subslide"
    }
   },
   "source": [
    "## 任務 37：相同元素"
   ]
  },
  {
   "cell_type": "code",
   "execution_count": null,
   "id": "206f7dd5",
   "metadata": {},
   "outputs": [],
   "source": [
    "def task_37(x: set, y: set) -> set:\n",
    "    \"\"\"\n",
    "    >>> task_37({5, 5, 6, 6}, {5, 6, 7, 8})\n",
    "    {5, 6}\n",
    "    >>> task_37({1, 3, 5, 7, 9}, {2, 3, 5, 7})\n",
    "    {3, 5, 7}\n",
    "    >>> task_37({1, 3, 5, 7, 9}, {1, 3, 5, 7, 9})\n",
    "    {1, 3, 5, 7, 9}\n",
    "    >>> task_37({1, 3, 5, 7, 9}, {2, 4, 6, 8, 10})\n",
    "    {}\n",
    "    \"\"\"\n",
    "    # 寫作\n",
    "    return None\n",
    "    # 寫作"
   ]
  },
  {
   "cell_type": "markdown",
   "id": "0d9c2c0b",
   "metadata": {
    "slideshow": {
     "slide_type": "subslide"
    }
   },
   "source": [
    "## 任務 38：相同元素個數"
   ]
  },
  {
   "cell_type": "code",
   "execution_count": null,
   "id": "4a1fd907",
   "metadata": {},
   "outputs": [],
   "source": [
    "def task_38(x: set, y: set) -> int:\n",
    "    \"\"\"\n",
    "    >>> task_38({5, 5, 6, 6}, {5, 6, 7, 8})\n",
    "    2\n",
    "    >>> task_38({1, 3, 5, 7, 9}, {2, 3, 5, 7})\n",
    "    3\n",
    "    >>> task_38({1, 3, 5, 7, 9}, {1, 3, 5, 7, 9})\n",
    "    5\n",
    "    >>> task_38({1, 3, 5, 7, 9}, {2, 4, 6, 8, 10})\n",
    "    0\n",
    "    \"\"\"\n",
    "    # 寫作\n",
    "    return None\n",
    "    # 寫作"
   ]
  },
  {
   "cell_type": "markdown",
   "id": "0900a33e",
   "metadata": {
    "slideshow": {
     "slide_type": "subslide"
    }
   },
   "source": [
    "## 任務 39：相異元素個數"
   ]
  },
  {
   "cell_type": "code",
   "execution_count": null,
   "id": "ecae9e95",
   "metadata": {},
   "outputs": [],
   "source": [
    "def task_39(x: set, y: set) -> int:\n",
    "    \"\"\"\n",
    "    >>> task_39({5, 5, 6, 6}, {5, 6, 7, 8})\n",
    "    2\n",
    "    >>> task_39({1, 3, 5, 7, 9}, {2, 3, 5, 7})\n",
    "    3\n",
    "    >>> task_39({1, 3, 5, 7, 9}, {1, 3, 5, 7, 9})\n",
    "    0\n",
    "    >>> task_39({1, 3, 5, 7, 9}, {2, 4, 6, 8, 10})\n",
    "    10\n",
    "    \"\"\"\n",
    "    # 寫作\n",
    "    return None\n",
    "    # 寫作"
   ]
  },
  {
   "cell_type": "markdown",
   "id": "0ba726c2",
   "metadata": {
    "slideshow": {
     "slide_type": "subslide"
    }
   },
   "source": [
    "## 測試：任務 20-39"
   ]
  },
  {
   "cell_type": "code",
   "execution_count": null,
   "id": "048d575a",
   "metadata": {},
   "outputs": [],
   "source": [
    "import unittest\n",
    "# 測試\n",
    "class TestTask2039(unittest.TestCase):\n",
    "    def test_task_20(self):\n",
    "        output = task_20()\n",
    "        self.assertIsInstance(output, bool)\n",
    "        self.assertFalse(output)\n",
    "    def test_task_21(self):\n",
    "        output = task_21()\n",
    "        self.assertIsInstance(output, bool)\n",
    "        self.assertFalse(output)\n",
    "    def test_task_22(self):\n",
    "        self.assertEqual(task_22(), 1)\n",
    "    def test_task_23(self):\n",
    "        self.assertEqual(task_23(), 2)\n",
    "    def test_task_24(self):\n",
    "        self.assertEqual(task_24(), 4)\n",
    "    def test_task_25(self):\n",
    "        output = task_25()\n",
    "        self.assertIsInstance(output, list)\n",
    "        self.assertEqual(len(output), 7)\n",
    "    def test_task_26(self):\n",
    "        output = task_26()\n",
    "        self.assertIsInstance(output, tuple)\n",
    "        self.assertEqual(len(output), 5)\n",
    "    def test_task_27(self):\n",
    "        output = task_27()\n",
    "        self.assertIsInstance(output, dict)\n",
    "        self.assertEqual(len(output), 3)\n",
    "    def test_task_28(self):\n",
    "        output = task_28()\n",
    "        self.assertIsInstance(output, set)\n",
    "        self.assertEqual(len(output), 5)\n",
    "    def test_task_29(self):\n",
    "        self.assertEqual(task_29([1, 3, 7, 5, 9]), [1, 3, 5, 7, 9])\n",
    "        self.assertEqual(task_29([9, 3, 7, 5, 1]), [1, 3, 5, 7, 9])\n",
    "    def test_task_30(self):\n",
    "        self.assertEqual(task_30([2, 3, 5, 7, 11]), {'first': 2, 'last': 11})\n",
    "        self.assertEqual(task_30([\"Python\", \"Reticulate\", \"Anaconda\"]), {'first': 'Python', 'last': 'Anaconda'})\n",
    "    def test_task_31(self):\n",
    "        self.assertEqual(task_31(\"Python\"), \"Pyt\")\n",
    "        self.assertEqual(task_31(\"Reticulate\"), \"Ret\")\n",
    "        self.assertEqual(task_31(\"Anaconda\"), \"Ana\")\n",
    "    def test_task_32(self):\n",
    "        self.assertEqual(task_32([2, 3, 5, 7, 11]), [3, 5, 7])\n",
    "        self.assertEqual(task_32([\"Python\", \"Reticulate\", \"Anaconda\"]), [\"Reticulate\"])\n",
    "    def test_task_33(self):\n",
    "        self.assertEqual(task_33([2, 3, 5]), 3)\n",
    "        self.assertEqual(task_33([2, 3, 5, 7, 11]), 5)\n",
    "        self.assertEqual(task_33([2, 3, 5, 7, 11, 13, 17]), 7)\n",
    "    def test_task_34(self):\n",
    "        self.assertEqual(task_34(\"Steve\"), \"tev\")\n",
    "        self.assertEqual(task_34(\"Stark\"), \"tar\")\n",
    "        self.assertEqual(task_34(\"Natasha\"), \"tas\")\n",
    "    def test_task_35(self):\n",
    "        self.assertEqual(task_35(\"中正區\"), 100)\n",
    "        self.assertEqual(task_35(\"大同區\"), 103)\n",
    "        self.assertEqual(task_35(\"中山區\"), 104)\n",
    "    def test_task_36(self):\n",
    "        self.assertEqual(task_36([5, 5, 6, 6]), [5, 6])\n",
    "        self.assertEqual(task_36([2, 2, 6, 6]), [2, 6])\n",
    "        self.assertEqual(task_36([9, 9, 8, 1]), [1, 8, 9])\n",
    "    def test_task_37(self):\n",
    "        self.assertEqual(task_37({5, 5, 6, 6}, {5, 6, 7, 8}), {5, 6})\n",
    "        self.assertEqual(task_37({1, 3, 5, 7, 9}, {2, 3, 5, 7}), {3, 5, 7})\n",
    "        self.assertEqual(task_37({1, 3, 5, 7, 9}, {1, 3, 5, 7, 9}), {1, 3, 5, 7, 9})\n",
    "        self.assertEqual(task_37({1, 3, 5, 7, 9}, {2, 4, 6, 8, 10}), {})\n",
    "    def test_task_38(self):\n",
    "        self.assertEqual(task_38({5, 5, 6, 6}, {5, 6, 7, 8}), 2)\n",
    "        self.assertEqual(task_38({1, 3, 5, 7, 9}, {2, 3, 5, 7}), 3)\n",
    "        self.assertEqual(task_38({1, 3, 5, 7, 9}, {1, 3, 5, 7, 9}), 5)\n",
    "        self.assertEqual(task_38({1, 3, 5, 7, 9}, {2, 4, 6, 8, 10}), 0)\n",
    "    def test_task_39(self):\n",
    "        self.assertEqual(task_39({5, 5, 6, 6}, {5, 6, 7, 8}), 2)\n",
    "        self.assertEqual(task_39({1, 3, 5, 7, 9}, {2, 3, 5, 7}), 3)\n",
    "        self.assertEqual(task_39({1, 3, 5, 7, 9}, {1, 3, 5, 7, 9}), 0)\n",
    "        self.assertEqual(task_39({1, 3, 5, 7, 9}, {2, 4, 6, 8, 10}), 10)\n",
    "\n",
    "suite = unittest.TestLoader().loadTestsFromTestCase(TestTask2039)\n",
    "runner = unittest.TextTestRunner(verbosity=2)\n",
    "runner.run(suite)"
   ]
  }
 ],
 "metadata": {
  "celltoolbar": "Slideshow",
  "kernelspec": {
   "display_name": "Python 3 (ipykernel)",
   "language": "python",
   "name": "python3"
  },
  "language_info": {
   "codemirror_mode": {
    "name": "ipython",
    "version": 3
   },
   "file_extension": ".py",
   "mimetype": "text/x-python",
   "name": "python",
   "nbconvert_exporter": "python",
   "pygments_lexer": "ipython3",
   "version": "3.9.12"
  }
 },
 "nbformat": 4,
 "nbformat_minor": 5
}
