{
 "cells": [
  {
   "cell_type": "markdown",
   "id": "347b8e7c-5185-46ac-933e-93e51861253f",
   "metadata": {
    "slideshow": {
     "slide_type": "slide"
    }
   },
   "source": [
    "# Python 程式語言進階課程：程式設計（第一部分）\n",
    "\n",
    "> 監察院，2023-02-09\n",
    "\n",
    "[數聚點](https://www.datainpoint.com) | 郭耀仁 <yaojenkuo@ntu.edu.tw>"
   ]
  },
  {
   "cell_type": "markdown",
   "id": "2abbdc4a-8f65-49bb-987f-dde4540d0786",
   "metadata": {
    "slideshow": {
     "slide_type": "subslide"
    }
   },
   "source": [
    "## 課前心理建設\n",
    "\n",
    "- 雖然我們可能從很多資訊來源聽到 Python 簡單易學，但是對於初學者而言，學習任何一個程式語言都是有難度的。\n",
    "- 學習程式語言的方式跟國、高中學習數學的方式很相似：\n",
    "    - 聽老師講解概念。\n",
    "    - 在家動手寫習作。\n",
    "    - 在校透過小考、大考驗證。\n",
    "- 覺得累了的時候，休息個幾天，轉換心情再繼續，學習效率會更好。"
   ]
  },
  {
   "cell_type": "markdown",
   "id": "07ddd5a3",
   "metadata": {
    "slideshow": {
     "slide_type": "subslide"
    }
   },
   "source": [
    "## 給 Python 初學者的 N 個任務\n",
    "\n",
    "- 深入淺出，從零到一。\n",
    "- 解鎖任務是學會 Python 的不二法門，這種學習方式稱為 Exercise Based Learning"
   ]
  },
  {
   "cell_type": "markdown",
   "id": "0ed446b5",
   "metadata": {
    "slideshow": {
     "slide_type": "slide"
    }
   },
   "source": [
    "## 入門\n",
    "\n",
    "- 起：任務 00 \n",
    "- 迄：任務 09"
   ]
  },
  {
   "cell_type": "markdown",
   "id": "31652fb4",
   "metadata": {
    "slideshow": {
     "slide_type": "subslide"
    }
   },
   "source": [
    "## 什麼是程式設計\n",
    "\n",
    "以程式語言來指定電腦來解決特定問題的過程，常見的問題包含數值計算、文字搜尋取代、圖像或音訊處理等，程式設計過程包含**分析**、**寫作**、**測試**與**除錯**等軟體開發的重要步驟。"
   ]
  },
  {
   "cell_type": "markdown",
   "id": "0201b161",
   "metadata": {
    "slideshow": {
     "slide_type": "subslide"
    }
   },
   "source": [
    "## 程式的組成\n",
    "\n",
    "1. 常數。\n",
    "2. 運算符。\n",
    "3. 物件。\n",
    "4. 函數。\n",
    "5. 保留字。\n",
    "6. 程式區塊。"
   ]
  },
  {
   "cell_type": "markdown",
   "id": "f573a308",
   "metadata": {
    "slideshow": {
     "slide_type": "subslide"
    }
   },
   "source": [
    "## 什麼是 Python\n",
    "\n",
    "- Python 是一種泛用、直譯式的程式語言。\n",
    "- Python 的作者是荷蘭電腦科學家 Guido van Rossum\n",
    "- Python 的命名源於 Guido van Rossum 非常喜歡電視喜劇 Monty Python's Flying Circus"
   ]
  },
  {
   "cell_type": "markdown",
   "id": "da92eb86",
   "metadata": {
    "slideshow": {
     "slide_type": "subslide"
    }
   },
   "source": [
    "## 如何寫作與執行 Python 程式\n",
    "\n",
    "1. 純文字編輯器：寫作程式的軟體，例如記事本、Visual Studio Code 或 Notepad++\n",
    "2. 終端機：執行程式的軟體，例如 Windows 的命令提示字元、macOS 的 Terminal\n",
    "3. Python 直譯器：將 Python 程式翻譯為電腦語言的軟體。"
   ]
  },
  {
   "cell_type": "markdown",
   "id": "086d23c0",
   "metadata": {
    "slideshow": {
     "slide_type": "subslide"
    }
   },
   "source": [
    "## 將前述三者整合在一起的軟體叫做整合開發環境（Integrated Development Environment, IDE）\n",
    "\n",
    "受歡迎的 Python 整合開發環境有：\n",
    "\n",
    "- **Jupyter Notebook**/Jupyter Lab\n",
    "- Visual Studio Code\n",
    "- PyCharm\n",
    "- Spyder\n",
    "- ...其他。"
   ]
  },
  {
   "cell_type": "markdown",
   "id": "1e19a634",
   "metadata": {
    "slideshow": {
     "slide_type": "subslide"
    }
   },
   "source": [
    "## 課程使用 Google Colab 來完成初學者的 N 個任務\n",
    "\n",
    "<https://colab.research.google.com>"
   ]
  },
  {
   "cell_type": "markdown",
   "id": "a28b846b",
   "metadata": {
    "slideshow": {
     "slide_type": "subslide"
    }
   },
   "source": [
    "## 什麼是 Google Colab？\n",
    "\n",
    "> Colab 是由 Collaborate 與 Laboratory 兩個單字組合而成，意義為可以協作的 Jupyter Notebook。Google Colab 之於 Jupyter Notebook 就如同 Google Docs 之於 Microsoft Word、Google Sheets 之於 Microsoft Excel 一般。"
   ]
  },
  {
   "cell_type": "markdown",
   "id": "0364641c",
   "metadata": {
    "slideshow": {
     "slide_type": "subslide"
    }
   },
   "source": [
    "## Google Colab 快速入門\n",
    "\n",
    "- 前往 [Google Colab](https://colab.research.google.com/) 新增筆記本（New notebook）。\n",
    "- 登入 Google 帳戶。\n",
    "- 調整介面為英文。\n",
    "- 點選 `Connect` 連線取得算力（Computing power）。\n",
    "- 點選 `+ Code` 增加程式碼儲存格。\n",
    "- 點選 `+ Text` 增加文字儲存格。"
   ]
  },
  {
   "cell_type": "markdown",
   "id": "90e5055d",
   "metadata": {
    "slideshow": {
     "slide_type": "subslide"
    }
   },
   "source": [
    "## Google Colab 快速入門（續）\n",
    "\n",
    "- 點選程式碼儲存格左側的「執行」按鈕執行該程式碼儲存格。\n",
    "- 點選 Runtime -> Run all 執行 Google Colab 中所有的儲存格。"
   ]
  },
  {
   "cell_type": "markdown",
   "id": "a64df8a2",
   "metadata": {
    "slideshow": {
     "slide_type": "subslide"
    }
   },
   "source": [
    "## 什麼是程式設計（複習）\n",
    "\n",
    "以程式語言來指定電腦來解決特定問題的過程，常見的問題包含數值計算、文字搜尋取代、圖像或音訊處理等，程式設計過程包含**分析**、**寫作**、**測試**與**除錯**等軟體開發的重要步驟。"
   ]
  },
  {
   "cell_type": "code",
   "execution_count": null,
   "id": "71124331",
   "metadata": {
    "slideshow": {
     "slide_type": "-"
    }
   },
   "outputs": [],
   "source": [
    "import unittest"
   ]
  },
  {
   "cell_type": "code",
   "execution_count": null,
   "id": "7d2d6af1",
   "metadata": {},
   "outputs": [],
   "source": [
    "# 分析\n",
    "def task_example_zero() -> int:\n",
    "    \"\"\"\n",
    "    >>> task_example_zero()\n",
    "    0\n",
    "    \"\"\"\n",
    "    # 寫作\n",
    "    return 0\n",
    "    # 寫作\n",
    "# 分析\n",
    "def task_example_one() -> int:\n",
    "    \"\"\"\n",
    "    >>> task_example_one()\n",
    "    1\n",
    "    \"\"\"\n",
    "    # 寫作\n",
    "    return 1\n",
    "    # 寫作"
   ]
  },
  {
   "cell_type": "code",
   "execution_count": null,
   "id": "6e2cc22b-7a60-4f0d-8239-caef86038c20",
   "metadata": {
    "slideshow": {
     "slide_type": "subslide"
    }
   },
   "outputs": [],
   "source": [
    "# 測試\n",
    "class TaskExampleTest(unittest.TestCase):\n",
    "    def test_example_zero(self):\n",
    "        output = task_example_zero()\n",
    "        self.assertEqual(output, 0)\n",
    "    def test_example_one(self):\n",
    "        output = task_example_one()\n",
    "        self.assertEqual(output, 1)\n",
    "suite = unittest.TestLoader().loadTestsFromTestCase(TaskExampleTest)\n",
    "runner = unittest.TextTestRunner(verbosity=2)\n",
    "runner.run(suite)"
   ]
  },
  {
   "cell_type": "markdown",
   "id": "c5227a38",
   "metadata": {
    "slideshow": {
     "slide_type": "subslide"
    }
   },
   "source": [
    "## 基於測試的程式寫作習慣被稱為「測試驅動開發」\n",
    "\n",
    "- 測試驅動開發（Test-driven development, TDD）是一種軟體開發過程中的應用方法，倡導先寫測試程序，然後實現其功能得名。\n",
    "- 課程所設計給初學者的一百個任務，是測試驅動開發最小程度的體現。"
   ]
  },
  {
   "cell_type": "markdown",
   "id": "f372f0eb",
   "metadata": {
    "slideshow": {
     "slide_type": "subslide"
    }
   },
   "source": [
    "## 如何完成給初學者的 N 個任務\n",
    "\n",
    "- 任務共分為三種：\n",
    "  - 是非題：若覺得是非題的敘述**不正確**，就將函數輸出改寫為 `return False `，若覺得是非題的敘述**正確**則改寫為 `return True`\n",
    "  - 單選題：若覺得單選題的第一個選項**正確**就將函數輸出改寫為 `return 1`，若覺得單選題的第二個選項**正確**則改寫為 `return 2`，若覺得單選題的第三個選項**正確**則改寫為 `return 3`，若覺得單選題的第四個選項**正確**則改寫為 `return 4`\n",
    "  - 程式題：函數名稱之下的註解會描述測試如何進行，能夠讓我們充分暸解預期輸入以及預期輸出之間的對應關係，寫作完畢後就將函數輸出改寫為 `return your_answer`"
   ]
  },
  {
   "cell_type": "markdown",
   "id": "1b203c94",
   "metadata": {
    "slideshow": {
     "slide_type": "subslide"
    }
   },
   "source": [
    "## 如何完成給初學者的 N 個任務（續）\n",
    "\n",
    "完成任務的寫作、定義函數與使用分為三個步驟。"
   ]
  },
  {
   "cell_type": "code",
   "execution_count": null,
   "id": "bd5da6bc",
   "metadata": {},
   "outputs": [],
   "source": [
    "# 定義函數\n",
    "# 分析\n",
    "def task_example_zero() -> int:\n",
    "    \"\"\"\n",
    "    >>> task_example_zero()\n",
    "    0\n",
    "    \"\"\"\n",
    "    # 寫作\n",
    "    return 0\n",
    "    # 寫作\n",
    "# 分析\n",
    "def task_example_one() -> int:\n",
    "    \"\"\"\n",
    "    >>> task_example_one()\n",
    "    1\n",
    "    \"\"\"\n",
    "    # 寫作\n",
    "    return 1\n",
    "    # 寫作"
   ]
  },
  {
   "cell_type": "code",
   "execution_count": null,
   "id": "83bbad00",
   "metadata": {
    "slideshow": {
     "slide_type": "subslide"
    }
   },
   "outputs": [],
   "source": [
    "# 使用\n",
    "task_example_zero()"
   ]
  },
  {
   "cell_type": "code",
   "execution_count": null,
   "id": "46ada63a",
   "metadata": {},
   "outputs": [],
   "source": [
    "# 使用\n",
    "task_example_one()"
   ]
  },
  {
   "cell_type": "markdown",
   "id": "f06e1cf7",
   "metadata": {
    "slideshow": {
     "slide_type": "subslide"
    }
   },
   "source": [
    "## 任務 00：Python 程式語言的命名源於作者 Guido van Rossum 養的寵物蟒蛇。"
   ]
  },
  {
   "cell_type": "code",
   "execution_count": null,
   "id": "136e023a",
   "metadata": {},
   "outputs": [],
   "source": [
    "def task_00() -> bool:\n",
    "    # 寫作\n",
    "    return None\n",
    "    # 寫作"
   ]
  },
  {
   "cell_type": "markdown",
   "id": "41d1a52b",
   "metadata": {
    "slideshow": {
     "slide_type": "subslide"
    }
   },
   "source": [
    "## 任務 01：Google Colab 之於 Jupyter Notebook 就如同 Google Docs 之於 Microsoft Word、Google Sheets 之於 Microsoft Excel 一般。"
   ]
  },
  {
   "cell_type": "code",
   "execution_count": null,
   "id": "5e53cc53",
   "metadata": {},
   "outputs": [],
   "source": [
    "def task_01() -> bool:\n",
    "    # 寫作\n",
    "    return None\n",
    "    # 寫作"
   ]
  },
  {
   "cell_type": "markdown",
   "id": "caa6fe2c",
   "metadata": {
    "slideshow": {
     "slide_type": "subslide"
    }
   },
   "source": [
    "## 任務 02：下列關於 Python 的敘述何者是錯誤的？\n",
    "\n",
    "1. Python 是一種體型巨大的蛇類：蟒蛇。\n",
    "2. Python 程式語言的作者是荷蘭電腦科學家 Guido van Rossum\n",
    "3. Python 是一種專用的程式語言，被設計用來專門解決資料科學的相關應用問題。\n",
    "4. Python 程式語言的命名源於 Guido van Rossum 非常喜歡電視喜劇 Monty Python's Flying Circus"
   ]
  },
  {
   "cell_type": "code",
   "execution_count": null,
   "id": "6ff6f7f6",
   "metadata": {},
   "outputs": [],
   "source": [
    "def task_02() -> int:\n",
    "    # 寫作\n",
    "    return 0\n",
    "    # 寫作"
   ]
  },
  {
   "cell_type": "markdown",
   "id": "fe066dae",
   "metadata": {
    "slideshow": {
     "slide_type": "subslide"
    }
   },
   "source": [
    "## 任務 03：將純文字編輯器、終端機與直譯器/編譯器整合在一起的軟體縮寫為\n",
    "\n",
    "1. IDE\n",
    "2. IDF\n",
    "3. IDC\n",
    "4. TDD"
   ]
  },
  {
   "cell_type": "code",
   "execution_count": null,
   "id": "0a5a032f",
   "metadata": {},
   "outputs": [],
   "source": [
    "def task_03() -> int:\n",
    "    # 寫作\n",
    "    return 0\n",
    "    # 寫作"
   ]
  },
  {
   "cell_type": "markdown",
   "id": "5b11c79e",
   "metadata": {
    "slideshow": {
     "slide_type": "subslide"
    }
   },
   "source": [
    "## 任務 04：基於測試的程式寫作習慣被稱為\n",
    "\n",
    "1. 資料驅動開發。\n",
    "2. 程式驅動開發。\n",
    "3. 四輪驅動開發。\n",
    "4. 測試驅動開發。"
   ]
  },
  {
   "cell_type": "code",
   "execution_count": null,
   "id": "ad0e9049",
   "metadata": {},
   "outputs": [],
   "source": [
    "def task_04() -> int:\n",
    "    # 寫作\n",
    "    return 0\n",
    "    # 寫作"
   ]
  },
  {
   "cell_type": "markdown",
   "id": "19d8aa6e",
   "metadata": {
    "slideshow": {
     "slide_type": "subslide"
    }
   },
   "source": [
    "## 任務 05：哈囉世界\n",
    "\n",
    "- 將答案直接寫在 `return` 之後。\n",
    "- 文字要用單引號或雙引號包括起來。\n",
    "- 文字內容要完全相同。"
   ]
  },
  {
   "cell_type": "code",
   "execution_count": null,
   "id": "7c00e3f5",
   "metadata": {},
   "outputs": [],
   "source": [
    "def task_05() -> str:\n",
    "    \"\"\"\n",
    "    >>> task_05()\n",
    "    'Hello, world!'\n",
    "    \"\"\"\n",
    "    # 寫作\n",
    "    return None\n",
    "    # 寫作"
   ]
  },
  {
   "cell_type": "markdown",
   "id": "ef641151",
   "metadata": {
    "slideshow": {
     "slide_type": "subslide"
    }
   },
   "source": [
    "## 任務 06：5566\n",
    "\n",
    "- 將答案直接寫在 `return` 之後。\n",
    "- 整數不需要用單引號或雙引號包括起來。"
   ]
  },
  {
   "cell_type": "code",
   "execution_count": null,
   "id": "3e8e95a0",
   "metadata": {},
   "outputs": [],
   "source": [
    "def task_06() -> int:\n",
    "    \"\"\"\n",
    "    >>> task_06()\n",
    "    5566\n",
    "    \"\"\"\n",
    "    # 寫作\n",
    "    return None\n",
    "    # 寫作"
   ]
  },
  {
   "cell_type": "markdown",
   "id": "9148c4b0",
   "metadata": {
    "slideshow": {
     "slide_type": "subslide"
    }
   },
   "source": [
    "## 任務 07：五位小數點的圓周率\n",
    "\n",
    "- 將答案直接寫在 `return` 之後。\n",
    "- 浮點數數不需要用單引號或雙引號包括起來。"
   ]
  },
  {
   "cell_type": "code",
   "execution_count": null,
   "id": "9676be40",
   "metadata": {},
   "outputs": [],
   "source": [
    "def task_07() -> float:\n",
    "    \"\"\"\n",
    "    >>> task_07()\n",
    "    3.14159\n",
    "    \"\"\"\n",
    "    # 寫作\n",
    "    return None\n",
    "    # 寫作"
   ]
  },
  {
   "cell_type": "markdown",
   "id": "3de9f7f4",
   "metadata": {
    "slideshow": {
     "slide_type": "subslide"
    }
   },
   "source": [
    "## 任務 08：執行 `import this` 閱讀 Python 禪學，下列那一句不屬於 Python 禪學？\n",
    "\n",
    "1. Explicit is better than implicit.\n",
    "2. Never too late.\n",
    "3. Simple is better than complex.\n",
    "4. Readability counts."
   ]
  },
  {
   "cell_type": "code",
   "execution_count": null,
   "id": "791a03c9",
   "metadata": {},
   "outputs": [],
   "source": [
    "def task_08() -> int:\n",
    "    # 寫作\n",
    "    return 0\n",
    "    # 寫作"
   ]
  },
  {
   "cell_type": "markdown",
   "id": "3b499ee5",
   "metadata": {
    "slideshow": {
     "slide_type": "subslide"
    }
   },
   "source": [
    "## 任務 09：接續任務 08，從 Python 禪學我們可以得知發明 Python 程式語言的 Guido van Rossum 是哪個國家的人？\n",
    "\n",
    "1. 荷蘭。\n",
    "2. 美國。\n",
    "3. 英國。\n",
    "4. 比利時。"
   ]
  },
  {
   "cell_type": "code",
   "execution_count": null,
   "id": "2d7df155",
   "metadata": {},
   "outputs": [],
   "source": [
    "def task_09() -> int:\n",
    "    # 寫作\n",
    "    return 0\n",
    "    # 寫作"
   ]
  },
  {
   "cell_type": "markdown",
   "id": "a78996cc",
   "metadata": {
    "slideshow": {
     "slide_type": "subslide"
    }
   },
   "source": [
    "## 測試：任務 00-09"
   ]
  },
  {
   "cell_type": "code",
   "execution_count": null,
   "id": "8724f332",
   "metadata": {
    "scrolled": true
   },
   "outputs": [],
   "source": [
    "# 測試\n",
    "class TestTask0009(unittest.TestCase):\n",
    "    def test_task_00(self):\n",
    "        output = task_00()\n",
    "        self.assertIsInstance(output, bool)\n",
    "        self.assertFalse(output)\n",
    "    def test_task_01(self):\n",
    "        self.assertTrue(task_01())\n",
    "    def test_task_02(self):\n",
    "        self.assertEqual(task_02(), 3)\n",
    "    def test_task_03(self):\n",
    "        self.assertEqual(task_03(), 1)\n",
    "    def test_task_04(self):\n",
    "        self.assertEqual(task_04(), 4)\n",
    "    def test_task_05(self):\n",
    "        self.assertEqual(task_05(), 'Hello, world!')\n",
    "    def test_task_06(self):\n",
    "        self.assertEqual(task_06(), 5566)\n",
    "    def test_task_07(self):\n",
    "        self.assertEqual(task_07(), 3.14159)\n",
    "    def test_task_08(self):\n",
    "        self.assertEqual(task_08(), 2)\n",
    "    def test_task_09(self):\n",
    "        self.assertEqual(task_09(), 1)\n",
    "suite = unittest.TestLoader().loadTestsFromTestCase(TestTask0009)\n",
    "runner = unittest.TextTestRunner(verbosity=2)\n",
    "runner.run(suite)"
   ]
  }
 ],
 "metadata": {
  "celltoolbar": "Slideshow",
  "kernelspec": {
   "display_name": "Python 3 (ipykernel)",
   "language": "python",
   "name": "python3"
  },
  "language_info": {
   "codemirror_mode": {
    "name": "ipython",
    "version": 3
   },
   "file_extension": ".py",
   "mimetype": "text/x-python",
   "name": "python",
   "nbconvert_exporter": "python",
   "pygments_lexer": "ipython3",
   "version": "3.9.12"
  }
 },
 "nbformat": 4,
 "nbformat_minor": 5
}
