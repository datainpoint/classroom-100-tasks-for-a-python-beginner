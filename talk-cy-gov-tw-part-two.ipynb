{
 "cells": [
  {
   "cell_type": "markdown",
   "id": "347b8e7c-5185-46ac-933e-93e51861253f",
   "metadata": {
    "slideshow": {
     "slide_type": "slide"
    }
   },
   "source": [
    "# Python 程式語言進階課程：程式設計（第二部分）\n",
    "\n",
    "> 監察院，2023-02-09\n",
    "\n",
    "[數聚點](https://www.datainpoint.com) | 郭耀仁 <yaojenkuo@ntu.edu.tw>"
   ]
  },
  {
   "cell_type": "markdown",
   "id": "105bdae0",
   "metadata": {
    "slideshow": {
     "slide_type": "slide"
    }
   },
   "source": [
    "## 資料類別\n",
    "\n",
    "- 起：任務 10\n",
    "- 迄：任務 19"
   ]
  },
  {
   "cell_type": "markdown",
   "id": "6737ed05",
   "metadata": {
    "slideshow": {
     "slide_type": "subslide"
    }
   },
   "source": [
    "## 什麼是函數\n",
    "\n",
    "一段被賦予名稱的程式碼，能夠完成某一個文字處理或者數值計算任務，在使用函數之前，必須先確定這個函數在執行的環境中已經被定義妥善。\n",
    "\n",
    "```python\n",
    "def function_name(inputs: type, arguments: type) -> type:\n",
    "    \"\"\"\n",
    "    docstring\n",
    "    \"\"\"\n",
    "    # function's code block\n",
    "    return outputs\n",
    "```"
   ]
  },
  {
   "cell_type": "markdown",
   "id": "e2db4fc4",
   "metadata": {
    "slideshow": {
     "slide_type": "subslide"
    }
   },
   "source": [
    "## 函數有四個來源\n",
    "\n",
    "1. 來自內建函數。\n",
    "2. 來自標準模組。\n",
    "3. 來自第三方模組。\n",
    "4. 來自使用者的定義。"
   ]
  },
  {
   "cell_type": "markdown",
   "id": "c1b5457c",
   "metadata": {
    "slideshow": {
     "slide_type": "subslide"
    }
   },
   "source": [
    "## 來自內建函數可以直接使用\n",
    "\n",
    "- 哪些內建函數可以直接使用：<https://docs.python.org/3/library/functions.html>\n",
    "- 使用方式為輸入資料或引數（Parameters）到函數名稱後的小括號。"
   ]
  },
  {
   "cell_type": "code",
   "execution_count": 1,
   "id": "92eefc8d",
   "metadata": {},
   "outputs": [
    {
     "data": {
      "text/plain": [
       "5566"
      ]
     },
     "execution_count": 1,
     "metadata": {},
     "output_type": "execute_result"
    }
   ],
   "source": [
    "negative_integer = -5566\n",
    "abs(negative_integer) # 輸入資料"
   ]
  },
  {
   "cell_type": "code",
   "execution_count": 2,
   "id": "db7a125e",
   "metadata": {},
   "outputs": [
    {
     "data": {
      "text/plain": [
       "3.14"
      ]
     },
     "execution_count": 2,
     "metadata": {},
     "output_type": "execute_result"
    }
   ],
   "source": [
    "pi = 3.14159\n",
    "round(pi, 2) # 輸入資料與引數"
   ]
  },
  {
   "cell_type": "markdown",
   "id": "05f677cd",
   "metadata": {
    "slideshow": {
     "slide_type": "subslide"
    }
   },
   "source": [
    "## 現階段我們先瞭解一些關於自行定義函數的組成\n",
    "\n",
    "- `def` 保留字用來定義函數的名稱。\n",
    "- 縮排部分稱為程式區塊（Code block），是函數的主體，也是任務要學員運用預期輸入與參數來完成的部分。\n",
    "- 不要忘記把函數的預期輸出寫在 `return` 保留字後。\n",
    "- 函數的類別提示（Typing）並不是必要的，但它能幫助我們更快理解任務內容。"
   ]
  },
  {
   "cell_type": "markdown",
   "id": "9f048a21",
   "metadata": {
    "slideshow": {
     "slide_type": "subslide"
    }
   },
   "source": [
    "## 如何描述 `negative_integer = -5566` 以及 `pi = 3.14159`\n",
    "\n",
    "- `negative_integer` 物件是 `int` 類別的實例（Instance）。\n",
    "- `pi` 物件是 `float` 類別的實例（Instance）。\n",
    "- 我們可以使用 `=` 符號讓 `object_name` 成為常數 `literal_value` 類別的實例，供後續的程式使用。\n",
    "\n",
    "```python\n",
    "object_name = literal_value\n",
    "```"
   ]
  },
  {
   "cell_type": "markdown",
   "id": "6e7f77a5",
   "metadata": {
    "slideshow": {
     "slide_type": "subslide"
    }
   },
   "source": [
    "## 物件與函數的命名規則\n",
    "\n",
    "- 使用全小寫英文，採用蛇形命名法（Snake case），不同單字之間以底線 `_` 相隔。\n",
    "- 不能使用保留字作命名。\n",
    "- 使用單數名詞為資料類別的物件命名、使用複數名詞為資料結構類別的物件命名、使用動詞為函數或方法命名，盡量讓名稱簡潔且具有意義。\n",
    "- 不要使用內建函數作物件的命名，避免覆蓋內建函數的功能。\n",
    "\n",
    "來源：[PEP 8 -- Style Guide for Python Code](https://www.python.org/dev/peps/pep-0008/#function-and-variable-names)"
   ]
  },
  {
   "cell_type": "markdown",
   "id": "f851bf86",
   "metadata": {
    "slideshow": {
     "slide_type": "subslide"
    }
   },
   "source": [
    "## 什麼是保留字\n",
    "\n",
    "- 保留字是具有特殊作用的指令。\n",
    "- 目前有看過的 `import`、`def` 與 `return` 等都是 Python 的保留字。\n",
    "- Python 的保留字一覽：<https://docs.python.org/3/reference/lexical_analysis.html#keywords>"
   ]
  },
  {
   "cell_type": "markdown",
   "id": "f9219e42",
   "metadata": {
    "slideshow": {
     "slide_type": "subslide"
    }
   },
   "source": [
    "## 有時候我們在程式碼之中會看到用來解釋的說明文字\n",
    "\n",
    "- 註解（Comments）是口語化的文字敘述，以 `#` 標記，並不能夠被翻譯成電腦語言。\n",
    "- 註解可以細分為單行註解、行末註解。"
   ]
  },
  {
   "cell_type": "code",
   "execution_count": 3,
   "id": "80050a7d",
   "metadata": {},
   "outputs": [
    {
     "data": {
      "text/plain": [
       "5566"
      ]
     },
     "execution_count": 3,
     "metadata": {},
     "output_type": "execute_result"
    }
   ],
   "source": [
    "# 使用內建函數 <-- 單行註解\n",
    "negative_integer = -5566\n",
    "abs(negative_integer) # 輸入資料 <-- 行末註解"
   ]
  },
  {
   "cell_type": "markdown",
   "id": "8448bbf9",
   "metadata": {
    "slideshow": {
     "slide_type": "subslide"
    }
   },
   "source": [
    "## 五種基礎資料類別\n",
    "\n",
    "1. `int`(integer)\n",
    "2. `float`\n",
    "3. `str`(string)\n",
    "4. `bool`(boolean)\n",
    "5. `NoneType`"
   ]
  },
  {
   "cell_type": "markdown",
   "id": "7a6a6d10",
   "metadata": {
    "slideshow": {
     "slide_type": "subslide"
    }
   },
   "source": [
    "## 使用內建函數 `type()` 確認物件所參照的資料類別\n",
    "\n",
    "我們通常都會用一個物件去參照常數，物件名稱或 `print()` 函數並不能反映資料類別。"
   ]
  },
  {
   "cell_type": "code",
   "execution_count": 4,
   "id": "c6c19d29",
   "metadata": {},
   "outputs": [
    {
     "name": "stdout",
     "output_type": "stream",
     "text": [
      "5566\n",
      "5566\n"
     ]
    }
   ],
   "source": [
    "favorite = \"5566\" # favorite boy group?\n",
    "print(favorite)\n",
    "favorite = 5566   # favorite number?\n",
    "print(favorite)"
   ]
  },
  {
   "cell_type": "code",
   "execution_count": 5,
   "id": "c0400df8",
   "metadata": {
    "slideshow": {
     "slide_type": "subslide"
    }
   },
   "outputs": [
    {
     "name": "stdout",
     "output_type": "stream",
     "text": [
      "<class 'int'>\n",
      "<class 'float'>\n",
      "<class 'str'>\n"
     ]
    }
   ],
   "source": [
    "my_lucky_number = 5566\n",
    "full_marathon_distance_in_km = 42.195\n",
    "my_favorite_boy_group = \"5566\"\n",
    "print(type(my_lucky_number))\n",
    "print(type(full_marathon_distance_in_km))\n",
    "print(type(my_favorite_boy_group))"
   ]
  },
  {
   "cell_type": "markdown",
   "id": "64d43bd9",
   "metadata": {
    "slideshow": {
     "slide_type": "subslide"
    }
   },
   "source": [
    "## 數值運算符\n",
    "\n",
    "- 直觀的加減乘除 `+`, `-`, `*`, `/`\n",
    "- 次方 `**`\n",
    "- 計算餘數 `%`\n",
    "- 計算商數 `//`\n",
    "- 優先運算 `()`"
   ]
  },
  {
   "cell_type": "markdown",
   "id": "e21f7e73",
   "metadata": {
    "slideshow": {
     "slide_type": "subslide"
    }
   },
   "source": [
    "## 數值運算符的順位\n",
    "\n",
    "1. 最高順位是優先運算 `()`\n",
    "2. 第二順位是次方 `**`\n",
    "3. 第三順位是計算餘數 `%` 計算商數 `//` 乘 `*` 以及除 `/`\n",
    "4. 第四順位是加 `+` 減 `-`"
   ]
  },
  {
   "cell_type": "markdown",
   "id": "9fa4684b",
   "metadata": {
    "slideshow": {
     "slide_type": "subslide"
    }
   },
   "source": [
    "## 優先運算的範例：將華氏溫度轉換為攝氏溫度的自行定義函數 `convert_fahrenheit_to_celsius()`\n",
    "\n",
    "\\begin{equation}\n",
    "\\text{Celsius}(^{\\circ} \\text{C}) = (\\text{Fahrenheit}(^{\\circ} \\text{F}) - 32) \\times \\frac{5}{9}\n",
    "\\end{equation}"
   ]
  },
  {
   "cell_type": "code",
   "execution_count": 6,
   "id": "efe1b840",
   "metadata": {},
   "outputs": [
    {
     "name": "stdout",
     "output_type": "stream",
     "text": [
      "0.0\n",
      "100.0\n"
     ]
    }
   ],
   "source": [
    "def convert_fahrenheit_to_celsius(fahrenheit: int) -> float:\n",
    "    celsius = (fahrenheit - 32) * 5/9  # the formula converts fahrenheit to celsius.\n",
    "    return celsius\n",
    "\n",
    "print(convert_fahrenheit_to_celsius(32))\n",
    "print(convert_fahrenheit_to_celsius(212))"
   ]
  },
  {
   "cell_type": "markdown",
   "id": "fd0f130c",
   "metadata": {
    "slideshow": {
     "slide_type": "subslide"
    }
   },
   "source": [
    "## 使用成對的單引號 `'`、雙引號 `\"` 或三個雙引號 `\"\"\"` 形成 `str`"
   ]
  },
  {
   "cell_type": "code",
   "execution_count": 7,
   "id": "d149ead9",
   "metadata": {},
   "outputs": [
    {
     "name": "stdout",
     "output_type": "stream",
     "text": [
      "<class 'str'>\n",
      "<class 'str'>\n",
      "<class 'str'>\n"
     ]
    }
   ],
   "source": [
    "str_with_single_quotes = 'Hello, world!'\n",
    "str_with_double_quotes = \"Hello, world!\"\n",
    "str_with_triple_double_quotes = \"\"\"Hello, world!\"\"\"\n",
    "print(type(str_with_single_quotes))\n",
    "print(type(str_with_double_quotes))\n",
    "print(type(str_with_triple_double_quotes))"
   ]
  },
  {
   "cell_type": "markdown",
   "id": "b4bbfd24",
   "metadata": {
    "slideshow": {
     "slide_type": "subslide"
    }
   },
   "source": [
    "## `str` 中可能會包含單引號或雙引號，有兩種解決方式\n",
    "\n",
    "1. 以反斜線 `\\`（又稱跳脫符號）作為標註。\n",
    "2. 以不同樣式的引號來形成 `str` 藉此區隔。"
   ]
  },
  {
   "cell_type": "code",
   "execution_count": 8,
   "id": "82599e6d",
   "metadata": {},
   "outputs": [],
   "source": [
    "mcd = 'I\\'m lovin\\' it!'   # escape with \\\n",
    "mcd = \"I'm lovin' it!\"     # use different quotation marks\n",
    "mcd = \"\"\"I'm lovin' it!\"\"\" # use different quotation marks"
   ]
  },
  {
   "cell_type": "markdown",
   "id": "b5e24ee6",
   "metadata": {
    "slideshow": {
     "slide_type": "subslide"
    }
   },
   "source": [
    "## 能對 `str` 使用的文字運算符\n",
    "\n",
    "- 加號 `+` 能夠連接 `str`\n",
    "- 乘號 `*` 能夠複製 `str` 出現次數。"
   ]
  },
  {
   "cell_type": "code",
   "execution_count": 9,
   "id": "0d5306f5",
   "metadata": {},
   "outputs": [
    {
     "name": "stdout",
     "output_type": "stream",
     "text": [
      "I'm lovin' it!\n"
     ]
    }
   ],
   "source": [
    "m = \"\"\"I'm\"\"\"\n",
    "c = \"\"\" lovin'\"\"\"\n",
    "d = \"\"\" it!\"\"\"\n",
    "print(m + c + d)"
   ]
  },
  {
   "cell_type": "code",
   "execution_count": 10,
   "id": "c80c78cd",
   "metadata": {},
   "outputs": [
    {
     "name": "stdout",
     "output_type": "stream",
     "text": [
      "I'm lovin' it!I'm lovin' it!I'm lovin' it!\n"
     ]
    }
   ],
   "source": [
    "mcd = m + c + d\n",
    "print(mcd*3)"
   ]
  },
  {
   "cell_type": "markdown",
   "id": "881408d4",
   "metadata": {
    "slideshow": {
     "slide_type": "subslide"
    }
   },
   "source": [
    "## 另一個 `str` 的重要技巧是特定顯示格式\n",
    "\n",
    "- 具體來說是在 `str` 中嵌入物件，如此顯示的內容將隨著物件中所儲存的值而變動。\n",
    "- 透過 f-string 語法搭配大括號 `{}` 指定顯示格式。\n",
    "\n",
    "```python\n",
    "f\"{object_name}\"         # f-string 語法\n",
    "```"
   ]
  },
  {
   "cell_type": "code",
   "execution_count": 11,
   "id": "14b51aaa",
   "metadata": {},
   "outputs": [
    {
     "name": "stdout",
     "output_type": "stream",
     "text": [
      "Hello, world!\n",
      "Hello, Python!\n"
     ]
    }
   ],
   "source": [
    "def say_hello_to_anyone(anyone: str) -> str:\n",
    "    return f\"Hello, {anyone}!\" # f-string syntax\n",
    "\n",
    "print(say_hello_to_anyone(\"world\"))\n",
    "print(say_hello_to_anyone(\"Python\"))"
   ]
  },
  {
   "cell_type": "markdown",
   "id": "32593b40",
   "metadata": {
    "slideshow": {
     "slide_type": "subslide"
    }
   },
   "source": [
    "## 我個人常用的特定顯示格式\n",
    "\n",
    "- 指定小數點 `n` 位的浮點數格式 `:.nf`\n",
    "- 具有千分位逗號的金額格式 `:,`"
   ]
  },
  {
   "cell_type": "code",
   "execution_count": 12,
   "id": "a8eec8c6",
   "metadata": {
    "slideshow": {
     "slide_type": "subslide"
    }
   },
   "outputs": [
    {
     "name": "stdout",
     "output_type": "stream",
     "text": [
      "32.0 degrees fahrenheit is equal to 0.0 degrees celsius.\n",
      "212.0 degrees fahrenheit is equal to 100.0 degrees celsius.\n"
     ]
    }
   ],
   "source": [
    "def fahrenheit_to_celsius(fahrenheit) -> str:\n",
    "    celsius = (fahrenheit - 32) * 5/9\n",
    "    msg = f\"{fahrenheit:.1f} degrees fahrenheit is equal to {celsius:.1f} degrees celsius.\"\n",
    "    return msg\n",
    "\n",
    "print(fahrenheit_to_celsius(32))\n",
    "print(fahrenheit_to_celsius(212))"
   ]
  },
  {
   "cell_type": "code",
   "execution_count": 13,
   "id": "7df92181",
   "metadata": {
    "slideshow": {
     "slide_type": "subslide"
    }
   },
   "outputs": [
    {
     "name": "stdout",
     "output_type": "stream",
     "text": [
      "A Big Mac costs 72.00 TWD in Taiwan.\n",
      "A Big Mac costs 5.65 USD in US.\n",
      "A Big Mac costs 6,520.00 Won in South Korea.\n"
     ]
    }
   ],
   "source": [
    "def big_mac_index(country, currency, price):\n",
    "    msg = f\"A Big Mac costs {price:,.2f} {currency} in {country}.\"\n",
    "    return msg\n",
    "\n",
    "print(big_mac_index(\"Taiwan\", \"TWD\", 72))\n",
    "print(big_mac_index(\"US\", \"USD\", 5.65))\n",
    "print(big_mac_index(\"South Korea\", \"Won\", 6520))"
   ]
  },
  {
   "cell_type": "markdown",
   "id": "c90b8c0b",
   "metadata": {
    "slideshow": {
     "slide_type": "subslide"
    }
   },
   "source": [
    "## 什麼是 `bool`\n",
    "\n",
    "布林（Boolean）是程式設計中用來表示邏輯的資料類別，以發明布林代數的數學家 George Boole 為名，它只有兩種值：假（`False`）和真（`True`），在程式設計與資料科學可以進行流程控制以及資料篩選。"
   ]
  },
  {
   "cell_type": "markdown",
   "id": "52b7d1f1",
   "metadata": {
    "slideshow": {
     "slide_type": "subslide"
    }
   },
   "source": [
    "## 有三種方式可以形成 `bool`\n",
    "\n",
    "1. 直接使用保留字 `False` 或 `True`\n",
    "2. 使用關係運算符。\n",
    "3. 使用邏輯運算符。"
   ]
  },
  {
   "cell_type": "markdown",
   "id": "f35c8dd3",
   "metadata": {
    "slideshow": {
     "slide_type": "subslide"
    }
   },
   "source": [
    "## 直接使用保留字 `False` 或 `True`"
   ]
  },
  {
   "cell_type": "code",
   "execution_count": 14,
   "id": "20727414",
   "metadata": {
    "slideshow": {
     "slide_type": "-"
    }
   },
   "outputs": [
    {
     "name": "stdout",
     "output_type": "stream",
     "text": [
      "False\n",
      "True\n",
      "<class 'bool'>\n",
      "<class 'bool'>\n"
     ]
    }
   ],
   "source": [
    "bool_false = False\n",
    "bool_true = True\n",
    "\n",
    "print(bool_false)\n",
    "print(bool_true)\n",
    "print(type(bool_false))\n",
    "print(type(bool_true))"
   ]
  },
  {
   "cell_type": "markdown",
   "id": "b937adeb",
   "metadata": {
    "slideshow": {
     "slide_type": "subslide"
    }
   },
   "source": [
    "## 使用關係運算符形成 `bool` \n",
    "\n",
    "在關係運算符兩側放置物件或字面值形成 `bool` 稱為條件運算式（Conditional expression）。\n",
    "\n",
    "- 等於 `==`\n",
    "- 不等於 `!=`\n",
    "- 大於 `>` 小於 `<`\n",
    "- 大於等於 `>=` 小於等於 `<=`\n",
    "- 包含於 `in` 不包含於 `not in`"
   ]
  },
  {
   "cell_type": "code",
   "execution_count": 15,
   "id": "2d4b7a8b",
   "metadata": {},
   "outputs": [
    {
     "name": "stdout",
     "output_type": "stream",
     "text": [
      "True\n",
      "False\n",
      "False\n",
      "True\n",
      "True\n",
      "True\n"
     ]
    }
   ],
   "source": [
    "my_lucky_number = 5566\n",
    "my_favorite_boy_group = \"5566\"\n",
    "\n",
    "print(my_lucky_number == 5566)\n",
    "print(my_lucky_number != 5566)\n",
    "print(my_lucky_number > 5566)\n",
    "print(my_lucky_number >= 5566)\n",
    "print('56' in my_favorite_boy_group)\n",
    "print('78' not in my_favorite_boy_group)"
   ]
  },
  {
   "cell_type": "markdown",
   "id": "f35f310c",
   "metadata": {
    "slideshow": {
     "slide_type": "subslide"
    }
   },
   "source": [
    "## 要將 `==` 以及 `=` 明確地區分出來\n",
    "\n",
    "- `==` 是關係運算符，用來判斷符號兩側是否相等。\n",
    "- `=` 是賦值運算符，用來讓左側的物件名稱成為右側類別的實例。"
   ]
  },
  {
   "cell_type": "code",
   "execution_count": 16,
   "id": "3fefa0b5",
   "metadata": {},
   "outputs": [
    {
     "data": {
      "text/plain": [
       "False"
      ]
     },
     "execution_count": 16,
     "metadata": {},
     "output_type": "execute_result"
    }
   ],
   "source": [
    "my_favorite_boy_group = \"5566\"\n",
    "my_favorite_boy_group == 5566"
   ]
  },
  {
   "cell_type": "markdown",
   "id": "a2ee089e",
   "metadata": {
    "slideshow": {
     "slide_type": "subslide"
    }
   },
   "source": [
    "## 使用邏輯運算符形成 `bool`\n",
    "\n",
    "- 交集 `and`\n",
    "- 聯集 `or`\n",
    "- 非 `not`"
   ]
  },
  {
   "cell_type": "markdown",
   "id": "2baa4249",
   "metadata": {
    "slideshow": {
     "slide_type": "subslide"
    }
   },
   "source": [
    "## 非 `not` 運算符將 `bool` 反轉"
   ]
  },
  {
   "cell_type": "code",
   "execution_count": 17,
   "id": "b362c2b3",
   "metadata": {},
   "outputs": [
    {
     "name": "stdout",
     "output_type": "stream",
     "text": [
      "True\n",
      "False\n"
     ]
    }
   ],
   "source": [
    "bool_false = False\n",
    "bool_true = True\n",
    "print(not bool_false)\n",
    "print(not bool_true)"
   ]
  },
  {
   "cell_type": "markdown",
   "id": "78ae747f",
   "metadata": {
    "slideshow": {
     "slide_type": "subslide"
    }
   },
   "source": [
    "## 邏輯運算符針對已經是 `bool` 的資料進行集合運算\n",
    "\n",
    "- 在交集 `and` 運算符兩側必須都是 `True` 判斷結果才會是 `True`\n",
    "- 在聯集 `or` 運算符兩側必須都是 `False` 判斷結果才會是 `False`"
   ]
  },
  {
   "cell_type": "markdown",
   "id": "4d14ad3d",
   "metadata": {
    "slideshow": {
     "slide_type": "subslide"
    }
   },
   "source": [
    "## 在交集 `and` 運算符兩側必須都是 `True` 判斷結果才會是 `True`"
   ]
  },
  {
   "cell_type": "code",
   "execution_count": 18,
   "id": "60f6f0ed",
   "metadata": {},
   "outputs": [
    {
     "name": "stdout",
     "output_type": "stream",
     "text": [
      "True\n",
      "False\n",
      "False\n",
      "False\n"
     ]
    }
   ],
   "source": [
    "bool_false = False\n",
    "bool_true = True\n",
    "print(bool_true and bool_true)\n",
    "print(bool_true and bool_false)\n",
    "print(bool_false and bool_true)\n",
    "print(bool_false and bool_false)"
   ]
  },
  {
   "cell_type": "markdown",
   "id": "eb70eb14",
   "metadata": {
    "slideshow": {
     "slide_type": "subslide"
    }
   },
   "source": [
    "## 在聯集 `or` 運算符兩側必須都是 `False` 判斷結果才會是 `False`"
   ]
  },
  {
   "cell_type": "code",
   "execution_count": 19,
   "id": "4d36e2e2",
   "metadata": {},
   "outputs": [
    {
     "name": "stdout",
     "output_type": "stream",
     "text": [
      "False\n",
      "True\n",
      "True\n",
      "True\n"
     ]
    }
   ],
   "source": [
    "bool_false = False\n",
    "bool_true = True\n",
    "print(bool_false or bool_false)\n",
    "print(bool_true or bool_true)\n",
    "print(bool_true or bool_false)\n",
    "print(bool_false or bool_true)"
   ]
  },
  {
   "cell_type": "markdown",
   "id": "97f29c41",
   "metadata": {
    "slideshow": {
     "slide_type": "subslide"
    }
   },
   "source": [
    "## 交集 `and` 運算符的範例：`is_a_good_marathon_weather()` 函數\n",
    "\n",
    "如果一個適合跑馬拉松的天氣定義是「乾」**並且**「冷」，假設比賽日乾燥與低溫的機率均為 50%，適合跑馬拉松的機率為 25%。"
   ]
  },
  {
   "cell_type": "code",
   "execution_count": 20,
   "id": "7f68645a",
   "metadata": {},
   "outputs": [
    {
     "name": "stdout",
     "output_type": "stream",
     "text": [
      "True\n",
      "False\n",
      "False\n",
      "False\n"
     ]
    }
   ],
   "source": [
    "def is_a_good_marathon_weather(is_dry: bool, is_cold: bool) -> bool:\n",
    "    return is_dry and is_cold\n",
    "\n",
    "print(is_a_good_marathon_weather(True, True))\n",
    "print(is_a_good_marathon_weather(True, False))\n",
    "print(is_a_good_marathon_weather(False, True))\n",
    "print(is_a_good_marathon_weather(False, False))"
   ]
  },
  {
   "cell_type": "markdown",
   "id": "dfa083eb",
   "metadata": {
    "slideshow": {
     "slide_type": "subslide"
    }
   },
   "source": [
    "## 聯集 `or` 運算符的範例：`is_a_good_marathon_weather()` 函數\n",
    "\n",
    "如果一個適合跑馬拉松的天氣定義是「乾」**或者**「冷」，假設比賽日乾燥與低溫的機率均為 50%，適合跑馬拉松的機率為 75%。"
   ]
  },
  {
   "cell_type": "code",
   "execution_count": 21,
   "id": "cb79e9bb",
   "metadata": {},
   "outputs": [
    {
     "name": "stdout",
     "output_type": "stream",
     "text": [
      "False\n",
      "True\n",
      "True\n",
      "True\n"
     ]
    }
   ],
   "source": [
    "def is_a_good_marathon_weather(is_dry: bool, is_cold: bool) -> bool:\n",
    "    return is_dry or is_cold\n",
    "\n",
    "print(is_a_good_marathon_weather(False, False))\n",
    "print(is_a_good_marathon_weather(True, True))\n",
    "print(is_a_good_marathon_weather(True, False))\n",
    "print(is_a_good_marathon_weather(False, True))"
   ]
  },
  {
   "cell_type": "markdown",
   "id": "97a72186",
   "metadata": {
    "slideshow": {
     "slide_type": "subslide"
    }
   },
   "source": [
    "## 未定義值 `NoneType`\n",
    "\n",
    "- Python 表示未定義值、空值或者虛無值的特殊資料類別，只有一個值：`None`。\n",
    "- `NoneType` 既不是 `False`。\n",
    "- `NoneType` 也不是空的 `str` 類別 `''`。\n",
    "- `NoneType` 也不是 `0`。"
   ]
  },
  {
   "cell_type": "code",
   "execution_count": 22,
   "id": "52cd7a58",
   "metadata": {},
   "outputs": [
    {
     "name": "stdout",
     "output_type": "stream",
     "text": [
      "<class 'NoneType'>\n",
      "True\n",
      "False\n",
      "False\n",
      "False\n"
     ]
    }
   ],
   "source": [
    "a_none_type = None\n",
    "print(type(a_none_type))\n",
    "print(a_none_type == None)\n",
    "print(a_none_type == False)\n",
    "print(a_none_type == '')\n",
    "print(a_none_type == 0)"
   ]
  },
  {
   "cell_type": "markdown",
   "id": "3bfc8f65",
   "metadata": {
    "slideshow": {
     "slide_type": "subslide"
    }
   },
   "source": [
    "## 如果在自行定義函數時沒有使用 `return`，函數將輸出 `NoneType`\n",
    "\n",
    "若只是用 `print()` 函數將預期輸出印出並無法通過測試的根本原因，輸出 `NoneType` 無法通過和預期輸出比對的測試資料。"
   ]
  },
  {
   "cell_type": "code",
   "execution_count": 23,
   "id": "980132bd",
   "metadata": {},
   "outputs": [
    {
     "name": "stdout",
     "output_type": "stream",
     "text": [
      "100.0\n",
      "None\n",
      "<class 'NoneType'>\n"
     ]
    }
   ],
   "source": [
    "def convert_fahrenheit_to_celsius(fahrenheit: int) -> None:\n",
    "    celsius = (fahrenheit - 32) * 5/9\n",
    "    print(celsius) # Instead of return celsius, we just print celsius.\n",
    "    \n",
    "function_output = convert_fahrenheit_to_celsius(212)\n",
    "print(function_output)\n",
    "print(type(function_output))"
   ]
  },
  {
   "cell_type": "markdown",
   "id": "1cc7e6fb",
   "metadata": {
    "slideshow": {
     "slide_type": "subslide"
    }
   },
   "source": [
    "## 資料類別判斷的兩種方式\n",
    "\n",
    "1. 將 `type()` 函數的輸出與資料類別名稱比較。\n",
    "2. 透過內建函數 `isinstance()` 判斷。"
   ]
  },
  {
   "cell_type": "markdown",
   "id": "0d08f477",
   "metadata": {
    "slideshow": {
     "slide_type": "subslide"
    }
   },
   "source": [
    "## 資料類別可以透過內建函數 `type()` 判斷\n",
    "\n",
    "將 `type()` 函數的輸出與資料類別名稱比較。"
   ]
  },
  {
   "cell_type": "code",
   "execution_count": 24,
   "id": "f78bcebc",
   "metadata": {},
   "outputs": [
    {
     "name": "stdout",
     "output_type": "stream",
     "text": [
      "True\n",
      "False\n"
     ]
    }
   ],
   "source": [
    "a_bool_false = False\n",
    "a_str_false = \"False\"\n",
    "print(type(a_bool_false) == bool)\n",
    "print(type(a_str_false) == bool)"
   ]
  },
  {
   "cell_type": "code",
   "execution_count": 25,
   "id": "e2d3e2c2",
   "metadata": {
    "slideshow": {
     "slide_type": "subslide"
    }
   },
   "outputs": [
    {
     "name": "stdout",
     "output_type": "stream",
     "text": [
      "True\n",
      "False\n"
     ]
    }
   ],
   "source": [
    "an_integer_5566 = 5566\n",
    "a_str_5566 = \"5566\"\n",
    "print(type(an_integer_5566) == int)\n",
    "print(type(a_str_5566) == int)"
   ]
  },
  {
   "cell_type": "code",
   "execution_count": 26,
   "id": "e1e22a23",
   "metadata": {},
   "outputs": [
    {
     "name": "stdout",
     "output_type": "stream",
     "text": [
      "True\n",
      "False\n"
     ]
    }
   ],
   "source": [
    "a_none_type = None\n",
    "a_none_str = \"None\"\n",
    "print(type(a_none_type) == type(None))\n",
    "print(type(a_none_str) == type(None))"
   ]
  },
  {
   "cell_type": "markdown",
   "id": "01c3a6ed",
   "metadata": {
    "slideshow": {
     "slide_type": "subslide"
    }
   },
   "source": [
    "## 資料類別可以透過內建函數 `isinstance()` 判斷\n",
    "\n",
    "`isinstance(x, classinfo)` 函數判斷輸入物件 `x` 是否為某個資料類別的實例，其中 `classinfo` 參數輸入欲判斷的資料類別名稱。"
   ]
  },
  {
   "cell_type": "code",
   "execution_count": 27,
   "id": "22c1e970",
   "metadata": {
    "slideshow": {
     "slide_type": "-"
    }
   },
   "outputs": [
    {
     "name": "stdout",
     "output_type": "stream",
     "text": [
      "True\n",
      "False\n"
     ]
    }
   ],
   "source": [
    "a_bool_false = False\n",
    "a_str_false = \"False\"\n",
    "print(isinstance(a_bool_false, bool))\n",
    "print(isinstance(a_str_false, bool))"
   ]
  },
  {
   "cell_type": "code",
   "execution_count": 28,
   "id": "a5868da7",
   "metadata": {
    "slideshow": {
     "slide_type": "subslide"
    }
   },
   "outputs": [
    {
     "name": "stdout",
     "output_type": "stream",
     "text": [
      "True\n",
      "False\n"
     ]
    }
   ],
   "source": [
    "# Use int as classinfo\n",
    "an_integer_5566 = 5566\n",
    "a_str_5566 = \"5566\"\n",
    "print(isinstance(an_integer_5566, int))\n",
    "print(isinstance(a_str_5566, int))"
   ]
  },
  {
   "cell_type": "code",
   "execution_count": 29,
   "id": "d6be4270",
   "metadata": {},
   "outputs": [
    {
     "name": "stdout",
     "output_type": "stream",
     "text": [
      "True\n",
      "False\n"
     ]
    }
   ],
   "source": [
    "# Use type(None) as classinfo\n",
    "a_none_type = None\n",
    "a_none_str = \"None\"\n",
    "print(isinstance(a_none_type, type(None)))\n",
    "print(isinstance(a_none_str, type(None)))"
   ]
  },
  {
   "cell_type": "markdown",
   "id": "5e3120b7",
   "metadata": {
    "slideshow": {
     "slide_type": "subslide"
    }
   },
   "source": [
    "## 資料類別可以透過與其同名的內建函數轉換\n",
    "\n",
    "- `bool()` 可以將輸入資料轉換為 `bool`\n",
    "- `int()` 可以將輸入資料轉換為 `int`\n",
    "- `float()` 可以將輸入資料轉換為 `float`\n",
    "- `str()` 可以將輸入資料轉換為 `str`"
   ]
  },
  {
   "cell_type": "markdown",
   "id": "fa4b143a",
   "metadata": {
    "slideshow": {
     "slide_type": "subslide"
    }
   },
   "source": [
    "## 資料類別轉換的包容性\n",
    "\n",
    "由資料類別的子集合往資料類別的母集合轉換可以確保不會出錯。\n",
    "\n",
    "\\begin{equation}\n",
    "\\text{bool} \\in \\text{int} \\in \\text{float} \\in \\text{str}\n",
    "\\end{equation}"
   ]
  },
  {
   "cell_type": "code",
   "execution_count": 30,
   "id": "0374141c",
   "metadata": {},
   "outputs": [
    {
     "name": "stdout",
     "output_type": "stream",
     "text": [
      "0\n",
      "0.0\n",
      "0.0\n"
     ]
    }
   ],
   "source": [
    "# Upcasting is always allowed.\n",
    "print(int(False))\n",
    "print(float(0))\n",
    "print(str(0.0))"
   ]
  },
  {
   "cell_type": "markdown",
   "id": "57026f0b",
   "metadata": {
    "slideshow": {
     "slide_type": "subslide"
    }
   },
   "source": [
    "## 資料類別轉換的包容性（續）\n",
    "\n",
    "由資料類別的母集合往資料類別的子集合轉換需要注意是否符合邏輯、是否正確。\n",
    "\n",
    "\\begin{equation}\n",
    "\\text{bool} \\in \\text{int} \\in \\text{float} \\in \\text{str}\n",
    "\\end{equation}"
   ]
  },
  {
   "cell_type": "code",
   "execution_count": 31,
   "id": "a51825c9",
   "metadata": {},
   "outputs": [
    {
     "name": "stdout",
     "output_type": "stream",
     "text": [
      "True\n",
      "True\n"
     ]
    }
   ],
   "source": [
    "print(bool(\"0\"))\n",
    "print(bool(\"False\"))"
   ]
  },
  {
   "cell_type": "markdown",
   "id": "6e32de06",
   "metadata": {
    "slideshow": {
     "slide_type": "subslide"
    }
   },
   "source": [
    "## 任務 10：定義函數不需要 `return` 也能夠獲得輸出。"
   ]
  },
  {
   "cell_type": "code",
   "execution_count": 32,
   "id": "451ba33a",
   "metadata": {},
   "outputs": [],
   "source": [
    "def task_10() -> bool:\n",
    "    # 寫作\n",
    "    return None\n",
    "    # 寫作"
   ]
  },
  {
   "cell_type": "markdown",
   "id": "7285942b",
   "metadata": {
    "slideshow": {
     "slide_type": "subslide"
    }
   },
   "source": [
    "## 任務 11：`=` 是關係運算符，用來判斷符號兩側是否相等。"
   ]
  },
  {
   "cell_type": "code",
   "execution_count": 33,
   "id": "9bf68120",
   "metadata": {},
   "outputs": [],
   "source": [
    "def task_11() -> bool:\n",
    "    # 寫作\n",
    "    return None\n",
    "    # 寫作"
   ]
  },
  {
   "cell_type": "markdown",
   "id": "54bb7e47",
   "metadata": {
    "slideshow": {
     "slide_type": "subslide"
    }
   },
   "source": [
    "## 任務 12：下列語法何者可以形成文字？\n",
    "\n",
    "1. `str_with_single_quotes = 'Hello, world!'`\n",
    "2. `str_with_double_quotes = \"Hello, world!\"`\n",
    "3. `str_with_triple_double_quotes = \"\"\"Hello, world!\"\"\"`\n",
    "4. 以上皆是。"
   ]
  },
  {
   "cell_type": "code",
   "execution_count": 34,
   "id": "30c594b3",
   "metadata": {},
   "outputs": [],
   "source": [
    "def task_12() -> int:\n",
    "    # 寫作\n",
    "    return 0\n",
    "    # 寫作"
   ]
  },
  {
   "cell_type": "markdown",
   "id": "b7249539",
   "metadata": {
    "slideshow": {
     "slide_type": "subslide"
    }
   },
   "source": [
    "## 任務 13：下列條件運算式何者可以形成 `True`？\n",
    "\n",
    "1. `True and True`\n",
    "2. `True and False`\n",
    "3. `False and True`\n",
    "4. `False and False`"
   ]
  },
  {
   "cell_type": "code",
   "execution_count": 35,
   "id": "2dd707af",
   "metadata": {},
   "outputs": [],
   "source": [
    "def task_13() -> int:\n",
    "    # 寫作\n",
    "    return 0\n",
    "    # 寫作"
   ]
  },
  {
   "cell_type": "markdown",
   "id": "2e484979",
   "metadata": {
    "slideshow": {
     "slide_type": "subslide"
    }
   },
   "source": [
    "## 任務 14：下列條件運算式何者可以形成 `False`？\n",
    "\n",
    "1. `True or True`\n",
    "2. `True or False`\n",
    "3. `False or True`\n",
    "4. `False or False`"
   ]
  },
  {
   "cell_type": "code",
   "execution_count": 36,
   "id": "a139e9ea",
   "metadata": {},
   "outputs": [],
   "source": [
    "def task_14() -> int:\n",
    "    # 寫作\n",
    "    return 0\n",
    "    # 寫作"
   ]
  },
  {
   "cell_type": "markdown",
   "id": "40fea721",
   "metadata": {
    "slideshow": {
     "slide_type": "subslide"
    }
   },
   "source": [
    "## 任務 15：轉換公里為英里\n",
    "\n",
    "\\begin{equation}\n",
    "1 \\; \\text{km} = 0.62137 \\; \\text{mile}\n",
    "\\end{equation}"
   ]
  },
  {
   "cell_type": "code",
   "execution_count": 37,
   "id": "fda5ac3e",
   "metadata": {},
   "outputs": [],
   "source": [
    "def task_15(km: float) -> float:\n",
    "    \"\"\"\n",
    "    >>> task_15(42.195) # a full marathon\n",
    "    26.21870715\n",
    "    >>> task_15(21.095) # a half marathon\n",
    "    13.10780015\n",
    "    \"\"\"\n",
    "    # 寫作\n",
    "    return None\n",
    "    # 寫作"
   ]
  },
  {
   "cell_type": "markdown",
   "id": "241c81c1",
   "metadata": {
    "slideshow": {
     "slide_type": "subslide"
    }
   },
   "source": [
    "## 任務 16：計算 BMI\n",
    "\n",
    "\\begin{equation}\n",
    "\\text{BMI} = \\frac{\\text{weight}_{kg}}{\\text{height}_{m}^2}\n",
    "\\end{equation}"
   ]
  },
  {
   "cell_type": "code",
   "execution_count": 38,
   "id": "759c5aae",
   "metadata": {},
   "outputs": [],
   "source": [
    "def task_16(height: int, weight: int) -> float:\n",
    "    \"\"\"\n",
    "    >>> task_16(206, 113) # LeBron James\n",
    "    26.628334433028563\n",
    "    >>> task_16(211, 110) # Giannis Antetokounmpo\n",
    "    24.70744143213315\n",
    "    >>> task_16(201, 104) # Luka Doncic\n",
    "    25.74193708076532\n",
    "    \"\"\"\n",
    "    # 寫作\n",
    "    return None\n",
    "    # 寫作"
   ]
  },
  {
   "cell_type": "markdown",
   "id": "c423b861",
   "metadata": {
    "slideshow": {
     "slide_type": "subslide"
    }
   },
   "source": [
    "## 任務 17：顯示逗號與兩位小數格式"
   ]
  },
  {
   "cell_type": "code",
   "execution_count": 39,
   "id": "04e8c0ff",
   "metadata": {},
   "outputs": [],
   "source": [
    "def task_17(x: int) -> str:\n",
    "    \"\"\"\n",
    "    >>> task_17(1000)\n",
    "    '1,000.00'\n",
    "    >>> task_17(10000)\n",
    "    '10,000.00'\n",
    "    >>> task_17(100000)\n",
    "    '100,000.00'\n",
    "    \"\"\"\n",
    "    # 寫作\n",
    "    return None\n",
    "    # 寫作"
   ]
  },
  {
   "cell_type": "markdown",
   "id": "717e39b9",
   "metadata": {
    "slideshow": {
     "slide_type": "subslide"
    }
   },
   "source": [
    "## 任務 18：是否為正數"
   ]
  },
  {
   "cell_type": "code",
   "execution_count": 40,
   "id": "5193d821",
   "metadata": {},
   "outputs": [],
   "source": [
    "def task_18(x: int) -> bool:\n",
    "    \"\"\"\n",
    "    >>> task_18(-1)\n",
    "    False\n",
    "    >>> task_18(0)\n",
    "    False\n",
    "    >>> task_18(1)\n",
    "    True\n",
    "    \"\"\"\n",
    "    # 寫作\n",
    "    return None\n",
    "    # 寫作"
   ]
  },
  {
   "cell_type": "markdown",
   "id": "6dbe24b5",
   "metadata": {
    "slideshow": {
     "slide_type": "subslide"
    }
   },
   "source": [
    "## 任務 19：是否為兩位數"
   ]
  },
  {
   "cell_type": "code",
   "execution_count": 41,
   "id": "5a3cf1ad",
   "metadata": {},
   "outputs": [],
   "source": [
    "def task_19(x: int) -> bool:\n",
    "    \"\"\"\n",
    "    >>> task_19(9)\n",
    "    False\n",
    "    >>> task_19(10)\n",
    "    True\n",
    "    >>> task_19(100)\n",
    "    False\n",
    "    \"\"\"\n",
    "    # 寫作\n",
    "    return None\n",
    "    # 寫作"
   ]
  },
  {
   "cell_type": "markdown",
   "id": "688b00cd",
   "metadata": {
    "slideshow": {
     "slide_type": "subslide"
    }
   },
   "source": [
    "## 測試：任務 10-19"
   ]
  },
  {
   "cell_type": "code",
   "execution_count": 42,
   "id": "f1427971",
   "metadata": {},
   "outputs": [
    {
     "name": "stderr",
     "output_type": "stream",
     "text": [
      "test_task_10 (__main__.TestTask1019) ... FAIL\n",
      "test_task_11 (__main__.TestTask1019) ... FAIL\n",
      "test_task_12 (__main__.TestTask1019) ... FAIL\n",
      "test_task_13 (__main__.TestTask1019) ... FAIL\n",
      "test_task_14 (__main__.TestTask1019) ... FAIL\n",
      "test_task_15 (__main__.TestTask1019) ... ERROR\n",
      "test_task_16 (__main__.TestTask1019) ... ERROR\n",
      "test_task_17 (__main__.TestTask1019) ... FAIL\n",
      "test_task_18 (__main__.TestTask1019) ... FAIL\n",
      "test_task_19 (__main__.TestTask1019) ... FAIL\n",
      "\n",
      "======================================================================\n",
      "ERROR: test_task_15 (__main__.TestTask1019)\n",
      "----------------------------------------------------------------------\n",
      "Traceback (most recent call last):\n",
      "  File \"/var/folders/0b/r__z5mpn6ldgb_w2j7_y_ntr0000gn/T/ipykernel_30368/2026896047.py\", line 20, in test_task_15\n",
      "    self.assertTrue(output >= 26.2)\n",
      "TypeError: '>=' not supported between instances of 'NoneType' and 'float'\n",
      "\n",
      "======================================================================\n",
      "ERROR: test_task_16 (__main__.TestTask1019)\n",
      "----------------------------------------------------------------------\n",
      "Traceback (most recent call last):\n",
      "  File \"/var/folders/0b/r__z5mpn6ldgb_w2j7_y_ntr0000gn/T/ipykernel_30368/2026896047.py\", line 25, in test_task_16\n",
      "    self.assertTrue(output >= 26)\n",
      "TypeError: '>=' not supported between instances of 'NoneType' and 'int'\n",
      "\n",
      "======================================================================\n",
      "FAIL: test_task_10 (__main__.TestTask1019)\n",
      "----------------------------------------------------------------------\n",
      "Traceback (most recent call last):\n",
      "  File \"/var/folders/0b/r__z5mpn6ldgb_w2j7_y_ntr0000gn/T/ipykernel_30368/2026896047.py\", line 6, in test_task_10\n",
      "    self.assertIsInstance(output, bool)\n",
      "AssertionError: None is not an instance of <class 'bool'>\n",
      "\n",
      "======================================================================\n",
      "FAIL: test_task_11 (__main__.TestTask1019)\n",
      "----------------------------------------------------------------------\n",
      "Traceback (most recent call last):\n",
      "  File \"/var/folders/0b/r__z5mpn6ldgb_w2j7_y_ntr0000gn/T/ipykernel_30368/2026896047.py\", line 10, in test_task_11\n",
      "    self.assertIsInstance(output, bool)\n",
      "AssertionError: None is not an instance of <class 'bool'>\n",
      "\n",
      "======================================================================\n",
      "FAIL: test_task_12 (__main__.TestTask1019)\n",
      "----------------------------------------------------------------------\n",
      "Traceback (most recent call last):\n",
      "  File \"/var/folders/0b/r__z5mpn6ldgb_w2j7_y_ntr0000gn/T/ipykernel_30368/2026896047.py\", line 13, in test_task_12\n",
      "    self.assertEqual(task_12(), 4)\n",
      "AssertionError: 0 != 4\n",
      "\n",
      "======================================================================\n",
      "FAIL: test_task_13 (__main__.TestTask1019)\n",
      "----------------------------------------------------------------------\n",
      "Traceback (most recent call last):\n",
      "  File \"/var/folders/0b/r__z5mpn6ldgb_w2j7_y_ntr0000gn/T/ipykernel_30368/2026896047.py\", line 15, in test_task_13\n",
      "    self.assertEqual(task_13(), 1)\n",
      "AssertionError: 0 != 1\n",
      "\n",
      "======================================================================\n",
      "FAIL: test_task_14 (__main__.TestTask1019)\n",
      "----------------------------------------------------------------------\n",
      "Traceback (most recent call last):\n",
      "  File \"/var/folders/0b/r__z5mpn6ldgb_w2j7_y_ntr0000gn/T/ipykernel_30368/2026896047.py\", line 17, in test_task_14\n",
      "    self.assertEqual(task_14(), 4)\n",
      "AssertionError: 0 != 4\n",
      "\n",
      "======================================================================\n",
      "FAIL: test_task_17 (__main__.TestTask1019)\n",
      "----------------------------------------------------------------------\n",
      "Traceback (most recent call last):\n",
      "  File \"/var/folders/0b/r__z5mpn6ldgb_w2j7_y_ntr0000gn/T/ipykernel_30368/2026896047.py\", line 31, in test_task_17\n",
      "    self.assertEqual(task_17(1000), '1,000.00')\n",
      "AssertionError: None != '1,000.00'\n",
      "\n",
      "======================================================================\n",
      "FAIL: test_task_18 (__main__.TestTask1019)\n",
      "----------------------------------------------------------------------\n",
      "Traceback (most recent call last):\n",
      "  File \"/var/folders/0b/r__z5mpn6ldgb_w2j7_y_ntr0000gn/T/ipykernel_30368/2026896047.py\", line 37, in test_task_18\n",
      "    self.assertTrue(task_18(1))\n",
      "AssertionError: None is not true\n",
      "\n",
      "======================================================================\n",
      "FAIL: test_task_19 (__main__.TestTask1019)\n",
      "----------------------------------------------------------------------\n",
      "Traceback (most recent call last):\n",
      "  File \"/var/folders/0b/r__z5mpn6ldgb_w2j7_y_ntr0000gn/T/ipykernel_30368/2026896047.py\", line 41, in test_task_19\n",
      "    self.assertTrue(task_19(99))\n",
      "AssertionError: None is not true\n",
      "\n",
      "----------------------------------------------------------------------\n",
      "Ran 10 tests in 0.037s\n",
      "\n",
      "FAILED (failures=8, errors=2)\n"
     ]
    },
    {
     "data": {
      "text/plain": [
       "<unittest.runner.TextTestResult run=10 errors=2 failures=8>"
      ]
     },
     "execution_count": 42,
     "metadata": {},
     "output_type": "execute_result"
    }
   ],
   "source": [
    "import unittest\n",
    "# 測試\n",
    "class TestTask1019(unittest.TestCase):\n",
    "    def test_task_10(self):\n",
    "        output = task_10()\n",
    "        self.assertIsInstance(output, bool)\n",
    "        self.assertFalse(output)\n",
    "    def test_task_11(self):\n",
    "        output = task_11()\n",
    "        self.assertIsInstance(output, bool)\n",
    "        self.assertFalse(output)\n",
    "    def test_task_12(self):\n",
    "        self.assertEqual(task_12(), 4)\n",
    "    def test_task_13(self):\n",
    "        self.assertEqual(task_13(), 1)\n",
    "    def test_task_14(self):\n",
    "        self.assertEqual(task_14(), 4)\n",
    "    def test_task_15(self):\n",
    "        output = task_15(42.195) # a full marathon\n",
    "        self.assertTrue(output >= 26.2)\n",
    "        output = task_15(21.095) # a half marathon\n",
    "        self.assertTrue(output >= 13.1)\n",
    "    def test_task_16(self):\n",
    "        output = task_16(206, 113) # LeBron James\n",
    "        self.assertTrue(output >= 26)\n",
    "        output = task_16(211, 110) # Giannis Antetokounmpo\n",
    "        self.assertTrue(output >= 24)\n",
    "        output = task_16(201, 104) # Luka Doncic\n",
    "        self.assertTrue(output >= 25)\n",
    "    def test_task_17(self):\n",
    "        self.assertEqual(task_17(1000), '1,000.00')\n",
    "        self.assertEqual(task_17(10000), '10,000.00')\n",
    "        self.assertEqual(task_17(100000), '100,000.00')\n",
    "    def test_task_18(self):\n",
    "        self.assertFalse(task_18(-1))\n",
    "        self.assertFalse(task_18(0))\n",
    "        self.assertTrue(task_18(1))\n",
    "    def test_task_19(self):\n",
    "        self.assertFalse(task_19(9))\n",
    "        self.assertFalse(task_19(100))\n",
    "        self.assertTrue(task_19(99))\n",
    "        self.assertTrue(task_19(10))\n",
    "suite = unittest.TestLoader().loadTestsFromTestCase(TestTask1019)\n",
    "runner = unittest.TextTestRunner(verbosity=2)\n",
    "runner.run(suite)"
   ]
  },
  {
   "cell_type": "markdown",
   "id": "e6b52a34",
   "metadata": {
    "slideshow": {
     "slide_type": "slide"
    }
   },
   "source": [
    "## 資料結構\n",
    "\n",
    "- 起：任務 20\n",
    "- 迄：任務 39"
   ]
  },
  {
   "cell_type": "markdown",
   "id": "5b7a96a1",
   "metadata": {
    "slideshow": {
     "slide_type": "subslide"
    }
   },
   "source": [
    "## 什麼是資料結構\n",
    "\n",
    "> 資料結構是電腦儲存、組織以及取得資料的機制，可以透過程式語言所提供的類別與自行定義類別實現，一個設計良好的資料結構，會在盡可能使用較少的時間與空間資源下，支援各種程式執行。\n",
    "\n",
    "來源：<https://en.wikipedia.org/wiki/Data_structure>"
   ]
  },
  {
   "cell_type": "markdown",
   "id": "3ac76b82",
   "metadata": {
    "slideshow": {
     "slide_type": "subslide"
    }
   },
   "source": [
    "## 為什麼需要資料結構\n",
    "\n",
    "- 在資料科學家日常的工作任務中，資料處理佔有相當高的比例。\n",
    "- 需要有一個機制能夠協助他們輸入、處理最後輸出資料。\n",
    "- 這個「機制」就是**資料結構**。\n",
    "- 適當地選擇資料結構，讓資料科學家能夠有效率地儲存與取得資料。\n",
    "- 就像是將食物放置在冰箱、衣服放置在衣櫥、鞋子放置在鞋櫃。"
   ]
  },
  {
   "cell_type": "markdown",
   "id": "57a63db3",
   "metadata": {
    "slideshow": {
     "slide_type": "subslide"
    }
   },
   "source": [
    "## Python 內建的四個資料結構類別\n",
    "\n",
    "1. `list`\n",
    "2. `tuple`\n",
    "3. `dict`(dictionary)\n",
    "4. `set`"
   ]
  },
  {
   "cell_type": "markdown",
   "id": "1a729b98",
   "metadata": {
    "slideshow": {
     "slide_type": "subslide"
    }
   },
   "source": [
    "## `list`\n",
    "\n",
    "- `list` 是一種「有序」且能夠「更新」的資料結構。\n",
    "- `list` 可以透過「逗號」`,` 分隔值與「中括號」`[]` 形成。"
   ]
  },
  {
   "cell_type": "code",
   "execution_count": 43,
   "id": "b62e3495",
   "metadata": {},
   "outputs": [
    {
     "data": {
      "text/plain": [
       "list"
      ]
     },
     "execution_count": 43,
     "metadata": {},
     "output_type": "execute_result"
    }
   ],
   "source": [
    "primes = [2, 3, 5, 7, 11]\n",
    "type(primes)"
   ]
  },
  {
   "cell_type": "markdown",
   "id": "7645012a",
   "metadata": {
    "slideshow": {
     "slide_type": "subslide"
    }
   },
   "source": [
    "## 使用內建函數 `len()`  得知一個 `list` 中有幾個資料值"
   ]
  },
  {
   "cell_type": "code",
   "execution_count": 44,
   "id": "07bab2ea",
   "metadata": {},
   "outputs": [
    {
     "data": {
      "text/plain": [
       "5"
      ]
     },
     "execution_count": 44,
     "metadata": {},
     "output_type": "execute_result"
    }
   ],
   "source": [
    "len(primes)"
   ]
  },
  {
   "cell_type": "markdown",
   "id": "12a8784d",
   "metadata": {
    "slideshow": {
     "slide_type": "subslide"
    }
   },
   "source": [
    "## 從一個 `list` 中取出資料的方式有兩種\n",
    "\n",
    "1. **indexing** 指的是從一個 `list` 中取出特定位置的單個資料值。\n",
    "2. **slicing** 指的是從一個 `list` 中擷取特定片段。"
   ]
  },
  {
   "cell_type": "markdown",
   "id": "c7c297a7",
   "metadata": {
    "slideshow": {
     "slide_type": "subslide"
    }
   },
   "source": [
    "## indexing `[index]`\n",
    "\n",
    "`list` 採用兩個方向的索引機制：\n",
    "\n",
    "1. 由左至右：「從 0 開始」的索引機制。\n",
    "2. 由右至左：「從 -1 開始」的索引機制。"
   ]
  },
  {
   "cell_type": "code",
   "execution_count": 45,
   "id": "70ea7eb5",
   "metadata": {},
   "outputs": [
    {
     "name": "stdout",
     "output_type": "stream",
     "text": [
      "2\n",
      "3\n",
      "11\n",
      "7\n"
     ]
    }
   ],
   "source": [
    "print(primes[0])  # the first element\n",
    "print(primes[1])  # the second element\n",
    "print(primes[-1]) # the last element\n",
    "print(primes[-2]) # the second last element"
   ]
  },
  {
   "cell_type": "markdown",
   "id": "23f2edbe",
   "metadata": {
    "slideshow": {
     "slide_type": "subslide"
    }
   },
   "source": [
    "## slicing `[start:stop:step]`\n",
    "\n",
    "除了可以取出特定位置的單個資料值，`list` 也支援擷取特定片段，藉此獲得一個較短長度 `list` 的語法。\n",
    "\n",
    "- `start` 起始位置（包含）。\n",
    "- `stop` 終止位置（排除）。\n",
    "- `step` 間隔。"
   ]
  },
  {
   "cell_type": "code",
   "execution_count": 46,
   "id": "2bb541e9",
   "metadata": {},
   "outputs": [
    {
     "name": "stdout",
     "output_type": "stream",
     "text": [
      "[2, 3, 5]\n",
      "[5, 7, 11]\n",
      "[2, 5, 11]\n"
     ]
    }
   ],
   "source": [
    "print(primes[0:3:1])            # slicing the first 3 elements\n",
    "print(primes[-3:len(primes):1]) # slicing the last 3 elements \n",
    "print(primes[0:len(primes):2])  # slicing every second element"
   ]
  },
  {
   "cell_type": "markdown",
   "id": "127910ea",
   "metadata": {
    "slideshow": {
     "slide_type": "subslide"
    }
   },
   "source": [
    "## slicing 如果沒有指定 `start:stop:step` 就採用預設值\n",
    "\n",
    "- `start` 起始位置（包含）預設為 `0`。\n",
    "- `stop` 終止位置（排除）預設為 `list` 的長度。\n",
    "- `step` 間隔預設為 `1`。"
   ]
  },
  {
   "cell_type": "code",
   "execution_count": 47,
   "id": "9525cacd",
   "metadata": {},
   "outputs": [
    {
     "name": "stdout",
     "output_type": "stream",
     "text": [
      "[2, 3, 5]\n",
      "[5, 7, 11]\n",
      "[2, 5, 11]\n"
     ]
    }
   ],
   "source": [
    "print(primes[:3])  # slicing the first 3 elements\n",
    "print(primes[-3:]) # slicing the last 3 elements \n",
    "print(primes[::2]) # slicing every second element"
   ]
  },
  {
   "cell_type": "markdown",
   "id": "9c0e7dae",
   "metadata": {
    "slideshow": {
     "slide_type": "subslide"
    }
   },
   "source": [
    "## `str` 也適用 indexing 與 slicing"
   ]
  },
  {
   "cell_type": "code",
   "execution_count": 48,
   "id": "a18dfcc0",
   "metadata": {},
   "outputs": [
    {
     "name": "stdout",
     "output_type": "stream",
     "text": [
      "L\n",
      "r\n",
      "Luke\n",
      "Skywalker\n"
     ]
    }
   ],
   "source": [
    "luke_skywalker = \"Luke Skywalker\"\n",
    "print(luke_skywalker[0])\n",
    "print(luke_skywalker[-1])\n",
    "print(luke_skywalker[:4])\n",
    "print(luke_skywalker[5:])"
   ]
  },
  {
   "cell_type": "markdown",
   "id": "ce39251f",
   "metadata": {
    "slideshow": {
     "slide_type": "subslide"
    }
   },
   "source": [
    "## 更新 `list` 中的資料值"
   ]
  },
  {
   "cell_type": "code",
   "execution_count": 49,
   "id": "dcaf5698",
   "metadata": {},
   "outputs": [
    {
     "name": "stdout",
     "output_type": "stream",
     "text": [
      "[2, 3, 5, 7, 11]\n",
      "[2, 3, 5, 7, 13]\n"
     ]
    }
   ],
   "source": [
    "print(primes)   # before update\n",
    "primes[-1] = 13 # update\n",
    "print(primes)   # after update"
   ]
  },
  {
   "cell_type": "markdown",
   "id": "85859ca4",
   "metadata": {
    "slideshow": {
     "slide_type": "subslide"
    }
   },
   "source": [
    "## 也可以透過 `list` 的多種方法更新\n",
    "\n",
    "- `list.append()`\n",
    "- `list.pop()`\n",
    "- `list.remove()`\n",
    "- `list.insert()`\n",
    "- `list.sort()`\n",
    "- ...等。"
   ]
  },
  {
   "cell_type": "markdown",
   "id": "95f3267f",
   "metadata": {
    "slideshow": {
     "slide_type": "subslide"
    }
   },
   "source": [
    "## 查詢 `list` 方法的說明"
   ]
  },
  {
   "cell_type": "code",
   "execution_count": 50,
   "id": "41ebf759",
   "metadata": {},
   "outputs": [
    {
     "name": "stdout",
     "output_type": "stream",
     "text": [
      "Help on built-in function append:\n",
      "\n",
      "append(object, /) method of builtins.list instance\n",
      "    Append object to the end of the list.\n",
      "\n"
     ]
    }
   ],
   "source": [
    "help(primes.append)\n",
    "#primes.append() # 在小括號中按 Shift - Tab 查詢方法的說明"
   ]
  },
  {
   "cell_type": "markdown",
   "id": "f41a1ceb",
   "metadata": {
    "slideshow": {
     "slide_type": "subslide"
    }
   },
   "source": [
    "## `list` 支援的運算符\n",
    "\n",
    "- `+` 運算符：連接 lists\n",
    "- `*` 運算符：複製 `list` 中的元素。"
   ]
  },
  {
   "cell_type": "code",
   "execution_count": 51,
   "id": "ce99e609",
   "metadata": {},
   "outputs": [
    {
     "data": {
      "text/plain": [
       "[2, 3, 5, 7, 11, 13, 17, 19, 23, 29]"
      ]
     },
     "execution_count": 51,
     "metadata": {},
     "output_type": "execute_result"
    }
   ],
   "source": [
    "primes = [2, 3, 5, 7, 11]\n",
    "primes_to_concatenate = [13, 17, 19, 23, 29]\n",
    "primes + primes_to_concatenate"
   ]
  },
  {
   "cell_type": "code",
   "execution_count": 52,
   "id": "d11e5725",
   "metadata": {},
   "outputs": [
    {
     "name": "stdout",
     "output_type": "stream",
     "text": [
      "[2, 3, 5, 7, 11, 2, 3, 5, 7, 11]\n",
      "[13, 17, 19, 23, 29, 13, 17, 19, 23, 29, 13, 17, 19, 23, 29]\n"
     ]
    }
   ],
   "source": [
    "print(primes * 2)\n",
    "print(primes_to_concatenate * 3)"
   ]
  },
  {
   "cell_type": "markdown",
   "id": "a8a5a4ec",
   "metadata": {
    "slideshow": {
     "slide_type": "subslide"
    }
   },
   "source": [
    "## 在應用 `list` 的多種方法之前，先注意函數的兩種使用形式\n",
    "\n",
    "1. 對物件應用函數，語法為 `function(object)`\n",
    "2. 使用附屬於物件的函數，稱為使用物件的方法，語法為 `object.method()`"
   ]
  },
  {
   "cell_type": "markdown",
   "id": "62b9a5ad",
   "metadata": {
    "slideshow": {
     "slide_type": "subslide"
    }
   },
   "source": [
    "## 除了使用函數與方法的差異，也要留意物件更新的兩種方式\n",
    "\n",
    "1. 將更新的結果回傳（Return），物件本身維持不變。\n",
    "2. 更新物件本身並回傳 `None`"
   ]
  },
  {
   "cell_type": "markdown",
   "id": "1cfb1804",
   "metadata": {
    "slideshow": {
     "slide_type": "subslide"
    }
   },
   "source": [
    "## 兩種更新方式的範例：排序一個 `list`\n",
    "\n",
    "1. 使用內建函數 `sorted()` 採取將更新的結果回傳（Return），物件本身維持不變的更新方式。\n",
    "2. 使用 `list.sort()` 採取更新物件本身並回傳 `None` 的更新方式。"
   ]
  },
  {
   "cell_type": "code",
   "execution_count": 53,
   "id": "d0334cfd",
   "metadata": {
    "slideshow": {
     "slide_type": "subslide"
    }
   },
   "outputs": [
    {
     "name": "stdout",
     "output_type": "stream",
     "text": [
      "[11, 5, 7, 2, 3]\n",
      "[2, 3, 5, 7, 11]\n"
     ]
    }
   ],
   "source": [
    "unsorted_primes = [11, 5, 7, 2, 3]\n",
    "sorted_primes = sorted(unsorted_primes)\n",
    "print(unsorted_primes)\n",
    "print(sorted_primes)"
   ]
  },
  {
   "cell_type": "code",
   "execution_count": 54,
   "id": "00f7a673",
   "metadata": {},
   "outputs": [
    {
     "name": "stdout",
     "output_type": "stream",
     "text": [
      "[2, 3, 5, 7, 11]\n",
      "None\n"
     ]
    }
   ],
   "source": [
    "unsorted_primes = [11, 5, 7, 2, 3]\n",
    "sorted_primes = unsorted_primes.sort()\n",
    "print(unsorted_primes)\n",
    "print(sorted_primes)"
   ]
  },
  {
   "cell_type": "markdown",
   "id": "a2d29e6f",
   "metadata": {
    "slideshow": {
     "slide_type": "subslide"
    }
   },
   "source": [
    "## 如何判斷兩種更新方式\n",
    "\n",
    "- 詳細閱讀函數與方法的文件。\n",
    "- 注意函數與方法使用後儲存格是否有 Out 顯示。"
   ]
  },
  {
   "cell_type": "markdown",
   "id": "3b7220fe",
   "metadata": {
    "slideshow": {
     "slide_type": "subslide"
    }
   },
   "source": [
    "## 釐清兩種更新方式是至關重要的\n",
    "\n",
    "- 雖然是利用 `list` 作為範例，但不管任何的資料或者資料結構都適用。\n",
    "- 多數的函數更新機制都是回傳（Return），但並不是絕對。\n",
    "- 不論函數或者方法，都要詳細閱讀文件或注意使用後儲存格是否有 Out 顯示。"
   ]
  },
  {
   "cell_type": "markdown",
   "id": "cc7cadaa",
   "metadata": {
    "slideshow": {
     "slide_type": "subslide"
    }
   },
   "source": [
    "## `tuple`\n",
    "\n",
    "- `tuple` 是一種「有序」且「不能夠更新」的資料結構。\n",
    "- `tuple` 可以透過「逗號」`,` 分隔值與「小括號」`()` 形成。"
   ]
  },
  {
   "cell_type": "code",
   "execution_count": 55,
   "id": "14ce9e52",
   "metadata": {},
   "outputs": [
    {
     "data": {
      "text/plain": [
       "tuple"
      ]
     },
     "execution_count": 55,
     "metadata": {},
     "output_type": "execute_result"
    }
   ],
   "source": [
    "primes = (2, 3, 5, 7, 11)\n",
    "type(primes)"
   ]
  },
  {
   "cell_type": "markdown",
   "id": "34cf48c9",
   "metadata": {
    "slideshow": {
     "slide_type": "subslide"
    }
   },
   "source": [
    "## 使用內建函數 `len()`  得知一個 `tuple` 中有幾個資料值"
   ]
  },
  {
   "cell_type": "code",
   "execution_count": 56,
   "id": "02cbd1e7",
   "metadata": {},
   "outputs": [
    {
     "data": {
      "text/plain": [
       "5"
      ]
     },
     "execution_count": 56,
     "metadata": {},
     "output_type": "execute_result"
    }
   ],
   "source": [
    "len(primes)"
   ]
  },
  {
   "cell_type": "markdown",
   "id": "4085db02",
   "metadata": {
    "slideshow": {
     "slide_type": "subslide"
    }
   },
   "source": [
    "## `tuple` 在許多地方的表現與 `list` 相同，像是 indexing 以及 slicing"
   ]
  },
  {
   "cell_type": "code",
   "execution_count": 57,
   "id": "e8c13f1f",
   "metadata": {},
   "outputs": [
    {
     "name": "stdout",
     "output_type": "stream",
     "text": [
      "2\n",
      "(2, 3, 5)\n"
     ]
    }
   ],
   "source": [
    "print(primes[0])   # the first element\n",
    "print(primes[:3])  # slicing the first 3 elements"
   ]
  },
  {
   "cell_type": "markdown",
   "id": "ac907934",
   "metadata": {
    "slideshow": {
     "slide_type": "subslide"
    }
   },
   "source": [
    "## `tuple` 與 `list` 最大的不同點，在於 `tuple`「不能夠更新」的特性\n",
    "\n",
    "- 以更新 `list` 的語法更新 `tuple` 會產生錯誤。\n",
    "- `try…except…` 是例外處理的語法，之後會說明。"
   ]
  },
  {
   "cell_type": "code",
   "execution_count": 58,
   "id": "5a4490a6",
   "metadata": {},
   "outputs": [
    {
     "name": "stdout",
     "output_type": "stream",
     "text": [
      "'tuple' object does not support item assignment\n"
     ]
    }
   ],
   "source": [
    "try:\n",
    "    primes[-1] = 13\n",
    "except TypeError as error_message:\n",
    "    print(error_message)"
   ]
  },
  {
   "cell_type": "markdown",
   "id": "138b3a85",
   "metadata": {
    "slideshow": {
     "slide_type": "subslide"
    }
   },
   "source": [
    "## 在 Python 中有眾多的應用場景會遭遇到 `tuple`\n",
    "\n",
    "- 自行定義函數預設「多個輸出」的資料結構。\n",
    "- `dict.items()` 輸出。\n",
    "- 函數的彈性參數 `*args`\n",
    "- ...等。"
   ]
  },
  {
   "cell_type": "markdown",
   "id": "0eb92082",
   "metadata": {
    "slideshow": {
     "slide_type": "subslide"
    }
   },
   "source": [
    "## `dict`\n",
    "\n",
    "- `dict` 是一種使用「鍵值對應」關係的資料結構。\n",
    "- `dict` 可以透過「逗號」`,`、「鍵值對應」`key: value` 與「大括號」`{}` 形成。"
   ]
  },
  {
   "cell_type": "code",
   "execution_count": 59,
   "id": "545ae37d",
   "metadata": {},
   "outputs": [
    {
     "data": {
      "text/plain": [
       "dict"
      ]
     },
     "execution_count": 59,
     "metadata": {},
     "output_type": "execute_result"
    }
   ],
   "source": [
    "the_shawshank_redemption = {\n",
    "    \"title\": \"The Shawshank Redemption\",\n",
    "    \"year\": 1995,\n",
    "    \"rating\": 9.3,\n",
    "    \"director\": \"Frank Darabont\"\n",
    "}\n",
    "type(the_shawshank_redemption)"
   ]
  },
  {
   "cell_type": "markdown",
   "id": "04335503",
   "metadata": {
    "slideshow": {
     "slide_type": "subslide"
    }
   },
   "source": [
    "## 使用內建函數 `len()`  得知一個 `dict` 中有幾組鍵值對應"
   ]
  },
  {
   "cell_type": "code",
   "execution_count": 60,
   "id": "0c62a902",
   "metadata": {},
   "outputs": [
    {
     "data": {
      "text/plain": [
       "4"
      ]
     },
     "execution_count": 60,
     "metadata": {},
     "output_type": "execute_result"
    }
   ],
   "source": [
    "len(the_shawshank_redemption)"
   ]
  },
  {
   "cell_type": "markdown",
   "id": "1fddc806",
   "metadata": {
    "slideshow": {
     "slide_type": "subslide"
    }
   },
   "source": [
    "## `dict` 採用以「鍵」取「值」的索引機制\n",
    "\n",
    "```python\n",
    "dict[\"key\"]\n",
    "```"
   ]
  },
  {
   "cell_type": "code",
   "execution_count": 61,
   "id": "ab9c31af",
   "metadata": {},
   "outputs": [
    {
     "name": "stdout",
     "output_type": "stream",
     "text": [
      "The Shawshank Redemption\n",
      "1995\n",
      "9.3\n",
      "Frank Darabont\n"
     ]
    }
   ],
   "source": [
    "print(the_shawshank_redemption[\"title\"])\n",
    "print(the_shawshank_redemption[\"year\"])\n",
    "print(the_shawshank_redemption[\"rating\"])\n",
    "print(the_shawshank_redemption[\"director\"])"
   ]
  },
  {
   "cell_type": "markdown",
   "id": "f6abeb1e",
   "metadata": {
    "slideshow": {
     "slide_type": "subslide"
    }
   },
   "source": [
    "## 用來檢視 `dict` 的三個方法\n",
    "\n",
    "1. `dict.keys()` 檢視鍵。\n",
    "2. `dict.values()` 檢視值。\n",
    "3. `dict.items()` 檢視鍵值對應。"
   ]
  },
  {
   "cell_type": "code",
   "execution_count": 62,
   "id": "37efb6e9",
   "metadata": {},
   "outputs": [
    {
     "name": "stdout",
     "output_type": "stream",
     "text": [
      "dict_keys(['title', 'year', 'rating', 'director'])\n",
      "dict_values(['The Shawshank Redemption', 1995, 9.3, 'Frank Darabont'])\n",
      "dict_items([('title', 'The Shawshank Redemption'), ('year', 1995), ('rating', 9.3), ('director', 'Frank Darabont')])\n"
     ]
    }
   ],
   "source": [
    "print(the_shawshank_redemption.keys())\n",
    "print(the_shawshank_redemption.values())\n",
    "print(the_shawshank_redemption.items())  # (key, value) as a tuple"
   ]
  },
  {
   "cell_type": "markdown",
   "id": "3e265910",
   "metadata": {
    "slideshow": {
     "slide_type": "subslide"
    }
   },
   "source": [
    "## 新增 `dict` 中的鍵值對應"
   ]
  },
  {
   "cell_type": "code",
   "execution_count": 63,
   "id": "759c5ac9",
   "metadata": {},
   "outputs": [
    {
     "data": {
      "text/plain": [
       "{'title': 'The Shawshank Redemption',\n",
       " 'year': 1995,\n",
       " 'rating': 9.3,\n",
       " 'director': 'Frank Darabont',\n",
       " 'lead_actors': ['Tim Robbins', 'Morgan Freeman']}"
      ]
     },
     "execution_count": 63,
     "metadata": {},
     "output_type": "execute_result"
    }
   ],
   "source": [
    "the_shawshank_redemption['lead_actors'] = ['Tim Robbins', 'Morgan Freeman']\n",
    "the_shawshank_redemption"
   ]
  },
  {
   "cell_type": "markdown",
   "id": "bda341cb",
   "metadata": {
    "slideshow": {
     "slide_type": "subslide"
    }
   },
   "source": [
    "## 使用 `del` 保留字刪除 `dict` 中的鍵值對應"
   ]
  },
  {
   "cell_type": "code",
   "execution_count": 64,
   "id": "71ba8d04",
   "metadata": {},
   "outputs": [
    {
     "data": {
      "text/plain": [
       "{'title': 'The Shawshank Redemption',\n",
       " 'year': 1995,\n",
       " 'rating': 9.3,\n",
       " 'director': 'Frank Darabont'}"
      ]
     },
     "execution_count": 64,
     "metadata": {},
     "output_type": "execute_result"
    }
   ],
   "source": [
    "del the_shawshank_redemption['lead_actors']\n",
    "the_shawshank_redemption"
   ]
  },
  {
   "cell_type": "markdown",
   "id": "d87dfc39",
   "metadata": {
    "slideshow": {
     "slide_type": "subslide"
    }
   },
   "source": [
    "## 指定 `dict` 的「鍵」更新「值」"
   ]
  },
  {
   "cell_type": "code",
   "execution_count": 65,
   "id": "eae83e6a",
   "metadata": {},
   "outputs": [
    {
     "data": {
      "text/plain": [
       "{'title': 'The Shawshank Redemption',\n",
       " 'year': 1994,\n",
       " 'rating': 9.3,\n",
       " 'director': 'Frank Darabont'}"
      ]
     },
     "execution_count": 65,
     "metadata": {},
     "output_type": "execute_result"
    }
   ],
   "source": [
    "the_shawshank_redemption[\"year\"] = 1994\n",
    "the_shawshank_redemption"
   ]
  },
  {
   "cell_type": "markdown",
   "id": "215ede3a",
   "metadata": {
    "slideshow": {
     "slide_type": "subslide"
    }
   },
   "source": [
    "## `set`\n",
    "\n",
    "- `set` 是一種「無序」、儲存「獨一值」並且能夠進行「集合運算」的資料結構。\n",
    "- `set` 可以透過「逗號」`,` 分隔值與「大括號」`{}` 形成。"
   ]
  },
  {
   "cell_type": "code",
   "execution_count": 66,
   "id": "cb41122f",
   "metadata": {},
   "outputs": [
    {
     "name": "stdout",
     "output_type": "stream",
     "text": [
      "<class 'set'>\n",
      "<class 'set'>\n"
     ]
    }
   ],
   "source": [
    "primes = {2, 3, 5, 7, 7}  # 7 is duplicated\n",
    "odds = {1, 3, 5, 7, 9, 9} # 9 is duplicated\n",
    "print(type(primes))\n",
    "print(type(odds))"
   ]
  },
  {
   "cell_type": "markdown",
   "id": "52cb458c",
   "metadata": {
    "slideshow": {
     "slide_type": "subslide"
    }
   },
   "source": [
    "## 使用內建函數 `len()`  得知一個 `set` 中有幾個獨一值"
   ]
  },
  {
   "cell_type": "code",
   "execution_count": 67,
   "id": "4dfcf125",
   "metadata": {},
   "outputs": [
    {
     "name": "stdout",
     "output_type": "stream",
     "text": [
      "4\n",
      "{2, 3, 5, 7}\n",
      "5\n",
      "{1, 3, 5, 7, 9}\n"
     ]
    }
   ],
   "source": [
    "print(len(primes))\n",
    "print(primes)\n",
    "print(len(odds))\n",
    "print(odds)"
   ]
  },
  {
   "cell_type": "markdown",
   "id": "e931300f",
   "metadata": {
    "slideshow": {
     "slide_type": "subslide"
    }
   },
   "source": [
    "## `set` 重要的兩個特性\n",
    "\n",
    "1. 不支援 indexing\n",
    "2. 支援集合運算（Set operations）。"
   ]
  },
  {
   "cell_type": "markdown",
   "id": "408486b5",
   "metadata": {
    "slideshow": {
     "slide_type": "subslide"
    }
   },
   "source": [
    "## `set` 不支援 indexing"
   ]
  },
  {
   "cell_type": "code",
   "execution_count": 68,
   "id": "24ac24df",
   "metadata": {},
   "outputs": [
    {
     "name": "stdout",
     "output_type": "stream",
     "text": [
      "'set' object is not subscriptable\n"
     ]
    }
   ],
   "source": [
    "try:\n",
    "    primes[0]\n",
    "except TypeError as error_message:\n",
    "    print(error_message)"
   ]
  },
  {
   "cell_type": "markdown",
   "id": "56c1b850",
   "metadata": {
    "slideshow": {
     "slide_type": "subslide"
    }
   },
   "source": [
    "## `set` 支援集合運算\n",
    "\n",
    "- 使用集合運算符（Set operators）。\n",
    "- 使用 `set` 類別的方法。"
   ]
  },
  {
   "cell_type": "markdown",
   "id": "7d3d0124",
   "metadata": {
    "slideshow": {
     "slide_type": "subslide"
    }
   },
   "source": [
    "## 常用的集合運算\n",
    "\n",
    "- 交集。\n",
    "- 聯集。\n",
    "- 差集。\n",
    "- 對稱差集。"
   ]
  },
  {
   "cell_type": "markdown",
   "id": "6e826422",
   "metadata": {
    "slideshow": {
     "slide_type": "subslide"
    }
   },
   "source": [
    "## 使用 `&` 交集運算符或者 `set.intersection()` 方法"
   ]
  },
  {
   "cell_type": "code",
   "execution_count": 69,
   "id": "8d281c1c",
   "metadata": {},
   "outputs": [
    {
     "name": "stdout",
     "output_type": "stream",
     "text": [
      "{3, 5, 7}\n",
      "{3, 5, 7}\n"
     ]
    }
   ],
   "source": [
    "print(primes & odds)             # with an operator\n",
    "print(primes.intersection(odds)) # equivalently with a method"
   ]
  },
  {
   "cell_type": "markdown",
   "id": "c10b388c",
   "metadata": {
    "slideshow": {
     "slide_type": "subslide"
    }
   },
   "source": [
    "## 使用 `|` 聯集運算符或者 `set.union()` 方法"
   ]
  },
  {
   "cell_type": "code",
   "execution_count": 70,
   "id": "155d14ff",
   "metadata": {},
   "outputs": [
    {
     "name": "stdout",
     "output_type": "stream",
     "text": [
      "{1, 2, 3, 5, 7, 9}\n",
      "{1, 2, 3, 5, 7, 9}\n"
     ]
    }
   ],
   "source": [
    "print(primes | odds)      # with an operator\n",
    "print(primes.union(odds)) # equivalently with a method"
   ]
  },
  {
   "cell_type": "markdown",
   "id": "c42a3ac3",
   "metadata": {
    "slideshow": {
     "slide_type": "subslide"
    }
   },
   "source": [
    "## 使用 `-` 差集運算符或者 `set.difference()` 方法"
   ]
  },
  {
   "cell_type": "code",
   "execution_count": 71,
   "id": "53232445",
   "metadata": {},
   "outputs": [
    {
     "name": "stdout",
     "output_type": "stream",
     "text": [
      "{2}\n",
      "{2}\n",
      "{1, 9}\n",
      "{1, 9}\n"
     ]
    }
   ],
   "source": [
    "print(primes - odds)           # with an operator\n",
    "print(primes.difference(odds)) # equivalently with a method\n",
    "print(odds - primes)           # with an operator\n",
    "print(odds.difference(primes)) # equivalently with a method"
   ]
  },
  {
   "cell_type": "markdown",
   "id": "72d924c6",
   "metadata": {
    "slideshow": {
     "slide_type": "subslide"
    }
   },
   "source": [
    "## 使用 `^` 對稱差集運算符或者 `set.symmetric_difference()` 方法"
   ]
  },
  {
   "cell_type": "code",
   "execution_count": 72,
   "id": "57be7e25",
   "metadata": {},
   "outputs": [
    {
     "name": "stdout",
     "output_type": "stream",
     "text": [
      "{1, 2, 9}\n",
      "{1, 2, 9}\n"
     ]
    }
   ],
   "source": [
    "print(primes ^ odds)                      # with an operator\n",
    "print(primes.symmetric_difference(odds))  # equivalently with a method"
   ]
  },
  {
   "cell_type": "markdown",
   "id": "4e9082fb",
   "metadata": {
    "slideshow": {
     "slide_type": "subslide"
    }
   },
   "source": [
    "## 資料結構類別判斷的兩種方式\n",
    "\n",
    "1. 將 `type()` 函數的輸出與資料結構類別名稱比較。\n",
    "2. 透過內建函數 `isinstance()` 判斷。"
   ]
  },
  {
   "cell_type": "markdown",
   "id": "2bb24f92",
   "metadata": {
    "slideshow": {
     "slide_type": "subslide"
    }
   },
   "source": [
    "## 資料結構類別可以透過內建函數 `isinstance()` 判斷\n",
    "\n",
    "`isinstance(x, classinfo)` 函數判斷輸入物件 `x` 是否為某個資料結構類別的實例，其中 `classinfo` 參數輸入欲判斷的資料結構類別名稱。"
   ]
  },
  {
   "cell_type": "markdown",
   "id": "a2630276",
   "metadata": {
    "slideshow": {
     "slide_type": "subslide"
    }
   },
   "source": [
    "## 資料結構類別可以透過與其同名的內建函數轉換\n",
    "\n",
    "- `list()` 可以將輸入資料結構轉換為 `list`。\n",
    "- `tuple()` 可以將輸入資料結構轉換為 `tuple`。\n",
    "- `dict()` 可以將輸入資料結構轉換為 `dict`。\n",
    "- `set()` 可以將輸入資料結構轉換為 `set`。"
   ]
  },
  {
   "cell_type": "markdown",
   "id": "d6871e6e",
   "metadata": {
    "slideshow": {
     "slide_type": "subslide"
    }
   },
   "source": [
    "## 任務 21：`DataFrame` 是 Python 內建的資料結構類別"
   ]
  },
  {
   "cell_type": "code",
   "execution_count": 73,
   "id": "d458f164",
   "metadata": {},
   "outputs": [],
   "source": [
    "def task_21() -> bool:\n",
    "    # 寫作\n",
    "    return None\n",
    "    # 寫作"
   ]
  },
  {
   "cell_type": "markdown",
   "id": "48cb2f6e",
   "metadata": {
    "slideshow": {
     "slide_type": "subslide"
    }
   },
   "source": [
    "## 任務 22：`list` 與 `tuple` 是兩種完全相同的資料結構類別"
   ]
  },
  {
   "cell_type": "code",
   "execution_count": 74,
   "id": "5e8e7d68",
   "metadata": {},
   "outputs": [],
   "source": [
    "def task_22() -> bool:\n",
    "    # 寫作\n",
    "    return None\n",
    "    # 寫作"
   ]
  },
  {
   "cell_type": "markdown",
   "id": "f788eca0",
   "metadata": {
    "slideshow": {
     "slide_type": "subslide"
    }
   },
   "source": [
    "## 任務 23：下列何者不屬於 Python 內建的資料結構類別？\n",
    "\n",
    "1. `ndarray`\n",
    "2. `list`\n",
    "3. `dict`\n",
    "4. `set`"
   ]
  },
  {
   "cell_type": "code",
   "execution_count": 75,
   "id": "2bf56065",
   "metadata": {},
   "outputs": [],
   "source": [
    "def task_23() -> int:\n",
    "    # 寫作\n",
    "    return None\n",
    "    # 寫作"
   ]
  },
  {
   "cell_type": "markdown",
   "id": "35a4f561",
   "metadata": {
    "slideshow": {
     "slide_type": "subslide"
    }
   },
   "source": [
    "## 任務 24：下列程式碼會印出什麼樣的結果？\n",
    "\n",
    "```python\n",
    "odds = [1, 3, 5, 7, 9]\n",
    "print(odds[-2])\n",
    "```\n",
    "\n",
    "1. `[1, 3, 7, 9]`\n",
    "2. `7`\n",
    "3. `[7]`\n",
    "4. `[7, 9]`"
   ]
  },
  {
   "cell_type": "code",
   "execution_count": 76,
   "id": "6b85283f",
   "metadata": {},
   "outputs": [],
   "source": [
    "def task_24() -> int:\n",
    "    # 寫作\n",
    "    return None\n",
    "    # 寫作"
   ]
  },
  {
   "cell_type": "markdown",
   "id": "fc0b095e",
   "metadata": {
    "slideshow": {
     "slide_type": "subslide"
    }
   },
   "source": [
    "## 任務 25：下列程式碼會印出什麼樣的結果？\n",
    "\n",
    "```python\n",
    "odds = [3, 5, 1, 9, 7]\n",
    "sorted(odds)\n",
    "print(odds)\n",
    "```\n",
    "\n",
    "1. `[1, 3, 5, 7, 9]`\n",
    "2. `[9, 7, 5, 3, 1]`\n",
    "3. `[7, 9, 1, 5, 3]`\n",
    "4. `[3, 5, 1, 9, 7]`"
   ]
  },
  {
   "cell_type": "code",
   "execution_count": 77,
   "id": "a4f042ee",
   "metadata": {},
   "outputs": [],
   "source": [
    "def task_25() -> int:\n",
    "    # 寫作\n",
    "    return None\n",
    "    # 寫作"
   ]
  },
  {
   "cell_type": "markdown",
   "id": "0ba726c2",
   "metadata": {
    "slideshow": {
     "slide_type": "subslide"
    }
   },
   "source": [
    "## 測試：任務 20-39"
   ]
  },
  {
   "cell_type": "code",
   "execution_count": 78,
   "id": "048d575a",
   "metadata": {},
   "outputs": [
    {
     "name": "stderr",
     "output_type": "stream",
     "text": [
      "test_task_20 (__main__.TestTask2039) ... ERROR\n",
      "test_task_21 (__main__.TestTask2039) ... FAIL\n",
      "test_task_22 (__main__.TestTask2039) ... FAIL\n",
      "test_task_23 (__main__.TestTask2039) ... FAIL\n",
      "test_task_24 (__main__.TestTask2039) ... FAIL\n",
      "test_task_25 (__main__.TestTask2039) ... ERROR\n",
      "test_task_26 (__main__.TestTask2039) ... ERROR\n",
      "test_task_27 (__main__.TestTask2039) ... FAIL\n",
      "test_task_28 (__main__.TestTask2039) ... FAIL\n",
      "test_task_29 (__main__.TestTask2039) ... FAIL\n",
      "\n",
      "======================================================================\n",
      "ERROR: test_task_20 (__main__.TestTask2039)\n",
      "----------------------------------------------------------------------\n",
      "Traceback (most recent call last):\n",
      "  File \"/var/folders/0b/r__z5mpn6ldgb_w2j7_y_ntr0000gn/T/ipykernel_30368/531508529.py\", line 5, in test_task_20\n",
      "    output = task_20()\n",
      "NameError: name 'task_20' is not defined\n",
      "\n",
      "======================================================================\n",
      "ERROR: test_task_25 (__main__.TestTask2039)\n",
      "----------------------------------------------------------------------\n",
      "Traceback (most recent call last):\n",
      "  File \"/var/folders/0b/r__z5mpn6ldgb_w2j7_y_ntr0000gn/T/ipykernel_30368/531508529.py\", line 20, in test_task_25\n",
      "    self.assertTrue(output >= 26.2)\n",
      "TypeError: '>=' not supported between instances of 'NoneType' and 'float'\n",
      "\n",
      "======================================================================\n",
      "ERROR: test_task_26 (__main__.TestTask2039)\n",
      "----------------------------------------------------------------------\n",
      "Traceback (most recent call last):\n",
      "  File \"/var/folders/0b/r__z5mpn6ldgb_w2j7_y_ntr0000gn/T/ipykernel_30368/531508529.py\", line 25, in test_task_26\n",
      "    self.assertTrue(output >= 26)\n",
      "TypeError: '>=' not supported between instances of 'NoneType' and 'int'\n",
      "\n",
      "======================================================================\n",
      "FAIL: test_task_21 (__main__.TestTask2039)\n",
      "----------------------------------------------------------------------\n",
      "Traceback (most recent call last):\n",
      "  File \"/var/folders/0b/r__z5mpn6ldgb_w2j7_y_ntr0000gn/T/ipykernel_30368/531508529.py\", line 10, in test_task_21\n",
      "    self.assertIsInstance(output, bool)\n",
      "AssertionError: None is not an instance of <class 'bool'>\n",
      "\n",
      "======================================================================\n",
      "FAIL: test_task_22 (__main__.TestTask2039)\n",
      "----------------------------------------------------------------------\n",
      "Traceback (most recent call last):\n",
      "  File \"/var/folders/0b/r__z5mpn6ldgb_w2j7_y_ntr0000gn/T/ipykernel_30368/531508529.py\", line 13, in test_task_22\n",
      "    self.assertEqual(task_22(), 1)\n",
      "AssertionError: None != 1\n",
      "\n",
      "======================================================================\n",
      "FAIL: test_task_23 (__main__.TestTask2039)\n",
      "----------------------------------------------------------------------\n",
      "Traceback (most recent call last):\n",
      "  File \"/var/folders/0b/r__z5mpn6ldgb_w2j7_y_ntr0000gn/T/ipykernel_30368/531508529.py\", line 15, in test_task_23\n",
      "    self.assertEqual(task_23(), 2)\n",
      "AssertionError: None != 2\n",
      "\n",
      "======================================================================\n",
      "FAIL: test_task_24 (__main__.TestTask2039)\n",
      "----------------------------------------------------------------------\n",
      "Traceback (most recent call last):\n",
      "  File \"/var/folders/0b/r__z5mpn6ldgb_w2j7_y_ntr0000gn/T/ipykernel_30368/531508529.py\", line 17, in test_task_24\n",
      "    self.assertEqual(task_24(), 4)\n",
      "AssertionError: None != 4\n",
      "\n",
      "======================================================================\n",
      "FAIL: test_task_27 (__main__.TestTask2039)\n",
      "----------------------------------------------------------------------\n",
      "Traceback (most recent call last):\n",
      "  File \"/var/folders/0b/r__z5mpn6ldgb_w2j7_y_ntr0000gn/T/ipykernel_30368/531508529.py\", line 31, in test_task_27\n",
      "    self.assertEqual(task_17(1000), '1,000.00')\n",
      "AssertionError: None != '1,000.00'\n",
      "\n",
      "======================================================================\n",
      "FAIL: test_task_28 (__main__.TestTask2039)\n",
      "----------------------------------------------------------------------\n",
      "Traceback (most recent call last):\n",
      "  File \"/var/folders/0b/r__z5mpn6ldgb_w2j7_y_ntr0000gn/T/ipykernel_30368/531508529.py\", line 62, in test_task_28\n",
      "    self.assertTrue(task_18(1))\n",
      "AssertionError: None is not true\n",
      "\n",
      "======================================================================\n",
      "FAIL: test_task_29 (__main__.TestTask2039)\n",
      "----------------------------------------------------------------------\n",
      "Traceback (most recent call last):\n",
      "  File \"/var/folders/0b/r__z5mpn6ldgb_w2j7_y_ntr0000gn/T/ipykernel_30368/531508529.py\", line 41, in test_task_29\n",
      "    self.assertTrue(task_19(99))\n",
      "AssertionError: None is not true\n",
      "\n",
      "----------------------------------------------------------------------\n",
      "Ran 10 tests in 0.033s\n",
      "\n",
      "FAILED (failures=7, errors=3)\n"
     ]
    },
    {
     "data": {
      "text/plain": [
       "<unittest.runner.TextTestResult run=10 errors=3 failures=7>"
      ]
     },
     "execution_count": 78,
     "metadata": {},
     "output_type": "execute_result"
    }
   ],
   "source": [
    "import unittest\n",
    "# 測試\n",
    "class TestTask2039(unittest.TestCase):\n",
    "    def test_task_20(self):\n",
    "        output = task_20()\n",
    "        self.assertIsInstance(output, bool)\n",
    "        self.assertFalse(output)\n",
    "    def test_task_21(self):\n",
    "        output = task_21()\n",
    "        self.assertIsInstance(output, bool)\n",
    "        self.assertFalse(output)\n",
    "    def test_task_22(self):\n",
    "        self.assertEqual(task_22(), 1)\n",
    "    def test_task_23(self):\n",
    "        self.assertEqual(task_23(), 2)\n",
    "    def test_task_24(self):\n",
    "        self.assertEqual(task_24(), 4)\n",
    "    def test_task_25(self):\n",
    "        output = task_15(42.195) # a full marathon\n",
    "        self.assertTrue(output >= 26.2)\n",
    "        output = task_15(21.095) # a half marathon\n",
    "        self.assertTrue(output >= 13.1)\n",
    "    def test_task_26(self):\n",
    "        output = task_16(206, 113) # LeBron James\n",
    "        self.assertTrue(output >= 26)\n",
    "        output = task_16(211, 110) # Giannis Antetokounmpo\n",
    "        self.assertTrue(output >= 24)\n",
    "        output = task_16(201, 104) # Luka Doncic\n",
    "        self.assertTrue(output >= 25)\n",
    "    def test_task_27(self):\n",
    "        self.assertEqual(task_17(1000), '1,000.00')\n",
    "        self.assertEqual(task_17(10000), '10,000.00')\n",
    "        self.assertEqual(task_17(100000), '100,000.00')\n",
    "    def test_task_28(self):\n",
    "        self.assertFalse(task_18(-1))\n",
    "        self.assertFalse(task_18(0))\n",
    "        self.assertTrue(task_18(1))\n",
    "    def test_task_29(self):\n",
    "        self.assertFalse(task_19(9))\n",
    "        self.assertFalse(task_19(100))\n",
    "        self.assertTrue(task_19(99))\n",
    "        self.assertTrue(task_19(10))\n",
    "    def test_task_28(self):\n",
    "        self.assertFalse(task_18(-1))\n",
    "        self.assertFalse(task_18(0))\n",
    "        self.assertTrue(task_18(1))\n",
    "    def test_task_28(self):\n",
    "        self.assertFalse(task_18(-1))\n",
    "        self.assertFalse(task_18(0))\n",
    "        self.assertTrue(task_18(1))\n",
    "    def test_task_28(self):\n",
    "        self.assertFalse(task_18(-1))\n",
    "        self.assertFalse(task_18(0))\n",
    "        self.assertTrue(task_18(1))\n",
    "    def test_task_28(self):\n",
    "        self.assertFalse(task_18(-1))\n",
    "        self.assertFalse(task_18(0))\n",
    "        self.assertTrue(task_18(1))\n",
    "    def test_task_28(self):\n",
    "        self.assertFalse(task_18(-1))\n",
    "        self.assertFalse(task_18(0))\n",
    "        self.assertTrue(task_18(1))\n",
    "suite = unittest.TestLoader().loadTestsFromTestCase(TestTask2039)\n",
    "runner = unittest.TextTestRunner(verbosity=2)\n",
    "runner.run(suite)"
   ]
  }
 ],
 "metadata": {
  "celltoolbar": "Slideshow",
  "kernelspec": {
   "display_name": "Python 3 (ipykernel)",
   "language": "python",
   "name": "python3"
  },
  "language_info": {
   "codemirror_mode": {
    "name": "ipython",
    "version": 3
   },
   "file_extension": ".py",
   "mimetype": "text/x-python",
   "name": "python",
   "nbconvert_exporter": "python",
   "pygments_lexer": "ipython3",
   "version": "3.9.12"
  }
 },
 "nbformat": 4,
 "nbformat_minor": 5
}
